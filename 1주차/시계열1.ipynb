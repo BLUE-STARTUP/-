{
 "cells": [
  {
   "cell_type": "code",
   "execution_count": 1,
   "id": "3e3223de-d645-4535-b039-c44e545ed745",
   "metadata": {
    "execution": {
     "iopub.execute_input": "2022-01-03T04:00:05.066132Z",
     "iopub.status.busy": "2022-01-03T04:00:05.065575Z",
     "iopub.status.idle": "2022-01-03T04:00:07.927807Z",
     "shell.execute_reply": "2022-01-03T04:00:07.926596Z",
     "shell.execute_reply.started": "2022-01-03T04:00:05.065980Z"
    },
    "tags": []
   },
   "outputs": [],
   "source": [
    "import pandas as pd\n",
    "import numpy as np\n",
    "import matplotlib.pyplot as plt\n",
    "import matplotlib as mpl\n",
    "import seaborn as sns\n",
    "\n",
    "from pylab import rcParams\n",
    "import statsmodels.tsa.api as tsa\n",
    "\n",
    "from keras.models import Sequential\n",
    "from keras.layers import Dense"
   ]
  },
  {
   "cell_type": "code",
   "execution_count": 2,
   "id": "e4e88a76-ea45-4763-b7c7-222f03160c78",
   "metadata": {
    "execution": {
     "iopub.execute_input": "2022-01-03T04:00:07.928874Z",
     "iopub.status.busy": "2022-01-03T04:00:07.928720Z",
     "iopub.status.idle": "2022-01-03T04:00:07.932096Z",
     "shell.execute_reply": "2022-01-03T04:00:07.931545Z",
     "shell.execute_reply.started": "2022-01-03T04:00:07.928855Z"
    },
    "tags": []
   },
   "outputs": [],
   "source": [
    "path = '/KWATER/data/csv/'"
   ]
  },
  {
   "cell_type": "code",
   "execution_count": 3,
   "id": "3972388a-b5f9-4baa-83b5-9a0971191825",
   "metadata": {
    "execution": {
     "iopub.execute_input": "2022-01-03T04:00:07.933331Z",
     "iopub.status.busy": "2022-01-03T04:00:07.933186Z",
     "iopub.status.idle": "2022-01-03T04:00:09.901930Z",
     "shell.execute_reply": "2022-01-03T04:00:09.901322Z",
     "shell.execute_reply.started": "2022-01-03T04:00:07.933314Z"
    },
    "tags": []
   },
   "outputs": [
    {
     "data": {
      "text/html": [
       "<div>\n",
       "<style scoped>\n",
       "    .dataframe tbody tr th:only-of-type {\n",
       "        vertical-align: middle;\n",
       "    }\n",
       "\n",
       "    .dataframe tbody tr th {\n",
       "        vertical-align: top;\n",
       "    }\n",
       "\n",
       "    .dataframe thead th {\n",
       "        text-align: right;\n",
       "    }\n",
       "</style>\n",
       "<table border=\"1\" class=\"dataframe\">\n",
       "  <thead>\n",
       "    <tr style=\"text-align: right;\">\n",
       "      <th></th>\n",
       "      <th>AHSWGS0.745-617-CLI-2002.F_CV</th>\n",
       "      <th>2017-02-08 17:45:15</th>\n",
       "      <th>0</th>\n",
       "      <th>100</th>\n",
       "    </tr>\n",
       "  </thead>\n",
       "  <tbody>\n",
       "    <tr>\n",
       "      <th>0</th>\n",
       "      <td>AHSWGS0.745-617-CLI-2002.F_CV</td>\n",
       "      <td>2017-02-08 17:46:00</td>\n",
       "      <td>0.0</td>\n",
       "      <td>100</td>\n",
       "    </tr>\n",
       "    <tr>\n",
       "      <th>1</th>\n",
       "      <td>AHSWGS0.745-617-CLI-2002.F_CV</td>\n",
       "      <td>2017-02-08 17:47:00</td>\n",
       "      <td>0.0</td>\n",
       "      <td>100</td>\n",
       "    </tr>\n",
       "    <tr>\n",
       "      <th>2</th>\n",
       "      <td>AHSWGS0.745-617-CLI-2002.F_CV</td>\n",
       "      <td>2017-02-08 17:48:00</td>\n",
       "      <td>0.0</td>\n",
       "      <td>100</td>\n",
       "    </tr>\n",
       "    <tr>\n",
       "      <th>3</th>\n",
       "      <td>AHSWGS0.745-617-CLI-2002.F_CV</td>\n",
       "      <td>2017-02-08 17:49:00</td>\n",
       "      <td>0.0</td>\n",
       "      <td>100</td>\n",
       "    </tr>\n",
       "    <tr>\n",
       "      <th>4</th>\n",
       "      <td>AHSWGS0.745-617-CLI-2002.F_CV</td>\n",
       "      <td>2017-02-08 17:50:00</td>\n",
       "      <td>0.0</td>\n",
       "      <td>100</td>\n",
       "    </tr>\n",
       "  </tbody>\n",
       "</table>\n",
       "</div>"
      ],
      "text/plain": [
       "   AHSWGS0.745-617-CLI-2002.F_CV  2017-02-08 17:45:15    0  100\n",
       "0  AHSWGS0.745-617-CLI-2002.F_CV  2017-02-08 17:46:00  0.0  100\n",
       "1  AHSWGS0.745-617-CLI-2002.F_CV  2017-02-08 17:47:00  0.0  100\n",
       "2  AHSWGS0.745-617-CLI-2002.F_CV  2017-02-08 17:48:00  0.0  100\n",
       "3  AHSWGS0.745-617-CLI-2002.F_CV  2017-02-08 17:49:00  0.0  100\n",
       "4  AHSWGS0.745-617-CLI-2002.F_CV  2017-02-08 17:50:00  0.0  100"
      ]
     },
     "execution_count": 3,
     "metadata": {},
     "output_type": "execute_result"
    }
   ],
   "source": [
    "df1 = pd.read_csv(path+'AHSWGS0.745-617-CLI-2002.F_CV.csv')\n",
    "df1.head()"
   ]
  },
  {
   "cell_type": "code",
   "execution_count": 4,
   "id": "bbc2c417-25aa-4c4d-8fca-347cff49f423",
   "metadata": {
    "execution": {
     "iopub.execute_input": "2022-01-03T04:00:09.903201Z",
     "iopub.status.busy": "2022-01-03T04:00:09.903044Z",
     "iopub.status.idle": "2022-01-03T04:00:09.907185Z",
     "shell.execute_reply": "2022-01-03T04:00:09.906659Z",
     "shell.execute_reply.started": "2022-01-03T04:00:09.903180Z"
    },
    "tags": []
   },
   "outputs": [
    {
     "data": {
      "text/plain": [
       "(2501697, 4)"
      ]
     },
     "execution_count": 4,
     "metadata": {},
     "output_type": "execute_result"
    }
   ],
   "source": [
    "df1.shape"
   ]
  },
  {
   "cell_type": "code",
   "execution_count": 5,
   "id": "570a2166-5a8c-440f-8b31-bb4ffb73e7fc",
   "metadata": {
    "execution": {
     "iopub.execute_input": "2022-01-03T04:00:09.908023Z",
     "iopub.status.busy": "2022-01-03T04:00:09.907870Z",
     "iopub.status.idle": "2022-01-03T04:00:09.916903Z",
     "shell.execute_reply": "2022-01-03T04:00:09.916357Z",
     "shell.execute_reply.started": "2022-01-03T04:00:09.908004Z"
    },
    "tags": []
   },
   "outputs": [
    {
     "name": "stdout",
     "output_type": "stream",
     "text": [
      "<class 'pandas.core.frame.DataFrame'>\n",
      "RangeIndex: 2501697 entries, 0 to 2501696\n",
      "Data columns (total 4 columns):\n",
      " #   Column                         Dtype  \n",
      "---  ------                         -----  \n",
      " 0   AHSWGS0.745-617-CLI-2002.F_CV  object \n",
      " 1   2017-02-08 17:45:15            object \n",
      " 2   0                              float64\n",
      " 3   100                            int64  \n",
      "dtypes: float64(1), int64(1), object(2)\n",
      "memory usage: 76.3+ MB\n"
     ]
    }
   ],
   "source": [
    "df1.info()"
   ]
  },
  {
   "cell_type": "code",
   "execution_count": 6,
   "id": "e0bc86f8-0279-4522-806b-e6338d0c49a2",
   "metadata": {
    "execution": {
     "iopub.execute_input": "2022-01-03T04:00:09.917694Z",
     "iopub.status.busy": "2022-01-03T04:00:09.917553Z",
     "iopub.status.idle": "2022-01-03T04:00:09.920999Z",
     "shell.execute_reply": "2022-01-03T04:00:09.920503Z",
     "shell.execute_reply.started": "2022-01-03T04:00:09.917677Z"
    },
    "tags": []
   },
   "outputs": [],
   "source": [
    "df1.columns = ['이름', '요일', 'X값', '고정값']"
   ]
  },
  {
   "cell_type": "code",
   "execution_count": 7,
   "id": "4f3a10dd-6a62-4086-8c74-04bac28469c2",
   "metadata": {
    "execution": {
     "iopub.execute_input": "2022-01-03T04:00:09.921738Z",
     "iopub.status.busy": "2022-01-03T04:00:09.921571Z",
     "iopub.status.idle": "2022-01-03T04:00:09.929175Z",
     "shell.execute_reply": "2022-01-03T04:00:09.928659Z",
     "shell.execute_reply.started": "2022-01-03T04:00:09.921722Z"
    },
    "tags": []
   },
   "outputs": [
    {
     "data": {
      "text/html": [
       "<div>\n",
       "<style scoped>\n",
       "    .dataframe tbody tr th:only-of-type {\n",
       "        vertical-align: middle;\n",
       "    }\n",
       "\n",
       "    .dataframe tbody tr th {\n",
       "        vertical-align: top;\n",
       "    }\n",
       "\n",
       "    .dataframe thead th {\n",
       "        text-align: right;\n",
       "    }\n",
       "</style>\n",
       "<table border=\"1\" class=\"dataframe\">\n",
       "  <thead>\n",
       "    <tr style=\"text-align: right;\">\n",
       "      <th></th>\n",
       "      <th>이름</th>\n",
       "      <th>요일</th>\n",
       "      <th>X값</th>\n",
       "      <th>고정값</th>\n",
       "    </tr>\n",
       "  </thead>\n",
       "  <tbody>\n",
       "    <tr>\n",
       "      <th>0</th>\n",
       "      <td>AHSWGS0.745-617-CLI-2002.F_CV</td>\n",
       "      <td>2017-02-08 17:46:00</td>\n",
       "      <td>0.0</td>\n",
       "      <td>100</td>\n",
       "    </tr>\n",
       "    <tr>\n",
       "      <th>1</th>\n",
       "      <td>AHSWGS0.745-617-CLI-2002.F_CV</td>\n",
       "      <td>2017-02-08 17:47:00</td>\n",
       "      <td>0.0</td>\n",
       "      <td>100</td>\n",
       "    </tr>\n",
       "    <tr>\n",
       "      <th>2</th>\n",
       "      <td>AHSWGS0.745-617-CLI-2002.F_CV</td>\n",
       "      <td>2017-02-08 17:48:00</td>\n",
       "      <td>0.0</td>\n",
       "      <td>100</td>\n",
       "    </tr>\n",
       "    <tr>\n",
       "      <th>3</th>\n",
       "      <td>AHSWGS0.745-617-CLI-2002.F_CV</td>\n",
       "      <td>2017-02-08 17:49:00</td>\n",
       "      <td>0.0</td>\n",
       "      <td>100</td>\n",
       "    </tr>\n",
       "    <tr>\n",
       "      <th>4</th>\n",
       "      <td>AHSWGS0.745-617-CLI-2002.F_CV</td>\n",
       "      <td>2017-02-08 17:50:00</td>\n",
       "      <td>0.0</td>\n",
       "      <td>100</td>\n",
       "    </tr>\n",
       "  </tbody>\n",
       "</table>\n",
       "</div>"
      ],
      "text/plain": [
       "                              이름                   요일   X값  고정값\n",
       "0  AHSWGS0.745-617-CLI-2002.F_CV  2017-02-08 17:46:00  0.0  100\n",
       "1  AHSWGS0.745-617-CLI-2002.F_CV  2017-02-08 17:47:00  0.0  100\n",
       "2  AHSWGS0.745-617-CLI-2002.F_CV  2017-02-08 17:48:00  0.0  100\n",
       "3  AHSWGS0.745-617-CLI-2002.F_CV  2017-02-08 17:49:00  0.0  100\n",
       "4  AHSWGS0.745-617-CLI-2002.F_CV  2017-02-08 17:50:00  0.0  100"
      ]
     },
     "execution_count": 7,
     "metadata": {},
     "output_type": "execute_result"
    }
   ],
   "source": [
    "df1.head()"
   ]
  },
  {
   "cell_type": "code",
   "execution_count": 8,
   "id": "4469d0f5-fc8a-44af-ab8c-f3aa67a0022d",
   "metadata": {
    "execution": {
     "iopub.execute_input": "2022-01-03T04:00:09.930089Z",
     "iopub.status.busy": "2022-01-03T04:00:09.929954Z",
     "iopub.status.idle": "2022-01-03T04:00:10.084537Z",
     "shell.execute_reply": "2022-01-03T04:00:10.083965Z",
     "shell.execute_reply.started": "2022-01-03T04:00:09.930072Z"
    },
    "tags": []
   },
   "outputs": [
    {
     "data": {
      "text/plain": [
       "이름     0\n",
       "요일     0\n",
       "X값     0\n",
       "고정값    0\n",
       "dtype: int64"
      ]
     },
     "execution_count": 8,
     "metadata": {},
     "output_type": "execute_result"
    }
   ],
   "source": [
    "df1.isnull().sum()"
   ]
  },
  {
   "cell_type": "code",
   "execution_count": 9,
   "id": "babac425-9ed0-43ee-93e8-b2913a14f775",
   "metadata": {
    "execution": {
     "iopub.execute_input": "2022-01-03T04:00:10.086914Z",
     "iopub.status.busy": "2022-01-03T04:00:10.086721Z",
     "iopub.status.idle": "2022-01-03T04:00:10.107712Z",
     "shell.execute_reply": "2022-01-03T04:00:10.107189Z",
     "shell.execute_reply.started": "2022-01-03T04:00:10.086891Z"
    },
    "tags": []
   },
   "outputs": [
    {
     "data": {
      "text/plain": [
       "100    2501697\n",
       "Name: 고정값, dtype: int64"
      ]
     },
     "execution_count": 9,
     "metadata": {},
     "output_type": "execute_result"
    }
   ],
   "source": [
    "df1['고정값'].value_counts()"
   ]
  },
  {
   "cell_type": "code",
   "execution_count": 10,
   "id": "7330a4ed-b48a-440a-9bbb-7c7b1ddb2a6e",
   "metadata": {
    "execution": {
     "iopub.execute_input": "2022-01-03T04:00:10.108950Z",
     "iopub.status.busy": "2022-01-03T04:00:10.108812Z",
     "iopub.status.idle": "2022-01-03T04:00:10.163516Z",
     "shell.execute_reply": "2022-01-03T04:00:10.162967Z",
     "shell.execute_reply.started": "2022-01-03T04:00:10.108934Z"
    },
    "tags": []
   },
   "outputs": [
    {
     "data": {
      "text/plain": [
       "0.000000    89840\n",
       "0.000500    12425\n",
       "0.000750    12056\n",
       "0.000375     9244\n",
       "0.039000     6939\n",
       "            ...  \n",
       "1.105000        1\n",
       "1.005625        1\n",
       "1.208500        1\n",
       "0.975500        1\n",
       "1.219500        1\n",
       "Name: X값, Length: 8955, dtype: int64"
      ]
     },
     "execution_count": 10,
     "metadata": {},
     "output_type": "execute_result"
    }
   ],
   "source": [
    "df1['X값'].value_counts()"
   ]
  },
  {
   "cell_type": "code",
   "execution_count": 11,
   "id": "7b887136-d957-4a48-b285-5f050e1d1b7c",
   "metadata": {
    "execution": {
     "iopub.execute_input": "2022-01-03T04:00:10.164413Z",
     "iopub.status.busy": "2022-01-03T04:00:10.164260Z",
     "iopub.status.idle": "2022-01-03T04:00:11.711669Z",
     "shell.execute_reply": "2022-01-03T04:00:11.710966Z",
     "shell.execute_reply.started": "2022-01-03T04:00:10.164395Z"
    },
    "tags": []
   },
   "outputs": [],
   "source": [
    "df1['Datetime'] = pd.to_datetime(df1['요일'])\n",
    "df1['Year']= df1['Datetime'].dt.year\n",
    "df1['Month']= df1['Datetime'].dt.month\n",
    "df1['Day']= df1['Datetime'].dt.day\n",
    "df1['day_of_week']= df1['Datetime'].dt.day_name()"
   ]
  },
  {
   "cell_type": "code",
   "execution_count": 12,
   "id": "f36ec895-ada9-4fe9-ba70-a14529e9273c",
   "metadata": {
    "execution": {
     "iopub.execute_input": "2022-01-03T04:00:11.712657Z",
     "iopub.status.busy": "2022-01-03T04:00:11.712497Z",
     "iopub.status.idle": "2022-01-03T04:00:11.728312Z",
     "shell.execute_reply": "2022-01-03T04:00:11.727758Z",
     "shell.execute_reply.started": "2022-01-03T04:00:11.712638Z"
    },
    "tags": [
     "parameters"
    ]
   },
   "outputs": [
    {
     "data": {
      "text/html": [
       "<div>\n",
       "<style scoped>\n",
       "    .dataframe tbody tr th:only-of-type {\n",
       "        vertical-align: middle;\n",
       "    }\n",
       "\n",
       "    .dataframe tbody tr th {\n",
       "        vertical-align: top;\n",
       "    }\n",
       "\n",
       "    .dataframe thead th {\n",
       "        text-align: right;\n",
       "    }\n",
       "</style>\n",
       "<table border=\"1\" class=\"dataframe\">\n",
       "  <thead>\n",
       "    <tr style=\"text-align: right;\">\n",
       "      <th></th>\n",
       "      <th>이름</th>\n",
       "      <th>요일</th>\n",
       "      <th>X값</th>\n",
       "      <th>고정값</th>\n",
       "      <th>Datetime</th>\n",
       "      <th>Year</th>\n",
       "      <th>Month</th>\n",
       "      <th>Day</th>\n",
       "      <th>day_of_week</th>\n",
       "    </tr>\n",
       "  </thead>\n",
       "  <tbody>\n",
       "    <tr>\n",
       "      <th>0</th>\n",
       "      <td>AHSWGS0.745-617-CLI-2002.F_CV</td>\n",
       "      <td>2017-02-08 17:46:00</td>\n",
       "      <td>0.000000</td>\n",
       "      <td>100</td>\n",
       "      <td>2017-02-08 17:46:00</td>\n",
       "      <td>2017</td>\n",
       "      <td>2</td>\n",
       "      <td>8</td>\n",
       "      <td>Wednesday</td>\n",
       "    </tr>\n",
       "    <tr>\n",
       "      <th>1</th>\n",
       "      <td>AHSWGS0.745-617-CLI-2002.F_CV</td>\n",
       "      <td>2017-02-08 17:47:00</td>\n",
       "      <td>0.000000</td>\n",
       "      <td>100</td>\n",
       "      <td>2017-02-08 17:47:00</td>\n",
       "      <td>2017</td>\n",
       "      <td>2</td>\n",
       "      <td>8</td>\n",
       "      <td>Wednesday</td>\n",
       "    </tr>\n",
       "    <tr>\n",
       "      <th>2</th>\n",
       "      <td>AHSWGS0.745-617-CLI-2002.F_CV</td>\n",
       "      <td>2017-02-08 17:48:00</td>\n",
       "      <td>0.000000</td>\n",
       "      <td>100</td>\n",
       "      <td>2017-02-08 17:48:00</td>\n",
       "      <td>2017</td>\n",
       "      <td>2</td>\n",
       "      <td>8</td>\n",
       "      <td>Wednesday</td>\n",
       "    </tr>\n",
       "    <tr>\n",
       "      <th>3</th>\n",
       "      <td>AHSWGS0.745-617-CLI-2002.F_CV</td>\n",
       "      <td>2017-02-08 17:49:00</td>\n",
       "      <td>0.000000</td>\n",
       "      <td>100</td>\n",
       "      <td>2017-02-08 17:49:00</td>\n",
       "      <td>2017</td>\n",
       "      <td>2</td>\n",
       "      <td>8</td>\n",
       "      <td>Wednesday</td>\n",
       "    </tr>\n",
       "    <tr>\n",
       "      <th>4</th>\n",
       "      <td>AHSWGS0.745-617-CLI-2002.F_CV</td>\n",
       "      <td>2017-02-08 17:50:00</td>\n",
       "      <td>0.000000</td>\n",
       "      <td>100</td>\n",
       "      <td>2017-02-08 17:50:00</td>\n",
       "      <td>2017</td>\n",
       "      <td>2</td>\n",
       "      <td>8</td>\n",
       "      <td>Wednesday</td>\n",
       "    </tr>\n",
       "    <tr>\n",
       "      <th>...</th>\n",
       "      <td>...</td>\n",
       "      <td>...</td>\n",
       "      <td>...</td>\n",
       "      <td>...</td>\n",
       "      <td>...</td>\n",
       "      <td>...</td>\n",
       "      <td>...</td>\n",
       "      <td>...</td>\n",
       "      <td>...</td>\n",
       "    </tr>\n",
       "    <tr>\n",
       "      <th>2501692</th>\n",
       "      <td>AHSWGS0.745-617-CLI-2002.F_CV</td>\n",
       "      <td>2021-11-17 02:44:00</td>\n",
       "      <td>0.585875</td>\n",
       "      <td>100</td>\n",
       "      <td>2021-11-17 02:44:00</td>\n",
       "      <td>2021</td>\n",
       "      <td>11</td>\n",
       "      <td>17</td>\n",
       "      <td>Wednesday</td>\n",
       "    </tr>\n",
       "    <tr>\n",
       "      <th>2501693</th>\n",
       "      <td>AHSWGS0.745-617-CLI-2002.F_CV</td>\n",
       "      <td>2021-11-17 02:45:00</td>\n",
       "      <td>0.590375</td>\n",
       "      <td>100</td>\n",
       "      <td>2021-11-17 02:45:00</td>\n",
       "      <td>2021</td>\n",
       "      <td>11</td>\n",
       "      <td>17</td>\n",
       "      <td>Wednesday</td>\n",
       "    </tr>\n",
       "    <tr>\n",
       "      <th>2501694</th>\n",
       "      <td>AHSWGS0.745-617-CLI-2002.F_CV</td>\n",
       "      <td>2021-11-17 02:46:00</td>\n",
       "      <td>0.585750</td>\n",
       "      <td>100</td>\n",
       "      <td>2021-11-17 02:46:00</td>\n",
       "      <td>2021</td>\n",
       "      <td>11</td>\n",
       "      <td>17</td>\n",
       "      <td>Wednesday</td>\n",
       "    </tr>\n",
       "    <tr>\n",
       "      <th>2501695</th>\n",
       "      <td>AHSWGS0.745-617-CLI-2002.F_CV</td>\n",
       "      <td>2021-11-17 02:47:00</td>\n",
       "      <td>0.572125</td>\n",
       "      <td>100</td>\n",
       "      <td>2021-11-17 02:47:00</td>\n",
       "      <td>2021</td>\n",
       "      <td>11</td>\n",
       "      <td>17</td>\n",
       "      <td>Wednesday</td>\n",
       "    </tr>\n",
       "    <tr>\n",
       "      <th>2501696</th>\n",
       "      <td>AHSWGS0.745-617-CLI-2002.F_CV</td>\n",
       "      <td>2021-11-17 02:48:00</td>\n",
       "      <td>0.576500</td>\n",
       "      <td>100</td>\n",
       "      <td>2021-11-17 02:48:00</td>\n",
       "      <td>2021</td>\n",
       "      <td>11</td>\n",
       "      <td>17</td>\n",
       "      <td>Wednesday</td>\n",
       "    </tr>\n",
       "  </tbody>\n",
       "</table>\n",
       "<p>2501697 rows × 9 columns</p>\n",
       "</div>"
      ],
      "text/plain": [
       "                                    이름                   요일        X값  고정값  \\\n",
       "0        AHSWGS0.745-617-CLI-2002.F_CV  2017-02-08 17:46:00  0.000000  100   \n",
       "1        AHSWGS0.745-617-CLI-2002.F_CV  2017-02-08 17:47:00  0.000000  100   \n",
       "2        AHSWGS0.745-617-CLI-2002.F_CV  2017-02-08 17:48:00  0.000000  100   \n",
       "3        AHSWGS0.745-617-CLI-2002.F_CV  2017-02-08 17:49:00  0.000000  100   \n",
       "4        AHSWGS0.745-617-CLI-2002.F_CV  2017-02-08 17:50:00  0.000000  100   \n",
       "...                                ...                  ...       ...  ...   \n",
       "2501692  AHSWGS0.745-617-CLI-2002.F_CV  2021-11-17 02:44:00  0.585875  100   \n",
       "2501693  AHSWGS0.745-617-CLI-2002.F_CV  2021-11-17 02:45:00  0.590375  100   \n",
       "2501694  AHSWGS0.745-617-CLI-2002.F_CV  2021-11-17 02:46:00  0.585750  100   \n",
       "2501695  AHSWGS0.745-617-CLI-2002.F_CV  2021-11-17 02:47:00  0.572125  100   \n",
       "2501696  AHSWGS0.745-617-CLI-2002.F_CV  2021-11-17 02:48:00  0.576500  100   \n",
       "\n",
       "                   Datetime  Year  Month  Day day_of_week  \n",
       "0       2017-02-08 17:46:00  2017      2    8   Wednesday  \n",
       "1       2017-02-08 17:47:00  2017      2    8   Wednesday  \n",
       "2       2017-02-08 17:48:00  2017      2    8   Wednesday  \n",
       "3       2017-02-08 17:49:00  2017      2    8   Wednesday  \n",
       "4       2017-02-08 17:50:00  2017      2    8   Wednesday  \n",
       "...                     ...   ...    ...  ...         ...  \n",
       "2501692 2021-11-17 02:44:00  2021     11   17   Wednesday  \n",
       "2501693 2021-11-17 02:45:00  2021     11   17   Wednesday  \n",
       "2501694 2021-11-17 02:46:00  2021     11   17   Wednesday  \n",
       "2501695 2021-11-17 02:47:00  2021     11   17   Wednesday  \n",
       "2501696 2021-11-17 02:48:00  2021     11   17   Wednesday  \n",
       "\n",
       "[2501697 rows x 9 columns]"
      ]
     },
     "execution_count": 12,
     "metadata": {},
     "output_type": "execute_result"
    }
   ],
   "source": [
    "df1"
   ]
  },
  {
   "cell_type": "code",
   "execution_count": 13,
   "id": "161d5e47-7db6-4ddb-aa34-db2d69baf9c6",
   "metadata": {
    "execution": {
     "iopub.execute_input": "2022-01-03T04:00:11.729194Z",
     "iopub.status.busy": "2022-01-03T04:00:11.729035Z",
     "iopub.status.idle": "2022-01-03T04:00:11.987649Z",
     "shell.execute_reply": "2022-01-03T04:00:11.987124Z",
     "shell.execute_reply.started": "2022-01-03T04:00:11.729175Z"
    },
    "tags": []
   },
   "outputs": [
    {
     "data": {
      "text/plain": [
       "이름             0\n",
       "요일             0\n",
       "X값             0\n",
       "고정값            0\n",
       "Datetime       0\n",
       "Year           0\n",
       "Month          0\n",
       "Day            0\n",
       "day_of_week    0\n",
       "dtype: int64"
      ]
     },
     "execution_count": 13,
     "metadata": {},
     "output_type": "execute_result"
    }
   ],
   "source": [
    "df1.isnull().sum()"
   ]
  },
  {
   "cell_type": "code",
   "execution_count": 14,
   "id": "f7df57d5-84d6-4a69-babe-454a9a400971",
   "metadata": {
    "execution": {
     "iopub.execute_input": "2022-01-03T04:00:11.988527Z",
     "iopub.status.busy": "2022-01-03T04:00:11.988390Z",
     "iopub.status.idle": "2022-01-03T04:00:12.802581Z",
     "shell.execute_reply": "2022-01-03T04:00:12.801813Z",
     "shell.execute_reply.started": "2022-01-03T04:00:11.988509Z"
    },
    "tags": []
   },
   "outputs": [],
   "source": [
    "p1 = pd.pivot_table(data=df1, index='Datetime', values='X값',aggfunc='sum').reset_index()"
   ]
  },
  {
   "cell_type": "code",
   "execution_count": 15,
   "id": "f194019e-2220-4695-834a-0d72f327f147",
   "metadata": {
    "execution": {
     "iopub.execute_input": "2022-01-03T04:00:12.803504Z",
     "iopub.status.busy": "2022-01-03T04:00:12.803348Z",
     "iopub.status.idle": "2022-01-03T04:00:12.812448Z",
     "shell.execute_reply": "2022-01-03T04:00:12.811961Z",
     "shell.execute_reply.started": "2022-01-03T04:00:12.803486Z"
    },
    "tags": []
   },
   "outputs": [
    {
     "data": {
      "text/html": [
       "<div>\n",
       "<style scoped>\n",
       "    .dataframe tbody tr th:only-of-type {\n",
       "        vertical-align: middle;\n",
       "    }\n",
       "\n",
       "    .dataframe tbody tr th {\n",
       "        vertical-align: top;\n",
       "    }\n",
       "\n",
       "    .dataframe thead th {\n",
       "        text-align: right;\n",
       "    }\n",
       "</style>\n",
       "<table border=\"1\" class=\"dataframe\">\n",
       "  <thead>\n",
       "    <tr style=\"text-align: right;\">\n",
       "      <th></th>\n",
       "      <th>Datetime</th>\n",
       "      <th>X값</th>\n",
       "    </tr>\n",
       "  </thead>\n",
       "  <tbody>\n",
       "    <tr>\n",
       "      <th>0</th>\n",
       "      <td>2017-02-08 17:46:00</td>\n",
       "      <td>0.000000</td>\n",
       "    </tr>\n",
       "    <tr>\n",
       "      <th>1</th>\n",
       "      <td>2017-02-08 17:47:00</td>\n",
       "      <td>0.000000</td>\n",
       "    </tr>\n",
       "    <tr>\n",
       "      <th>2</th>\n",
       "      <td>2017-02-08 17:48:00</td>\n",
       "      <td>0.000000</td>\n",
       "    </tr>\n",
       "    <tr>\n",
       "      <th>3</th>\n",
       "      <td>2017-02-08 17:49:00</td>\n",
       "      <td>0.000000</td>\n",
       "    </tr>\n",
       "    <tr>\n",
       "      <th>4</th>\n",
       "      <td>2017-02-08 17:50:00</td>\n",
       "      <td>0.000000</td>\n",
       "    </tr>\n",
       "    <tr>\n",
       "      <th>...</th>\n",
       "      <td>...</td>\n",
       "      <td>...</td>\n",
       "    </tr>\n",
       "    <tr>\n",
       "      <th>2501692</th>\n",
       "      <td>2021-11-17 02:44:00</td>\n",
       "      <td>0.585875</td>\n",
       "    </tr>\n",
       "    <tr>\n",
       "      <th>2501693</th>\n",
       "      <td>2021-11-17 02:45:00</td>\n",
       "      <td>0.590375</td>\n",
       "    </tr>\n",
       "    <tr>\n",
       "      <th>2501694</th>\n",
       "      <td>2021-11-17 02:46:00</td>\n",
       "      <td>0.585750</td>\n",
       "    </tr>\n",
       "    <tr>\n",
       "      <th>2501695</th>\n",
       "      <td>2021-11-17 02:47:00</td>\n",
       "      <td>0.572125</td>\n",
       "    </tr>\n",
       "    <tr>\n",
       "      <th>2501696</th>\n",
       "      <td>2021-11-17 02:48:00</td>\n",
       "      <td>0.576500</td>\n",
       "    </tr>\n",
       "  </tbody>\n",
       "</table>\n",
       "<p>2501697 rows × 2 columns</p>\n",
       "</div>"
      ],
      "text/plain": [
       "                   Datetime        X값\n",
       "0       2017-02-08 17:46:00  0.000000\n",
       "1       2017-02-08 17:47:00  0.000000\n",
       "2       2017-02-08 17:48:00  0.000000\n",
       "3       2017-02-08 17:49:00  0.000000\n",
       "4       2017-02-08 17:50:00  0.000000\n",
       "...                     ...       ...\n",
       "2501692 2021-11-17 02:44:00  0.585875\n",
       "2501693 2021-11-17 02:45:00  0.590375\n",
       "2501694 2021-11-17 02:46:00  0.585750\n",
       "2501695 2021-11-17 02:47:00  0.572125\n",
       "2501696 2021-11-17 02:48:00  0.576500\n",
       "\n",
       "[2501697 rows x 2 columns]"
      ]
     },
     "execution_count": 15,
     "metadata": {},
     "output_type": "execute_result"
    }
   ],
   "source": [
    "p1"
   ]
  },
  {
   "cell_type": "code",
   "execution_count": 16,
   "id": "c21c8866-0d3d-4af2-8640-f53e5e824c00",
   "metadata": {
    "execution": {
     "iopub.execute_input": "2022-01-03T04:00:12.813194Z",
     "iopub.status.busy": "2022-01-03T04:00:12.813057Z",
     "iopub.status.idle": "2022-01-03T04:00:12.817200Z",
     "shell.execute_reply": "2022-01-03T04:00:12.816665Z",
     "shell.execute_reply.started": "2022-01-03T04:00:12.813177Z"
    },
    "tags": []
   },
   "outputs": [],
   "source": [
    "rcParams['figure.figsize'] = 15,5\n",
    "\n",
    "#차트 기본 크기 설정\n",
    "mpl.rcParams['axes.labelsize'] = 14\n",
    "mpl.rcParams['xtick.labelsize'] = 12\n",
    "mpl.rcParams['ytick.labelsize'] = 12\n",
    "mpl.rcParams['text.color'] = 'k'"
   ]
  },
  {
   "cell_type": "markdown",
   "id": "21bf1db7-2720-432a-a44d-c268bd14aed2",
   "metadata": {
    "execution": {
     "iopub.execute_input": "2021-12-30T03:59:42.094650Z",
     "iopub.status.busy": "2021-12-30T03:59:42.094503Z",
     "iopub.status.idle": "2021-12-30T04:00:59.871915Z",
     "shell.execute_reply": "2021-12-30T04:00:59.871278Z",
     "shell.execute_reply.started": "2021-12-30T03:59:42.094631Z"
    },
    "tags": []
   },
   "source": [
    "# sns.lineplot(data=p1, x='Datetime', y='X값')"
   ]
  },
  {
   "cell_type": "code",
   "execution_count": 17,
   "id": "e6285ac7-aa12-44c9-9177-adc346b39992",
   "metadata": {
    "execution": {
     "iopub.execute_input": "2022-01-03T04:00:12.818052Z",
     "iopub.status.busy": "2022-01-03T04:00:12.817807Z",
     "iopub.status.idle": "2022-01-03T04:00:15.053242Z",
     "shell.execute_reply": "2022-01-03T04:00:15.052574Z",
     "shell.execute_reply.started": "2022-01-03T04:00:12.818033Z"
    },
    "tags": []
   },
   "outputs": [
    {
     "data": {
      "text/plain": [
       "<AxesSubplot:xlabel='Datetime', ylabel='X값'>"
      ]
     },
     "execution_count": 17,
     "metadata": {},
     "output_type": "execute_result"
    },
    {
     "name": "stderr",
     "output_type": "stream",
     "text": [
      "/home/kwater/anaconda3/envs/gpu3/lib/python3.7/site-packages/matplotlib/backends/backend_agg.py:240: RuntimeWarning: Glyph 44050 missing from current font.\n",
      "  font.set_text(s, 0.0, flags=flags)\n",
      "/home/kwater/anaconda3/envs/gpu3/lib/python3.7/site-packages/matplotlib/backends/backend_agg.py:203: RuntimeWarning: Glyph 44050 missing from current font.\n",
      "  font.set_text(s, 0, flags=flags)\n"
     ]
    },
    {
     "data": {
      "image/png": "[encoded data removed]",
      "text/plain": [
       "<Figure size 2304x720 with 1 Axes>"
      ]
     },
     "metadata": {
      "needs_background": "light"
     },
     "output_type": "display_data"
    }
   ],
   "source": [
    "plt.figure(figsize= [32,10])\n",
    "sns.lineplot(data=p1, x='Datetime' ,y='X값', ci=None , estimator=sum )"
   ]
  },
  {
   "cell_type": "code",
   "execution_count": 18,
   "id": "2bae8fe1-c7e3-4107-8a6c-27dcb3a25d51",
   "metadata": {
    "execution": {
     "iopub.execute_input": "2022-01-03T04:00:15.054127Z",
     "iopub.status.busy": "2022-01-03T04:00:15.053981Z",
     "iopub.status.idle": "2022-01-03T04:00:15.063779Z",
     "shell.execute_reply": "2022-01-03T04:00:15.063294Z",
     "shell.execute_reply.started": "2022-01-03T04:00:15.054109Z"
    },
    "tags": []
   },
   "outputs": [
    {
     "data": {
      "text/html": [
       "<div>\n",
       "<style scoped>\n",
       "    .dataframe tbody tr th:only-of-type {\n",
       "        vertical-align: middle;\n",
       "    }\n",
       "\n",
       "    .dataframe tbody tr th {\n",
       "        vertical-align: top;\n",
       "    }\n",
       "\n",
       "    .dataframe thead th {\n",
       "        text-align: right;\n",
       "    }\n",
       "</style>\n",
       "<table border=\"1\" class=\"dataframe\">\n",
       "  <thead>\n",
       "    <tr style=\"text-align: right;\">\n",
       "      <th></th>\n",
       "      <th>Datetime</th>\n",
       "      <th>X값</th>\n",
       "    </tr>\n",
       "  </thead>\n",
       "  <tbody>\n",
       "    <tr>\n",
       "      <th>0</th>\n",
       "      <td>2017-02-08 17:46:00</td>\n",
       "      <td>0.000000</td>\n",
       "    </tr>\n",
       "    <tr>\n",
       "      <th>1</th>\n",
       "      <td>2017-02-08 17:47:00</td>\n",
       "      <td>0.000000</td>\n",
       "    </tr>\n",
       "    <tr>\n",
       "      <th>2</th>\n",
       "      <td>2017-02-08 17:48:00</td>\n",
       "      <td>0.000000</td>\n",
       "    </tr>\n",
       "    <tr>\n",
       "      <th>3</th>\n",
       "      <td>2017-02-08 17:49:00</td>\n",
       "      <td>0.000000</td>\n",
       "    </tr>\n",
       "    <tr>\n",
       "      <th>4</th>\n",
       "      <td>2017-02-08 17:50:00</td>\n",
       "      <td>0.000000</td>\n",
       "    </tr>\n",
       "    <tr>\n",
       "      <th>...</th>\n",
       "      <td>...</td>\n",
       "      <td>...</td>\n",
       "    </tr>\n",
       "    <tr>\n",
       "      <th>2501692</th>\n",
       "      <td>2021-11-17 02:44:00</td>\n",
       "      <td>0.585875</td>\n",
       "    </tr>\n",
       "    <tr>\n",
       "      <th>2501693</th>\n",
       "      <td>2021-11-17 02:45:00</td>\n",
       "      <td>0.590375</td>\n",
       "    </tr>\n",
       "    <tr>\n",
       "      <th>2501694</th>\n",
       "      <td>2021-11-17 02:46:00</td>\n",
       "      <td>0.585750</td>\n",
       "    </tr>\n",
       "    <tr>\n",
       "      <th>2501695</th>\n",
       "      <td>2021-11-17 02:47:00</td>\n",
       "      <td>0.572125</td>\n",
       "    </tr>\n",
       "    <tr>\n",
       "      <th>2501696</th>\n",
       "      <td>2021-11-17 02:48:00</td>\n",
       "      <td>0.576500</td>\n",
       "    </tr>\n",
       "  </tbody>\n",
       "</table>\n",
       "<p>2501697 rows × 2 columns</p>\n",
       "</div>"
      ],
      "text/plain": [
       "                   Datetime        X값\n",
       "0       2017-02-08 17:46:00  0.000000\n",
       "1       2017-02-08 17:47:00  0.000000\n",
       "2       2017-02-08 17:48:00  0.000000\n",
       "3       2017-02-08 17:49:00  0.000000\n",
       "4       2017-02-08 17:50:00  0.000000\n",
       "...                     ...       ...\n",
       "2501692 2021-11-17 02:44:00  0.585875\n",
       "2501693 2021-11-17 02:45:00  0.590375\n",
       "2501694 2021-11-17 02:46:00  0.585750\n",
       "2501695 2021-11-17 02:47:00  0.572125\n",
       "2501696 2021-11-17 02:48:00  0.576500\n",
       "\n",
       "[2501697 rows x 2 columns]"
      ]
     },
     "execution_count": 18,
     "metadata": {},
     "output_type": "execute_result"
    }
   ],
   "source": [
    "p1"
   ]
  },
  {
   "cell_type": "code",
   "execution_count": 19,
   "id": "9634ab05-f915-4338-a1dc-9aba4a038b4b",
   "metadata": {
    "execution": {
     "iopub.execute_input": "2022-01-03T04:00:15.064606Z",
     "iopub.status.busy": "2022-01-03T04:00:15.064475Z",
     "iopub.status.idle": "2022-01-03T04:00:15.067749Z",
     "shell.execute_reply": "2022-01-03T04:00:15.067242Z",
     "shell.execute_reply.started": "2022-01-03T04:00:15.064589Z"
    },
    "tags": []
   },
   "outputs": [],
   "source": [
    "p1.set_index('Datetime', inplace = True)"
   ]
  },
  {
   "cell_type": "code",
   "execution_count": 20,
   "id": "59a6a884-fcd8-4133-b903-fac356523b3f",
   "metadata": {
    "execution": {
     "iopub.execute_input": "2022-01-03T04:00:15.068560Z",
     "iopub.status.busy": "2022-01-03T04:00:15.068431Z",
     "iopub.status.idle": "2022-01-03T04:00:15.146138Z",
     "shell.execute_reply": "2022-01-03T04:00:15.144944Z",
     "shell.execute_reply.started": "2022-01-03T04:00:15.068544Z"
    },
    "tags": []
   },
   "outputs": [],
   "source": [
    "p1 = p1.loc[p1.index >= '2018-01-01',:]\n",
    "p1 = p1.loc[p1.index < '2021-01-01',:]"
   ]
  },
  {
   "cell_type": "code",
   "execution_count": 21,
   "id": "33ff2422-fa2e-49ae-a307-2fd8b317dbaa",
   "metadata": {
    "execution": {
     "iopub.execute_input": "2022-01-03T04:00:15.147119Z",
     "iopub.status.busy": "2022-01-03T04:00:15.146965Z",
     "iopub.status.idle": "2022-01-03T04:00:15.155602Z",
     "shell.execute_reply": "2022-01-03T04:00:15.155079Z",
     "shell.execute_reply.started": "2022-01-03T04:00:15.147100Z"
    },
    "tags": []
   },
   "outputs": [
    {
     "data": {
      "text/html": [
       "<div>\n",
       "<style scoped>\n",
       "    .dataframe tbody tr th:only-of-type {\n",
       "        vertical-align: middle;\n",
       "    }\n",
       "\n",
       "    .dataframe tbody tr th {\n",
       "        vertical-align: top;\n",
       "    }\n",
       "\n",
       "    .dataframe thead th {\n",
       "        text-align: right;\n",
       "    }\n",
       "</style>\n",
       "<table border=\"1\" class=\"dataframe\">\n",
       "  <thead>\n",
       "    <tr style=\"text-align: right;\">\n",
       "      <th></th>\n",
       "      <th>X값</th>\n",
       "    </tr>\n",
       "    <tr>\n",
       "      <th>Datetime</th>\n",
       "      <th></th>\n",
       "    </tr>\n",
       "  </thead>\n",
       "  <tbody>\n",
       "    <tr>\n",
       "      <th>2018-01-01 00:01:00</th>\n",
       "      <td>0.207250</td>\n",
       "    </tr>\n",
       "    <tr>\n",
       "      <th>2018-01-01 00:02:00</th>\n",
       "      <td>0.204625</td>\n",
       "    </tr>\n",
       "    <tr>\n",
       "      <th>2018-01-01 00:03:00</th>\n",
       "      <td>0.204750</td>\n",
       "    </tr>\n",
       "    <tr>\n",
       "      <th>2018-01-01 00:04:00</th>\n",
       "      <td>0.209125</td>\n",
       "    </tr>\n",
       "    <tr>\n",
       "      <th>2018-01-01 00:05:00</th>\n",
       "      <td>0.205625</td>\n",
       "    </tr>\n",
       "    <tr>\n",
       "      <th>...</th>\n",
       "      <td>...</td>\n",
       "    </tr>\n",
       "    <tr>\n",
       "      <th>2020-12-31 23:55:00</th>\n",
       "      <td>0.043875</td>\n",
       "    </tr>\n",
       "    <tr>\n",
       "      <th>2020-12-31 23:56:00</th>\n",
       "      <td>0.044375</td>\n",
       "    </tr>\n",
       "    <tr>\n",
       "      <th>2020-12-31 23:57:00</th>\n",
       "      <td>0.057750</td>\n",
       "    </tr>\n",
       "    <tr>\n",
       "      <th>2020-12-31 23:58:00</th>\n",
       "      <td>0.058000</td>\n",
       "    </tr>\n",
       "    <tr>\n",
       "      <th>2020-12-31 23:59:00</th>\n",
       "      <td>0.052375</td>\n",
       "    </tr>\n",
       "  </tbody>\n",
       "</table>\n",
       "<p>1576698 rows × 1 columns</p>\n",
       "</div>"
      ],
      "text/plain": [
       "                           X값\n",
       "Datetime                     \n",
       "2018-01-01 00:01:00  0.207250\n",
       "2018-01-01 00:02:00  0.204625\n",
       "2018-01-01 00:03:00  0.204750\n",
       "2018-01-01 00:04:00  0.209125\n",
       "2018-01-01 00:05:00  0.205625\n",
       "...                       ...\n",
       "2020-12-31 23:55:00  0.043875\n",
       "2020-12-31 23:56:00  0.044375\n",
       "2020-12-31 23:57:00  0.057750\n",
       "2020-12-31 23:58:00  0.058000\n",
       "2020-12-31 23:59:00  0.052375\n",
       "\n",
       "[1576698 rows x 1 columns]"
      ]
     },
     "execution_count": 21,
     "metadata": {},
     "output_type": "execute_result"
    }
   ],
   "source": [
    "p1"
   ]
  },
  {
   "cell_type": "code",
   "execution_count": 22,
   "id": "b6b3c1f7-2369-4270-8d41-0fb169cce6e5",
   "metadata": {
    "execution": {
     "iopub.execute_input": "2022-01-03T04:00:15.156407Z",
     "iopub.status.busy": "2022-01-03T04:00:15.156263Z",
     "iopub.status.idle": "2022-01-03T04:00:15.159240Z",
     "shell.execute_reply": "2022-01-03T04:00:15.158740Z",
     "shell.execute_reply.started": "2022-01-03T04:00:15.156391Z"
    },
    "tags": []
   },
   "outputs": [],
   "source": [
    "# p1_train = p1.loc[p1.index >= '2017-12-01',:]\n",
    "# p1_test = p1.loc[p1.index < '2017-12-01',:]\n",
    "# print(p1_train.shape, p1_test.shape)"
   ]
  },
  {
   "cell_type": "code",
   "execution_count": 23,
   "id": "cae6cd43-a6b3-4cec-ab49-d2a22a8d6d3a",
   "metadata": {
    "execution": {
     "iopub.execute_input": "2022-01-03T04:00:15.159909Z",
     "iopub.status.busy": "2022-01-03T04:00:15.159780Z",
     "iopub.status.idle": "2022-01-03T04:00:15.163136Z",
     "shell.execute_reply": "2022-01-03T04:00:15.162616Z",
     "shell.execute_reply.started": "2022-01-03T04:00:15.159893Z"
    },
    "tags": []
   },
   "outputs": [],
   "source": [
    "# p2 = pd.pivot_table(data=p1, index='Datetime', values='X값',aggfunc='sum').reset_index()"
   ]
  },
  {
   "cell_type": "code",
   "execution_count": 24,
   "id": "34cb6a3f-55f4-4e25-b963-2d0b4a1632c0",
   "metadata": {
    "execution": {
     "iopub.execute_input": "2022-01-03T04:00:15.163807Z",
     "iopub.status.busy": "2022-01-03T04:00:15.163676Z",
     "iopub.status.idle": "2022-01-03T04:00:15.219098Z",
     "shell.execute_reply": "2022-01-03T04:00:15.218520Z",
     "shell.execute_reply.started": "2022-01-03T04:00:15.163786Z"
    },
    "tags": []
   },
   "outputs": [],
   "source": [
    "p2 = p1['X값'].resample('1D').mean()"
   ]
  },
  {
   "cell_type": "code",
   "execution_count": 25,
   "id": "ffdd7675-9ea3-4645-b7ca-d48d578f846f",
   "metadata": {
    "execution": {
     "iopub.execute_input": "2022-01-03T04:00:15.219922Z",
     "iopub.status.busy": "2022-01-03T04:00:15.219782Z",
     "iopub.status.idle": "2022-01-03T04:00:15.225628Z",
     "shell.execute_reply": "2022-01-03T04:00:15.224972Z",
     "shell.execute_reply.started": "2022-01-03T04:00:15.219904Z"
    },
    "tags": []
   },
   "outputs": [
    {
     "data": {
      "text/plain": [
       "Datetime\n",
       "2018-01-01    0.216538\n",
       "2018-01-02    0.206533\n",
       "2018-01-03    0.193358\n",
       "2018-01-04    0.145269\n",
       "2018-01-05    0.135213\n",
       "                ...   \n",
       "2020-12-27    0.048015\n",
       "2020-12-28    0.060726\n",
       "2020-12-29    0.063274\n",
       "2020-12-30    0.061901\n",
       "2020-12-31    0.051026\n",
       "Freq: D, Name: X값, Length: 1096, dtype: float64"
      ]
     },
     "execution_count": 25,
     "metadata": {},
     "output_type": "execute_result"
    }
   ],
   "source": [
    "p2"
   ]
  },
  {
   "cell_type": "code",
   "execution_count": 26,
   "id": "361960e0-50c8-46bc-8b8b-5900a66adb67",
   "metadata": {
    "execution": {
     "iopub.execute_input": "2022-01-03T04:00:15.226584Z",
     "iopub.status.busy": "2022-01-03T04:00:15.226448Z",
     "iopub.status.idle": "2022-01-03T04:00:15.230621Z",
     "shell.execute_reply": "2022-01-03T04:00:15.230138Z",
     "shell.execute_reply.started": "2022-01-03T04:00:15.226567Z"
    },
    "tags": []
   },
   "outputs": [
    {
     "data": {
      "text/plain": [
       "0"
      ]
     },
     "execution_count": 26,
     "metadata": {},
     "output_type": "execute_result"
    }
   ],
   "source": [
    "p2.isnull().sum()"
   ]
  },
  {
   "cell_type": "code",
   "execution_count": 27,
   "id": "d2daedc7-1e4c-46e4-acec-116a891b5f2a",
   "metadata": {
    "execution": {
     "iopub.execute_input": "2022-01-03T04:00:15.233841Z",
     "iopub.status.busy": "2022-01-03T04:00:15.233697Z",
     "iopub.status.idle": "2022-01-03T04:00:15.236730Z",
     "shell.execute_reply": "2022-01-03T04:00:15.236189Z",
     "shell.execute_reply.started": "2022-01-03T04:00:15.233824Z"
    },
    "tags": []
   },
   "outputs": [],
   "source": [
    "p3 = p2.fillna( method='ffill' )"
   ]
  },
  {
   "cell_type": "code",
   "execution_count": 28,
   "id": "219469c2-f622-4821-9969-b23dfa00a1c9",
   "metadata": {
    "execution": {
     "iopub.execute_input": "2022-01-03T04:00:15.237884Z",
     "iopub.status.busy": "2022-01-03T04:00:15.237750Z",
     "iopub.status.idle": "2022-01-03T04:00:15.241817Z",
     "shell.execute_reply": "2022-01-03T04:00:15.241266Z",
     "shell.execute_reply.started": "2022-01-03T04:00:15.237867Z"
    },
    "tags": []
   },
   "outputs": [
    {
     "data": {
      "text/plain": [
       "0"
      ]
     },
     "execution_count": 28,
     "metadata": {},
     "output_type": "execute_result"
    }
   ],
   "source": [
    "p3.isnull().sum()"
   ]
  },
  {
   "cell_type": "code",
   "execution_count": 29,
   "id": "6d193a80-e820-40c0-9ff2-8691a10910fc",
   "metadata": {
    "execution": {
     "iopub.execute_input": "2022-01-03T04:00:15.242574Z",
     "iopub.status.busy": "2022-01-03T04:00:15.242428Z",
     "iopub.status.idle": "2022-01-03T04:00:15.723201Z",
     "shell.execute_reply": "2022-01-03T04:00:15.722561Z",
     "shell.execute_reply.started": "2022-01-03T04:00:15.242558Z"
    },
    "tags": []
   },
   "outputs": [
    {
     "name": "stderr",
     "output_type": "stream",
     "text": [
      "/home/kwater/anaconda3/envs/gpu3/lib/python3.7/site-packages/matplotlib/backends/backend_agg.py:240: RuntimeWarning: Glyph 44050 missing from current font.\n",
      "  font.set_text(s, 0.0, flags=flags)\n",
      "/home/kwater/anaconda3/envs/gpu3/lib/python3.7/site-packages/matplotlib/backends/backend_agg.py:203: RuntimeWarning: Glyph 44050 missing from current font.\n",
      "  font.set_text(s, 0, flags=flags)\n"
     ]
    },
    {
     "data": {
      "image/png": "[encoded data removed]",
      "text/plain": [
       "<Figure size 1080x360 with 4 Axes>"
      ]
     },
     "metadata": {
      "needs_background": "light"
     },
     "output_type": "display_data"
    }
   ],
   "source": [
    "model_series = tsa.seasonal_decompose(p3, model='additive')\n",
    "fig = model_series.plot()\n",
    "plt.show()"
   ]
  },
  {
   "cell_type": "code",
   "execution_count": null,
   "id": "a3d3e28a-9ceb-4cf8-92f3-5ca8cb833b01",
   "metadata": {},
   "outputs": [],
   "source": []
  },
  {
   "cell_type": "code",
   "execution_count": null,
   "id": "a479a833-149f-4772-81a1-39a3e1aee6ae",
   "metadata": {},
   "outputs": [],
   "source": []
  },
  {
   "cell_type": "code",
   "execution_count": 30,
   "id": "895bc820-6901-408a-892a-9bc280ad137c",
   "metadata": {
    "execution": {
     "iopub.execute_input": "2022-01-03T04:00:15.724107Z",
     "iopub.status.busy": "2022-01-03T04:00:15.723965Z",
     "iopub.status.idle": "2022-01-03T04:00:15.726993Z",
     "shell.execute_reply": "2022-01-03T04:00:15.726475Z",
     "shell.execute_reply.started": "2022-01-03T04:00:15.724089Z"
    },
    "tags": []
   },
   "outputs": [],
   "source": [
    "import itertools"
   ]
  },
  {
   "cell_type": "code",
   "execution_count": 31,
   "id": "5671a233-a039-46e5-a8bd-428d4d9f1a26",
   "metadata": {
    "execution": {
     "iopub.execute_input": "2022-01-03T04:00:15.727779Z",
     "iopub.status.busy": "2022-01-03T04:00:15.727649Z",
     "iopub.status.idle": "2022-01-03T04:00:15.731439Z",
     "shell.execute_reply": "2022-01-03T04:00:15.730959Z",
     "shell.execute_reply.started": "2022-01-03T04:00:15.727763Z"
    },
    "tags": []
   },
   "outputs": [],
   "source": [
    "p = d = q = range(0, 2)\n",
    "pdq = list(itertools.product(p, d, q))\n",
    "seasonal_pdq = [(x[0], x[1], x[2], 12) for x in list(itertools.product(p, d, q))]"
   ]
  },
  {
   "cell_type": "code",
   "execution_count": 32,
   "id": "b6dca387-19d3-4a60-9638-3bd0a8222c1d",
   "metadata": {
    "execution": {
     "iopub.execute_input": "2022-01-03T04:00:15.732163Z",
     "iopub.status.busy": "2022-01-03T04:00:15.732036Z",
     "iopub.status.idle": "2022-01-03T04:00:15.737134Z",
     "shell.execute_reply": "2022-01-03T04:00:15.736578Z",
     "shell.execute_reply.started": "2022-01-03T04:00:15.732148Z"
    },
    "tags": []
   },
   "outputs": [
    {
     "data": {
      "text/plain": [
       "[(0, 0, 0, 12),\n",
       " (0, 0, 1, 12),\n",
       " (0, 1, 0, 12),\n",
       " (0, 1, 1, 12),\n",
       " (1, 0, 0, 12),\n",
       " (1, 0, 1, 12),\n",
       " (1, 1, 0, 12),\n",
       " (1, 1, 1, 12)]"
      ]
     },
     "execution_count": 32,
     "metadata": {},
     "output_type": "execute_result"
    }
   ],
   "source": [
    "seasonal_pdq"
   ]
  },
  {
   "cell_type": "code",
   "execution_count": 33,
   "id": "35ea7a88-b8ff-42b1-b1df-587a3849aafd",
   "metadata": {
    "execution": {
     "iopub.execute_input": "2022-01-03T04:00:15.737880Z",
     "iopub.status.busy": "2022-01-03T04:00:15.737747Z",
     "iopub.status.idle": "2022-01-03T04:00:15.742230Z",
     "shell.execute_reply": "2022-01-03T04:00:15.741555Z",
     "shell.execute_reply.started": "2022-01-03T04:00:15.737864Z"
    },
    "tags": []
   },
   "outputs": [
    {
     "name": "stdout",
     "output_type": "stream",
     "text": [
      "SARIMAX: (0, 0, 1) x (0, 0, 1, 12)\n",
      "SARIMAX: (0, 0, 1) x (0, 1, 0, 12)\n",
      "SARIMAX: (0, 1, 0) x (0, 1, 1, 12)\n",
      "SARIMAX: (0, 1, 0) x (1, 0, 0, 12)\n"
     ]
    }
   ],
   "source": [
    "print('SARIMAX: {} x {}'.format(pdq[1], seasonal_pdq[1]))\n",
    "print('SARIMAX: {} x {}'.format(pdq[1], seasonal_pdq[2]))\n",
    "print('SARIMAX: {} x {}'.format(pdq[2], seasonal_pdq[3]))\n",
    "print('SARIMAX: {} x {}'.format(pdq[2], seasonal_pdq[4]))"
   ]
  },
  {
   "cell_type": "code",
   "execution_count": 34,
   "id": "3809f59f-83b8-4c34-a81a-7b70c0e8175d",
   "metadata": {
    "execution": {
     "iopub.execute_input": "2022-01-03T04:00:15.742933Z",
     "iopub.status.busy": "2022-01-03T04:00:15.742806Z",
     "iopub.status.idle": "2022-01-03T04:00:15.745606Z",
     "shell.execute_reply": "2022-01-03T04:00:15.744933Z",
     "shell.execute_reply.started": "2022-01-03T04:00:15.742917Z"
    },
    "tags": []
   },
   "outputs": [],
   "source": [
    "param_list = []\n",
    "param_seasonal_list = []\n",
    "results_AIC_list = []"
   ]
  },
  {
   "cell_type": "code",
   "execution_count": 35,
   "id": "447d3cec-0c7b-43b9-9d94-d426cfea2823",
   "metadata": {
    "execution": {
     "iopub.execute_input": "2022-01-03T04:00:15.746340Z",
     "iopub.status.busy": "2022-01-03T04:00:15.746212Z",
     "iopub.status.idle": "2022-01-03T04:00:58.430859Z",
     "shell.execute_reply": "2022-01-03T04:00:58.429319Z",
     "shell.execute_reply.started": "2022-01-03T04:00:15.746324Z"
    },
    "tags": []
   },
   "outputs": [
    {
     "name": "stderr",
     "output_type": "stream",
     "text": [
      "/home/kwater/anaconda3/envs/gpu3/lib/python3.7/site-packages/statsmodels/base/model.py:568: ConvergenceWarning: Maximum Likelihood optimization failed to converge. Check mle_retvals\n",
      "  ConvergenceWarning)\n",
      "/home/kwater/anaconda3/envs/gpu3/lib/python3.7/site-packages/statsmodels/base/model.py:568: ConvergenceWarning: Maximum Likelihood optimization failed to converge. Check mle_retvals\n",
      "  ConvergenceWarning)\n"
     ]
    }
   ],
   "source": [
    "for param in pdq:\n",
    "     for param_seasonal in seasonal_pdq:\n",
    "        try:\n",
    "            mod = tsa.statespace.SARIMAX(p3,order=param,\n",
    "                                            seasonal_order=param_seasonal,\n",
    "                                            enforce_stationarity=False,\n",
    "                                            enforce_invertibility=False)\n",
    "            results = mod.fit()\n",
    "            param_list.append(param)\n",
    "            param_seasonal_list.append(param_seasonal)\n",
    "            results_AIC_list.append(results.aic)\n",
    "        except:\n",
    "             continue"
   ]
  },
  {
   "cell_type": "code",
   "execution_count": null,
   "id": "757b3700-b640-4fd6-8973-91d1034bfe72",
   "metadata": {},
   "outputs": [],
   "source": []
  },
  {
   "cell_type": "code",
   "execution_count": 36,
   "id": "a1147fd9-de38-46a8-ba19-dcc2e935ecf0",
   "metadata": {
    "execution": {
     "iopub.execute_input": "2022-01-03T04:00:58.432114Z",
     "iopub.status.busy": "2022-01-03T04:00:58.431955Z",
     "iopub.status.idle": "2022-01-03T04:00:58.435857Z",
     "shell.execute_reply": "2022-01-03T04:00:58.435332Z",
     "shell.execute_reply.started": "2022-01-03T04:00:58.432092Z"
    },
    "tags": []
   },
   "outputs": [],
   "source": [
    "# p = d = q = range(0, 3)\n",
    "# pdq = list(itertools.product(p, d, q))\n",
    "# seasonal_pdq = [(x[0], x[1], x[2], 12) for x in list(itertools.product(p, d, q))]"
   ]
  },
  {
   "cell_type": "code",
   "execution_count": 37,
   "id": "dc219804-67c9-4421-9792-8a97a9cd00d9",
   "metadata": {
    "execution": {
     "iopub.execute_input": "2022-01-03T04:00:58.436628Z",
     "iopub.status.busy": "2022-01-03T04:00:58.436494Z",
     "iopub.status.idle": "2022-01-03T04:00:58.440110Z",
     "shell.execute_reply": "2022-01-03T04:00:58.439617Z",
     "shell.execute_reply.started": "2022-01-03T04:00:58.436611Z"
    },
    "tags": []
   },
   "outputs": [],
   "source": [
    "# best_aic = np.inf\n",
    "# best_pdq = None\n",
    "# best_seasonal_pdq = None\n",
    "# tmp_model = None\n",
    "# best_md1 = None\n",
    "\n",
    "# for param in pdq:\n",
    "#      for param_seasonal in seasonal_pdq:\n",
    "#         try:\n",
    "#             mod = sm.tsa.statespace.SARIMAX(p3,order=param, exog =None,\n",
    "#                                             seasonal_order=param_seasonal,\n",
    "#                                             enforce_stationarity=True,\n",
    "#                                             enforce_invertibility=True)\n",
    "#             res = mod.fit()\n",
    "#             print(\"SARIMAX{}x{}12 - AIC:{}\".format(param, param_seasonal, res.aic))\n",
    "#             if res.aic < best_aic:\n",
    "#                 best_aic = res.aic\n",
    "#                 best_pdq = param\n",
    "#                 best_seasonal_pdq = param_seasonal\n",
    "#                 best_mdl = tmp_mdl\n",
    "#         except:\n",
    "            \n",
    "#             continue\n",
    "    \n",
    "#             param_list.append(param)\n",
    "#             param_seasonal_list.append(param_seasonal)\n",
    "#             results_AIC_list.append(results.aic)\n",
    "#         except:\n",
    "#              continue\n",
    "# print(\"Best SARIMAX{}x{}12 model - AIC:{}\".format(best_pdq, best_seasonal_pdq, best_aic)"
   ]
  },
  {
   "cell_type": "code",
   "execution_count": 38,
   "id": "e92c81a5-0cba-4add-af43-8ed04cf2232e",
   "metadata": {
    "execution": {
     "iopub.execute_input": "2022-01-03T04:00:58.440803Z",
     "iopub.status.busy": "2022-01-03T04:00:58.440673Z",
     "iopub.status.idle": "2022-01-03T04:00:58.443394Z",
     "shell.execute_reply": "2022-01-03T04:00:58.442889Z",
     "shell.execute_reply.started": "2022-01-03T04:00:58.440787Z"
    }
   },
   "outputs": [],
   "source": [
    "# md1 = sm.tsa.statespace.SARIMAX(endog = y_train, order =(1, 1, 0),\n",
    "#                                             seasonal_order=(1, 2, 1, 12),\n",
    "#                                             enforce_stationarity=True,\n",
    "#                                             enforce_invertibility=True)\n",
    "# res = mdl.fit()"
   ]
  },
  {
   "cell_type": "code",
   "execution_count": null,
   "id": "9d2828da-fdb3-4a9a-be20-402120ebc51f",
   "metadata": {},
   "outputs": [],
   "source": []
  },
  {
   "cell_type": "code",
   "execution_count": 39,
   "id": "df57c85a-286a-4ab2-b706-a13272e30fbd",
   "metadata": {
    "execution": {
     "iopub.execute_input": "2022-01-03T04:00:58.444213Z",
     "iopub.status.busy": "2022-01-03T04:00:58.444083Z",
     "iopub.status.idle": "2022-01-03T04:00:58.447660Z",
     "shell.execute_reply": "2022-01-03T04:00:58.447178Z",
     "shell.execute_reply.started": "2022-01-03T04:00:58.444197Z"
    },
    "tags": []
   },
   "outputs": [],
   "source": [
    "ARIMA_list = pd.DataFrame({'Parameter':param_list,'Seasonal':param_seasonal_list,'AIC':results_AIC_list})\n",
    "# ARIMA_list.to_excel('arima_model_list.xlsx')"
   ]
  },
  {
   "cell_type": "code",
   "execution_count": 40,
   "id": "e315a2fc-15cd-4a6e-8176-3686d9b9999e",
   "metadata": {
    "execution": {
     "iopub.execute_input": "2022-01-03T04:00:58.448513Z",
     "iopub.status.busy": "2022-01-03T04:00:58.448381Z",
     "iopub.status.idle": "2022-01-03T04:00:58.458854Z",
     "shell.execute_reply": "2022-01-03T04:00:58.458376Z",
     "shell.execute_reply.started": "2022-01-03T04:00:58.448497Z"
    },
    "tags": []
   },
   "outputs": [
    {
     "data": {
      "text/html": [
       "<div>\n",
       "<style scoped>\n",
       "    .dataframe tbody tr th:only-of-type {\n",
       "        vertical-align: middle;\n",
       "    }\n",
       "\n",
       "    .dataframe tbody tr th {\n",
       "        vertical-align: top;\n",
       "    }\n",
       "\n",
       "    .dataframe thead th {\n",
       "        text-align: right;\n",
       "    }\n",
       "</style>\n",
       "<table border=\"1\" class=\"dataframe\">\n",
       "  <thead>\n",
       "    <tr style=\"text-align: right;\">\n",
       "      <th></th>\n",
       "      <th>Parameter</th>\n",
       "      <th>Seasonal</th>\n",
       "      <th>AIC</th>\n",
       "    </tr>\n",
       "  </thead>\n",
       "  <tbody>\n",
       "    <tr>\n",
       "      <th>56</th>\n",
       "      <td>(1, 1, 1)</td>\n",
       "      <td>(0, 0, 0, 12)</td>\n",
       "      <td>-4827.981055</td>\n",
       "    </tr>\n",
       "    <tr>\n",
       "      <th>40</th>\n",
       "      <td>(1, 0, 1)</td>\n",
       "      <td>(0, 0, 0, 12)</td>\n",
       "      <td>-4813.708378</td>\n",
       "    </tr>\n",
       "    <tr>\n",
       "      <th>24</th>\n",
       "      <td>(0, 1, 1)</td>\n",
       "      <td>(0, 0, 0, 12)</td>\n",
       "      <td>-4802.910574</td>\n",
       "    </tr>\n",
       "    <tr>\n",
       "      <th>32</th>\n",
       "      <td>(1, 0, 0)</td>\n",
       "      <td>(0, 0, 0, 12)</td>\n",
       "      <td>-4801.589445</td>\n",
       "    </tr>\n",
       "    <tr>\n",
       "      <th>48</th>\n",
       "      <td>(1, 1, 0)</td>\n",
       "      <td>(0, 0, 0, 12)</td>\n",
       "      <td>-4799.991856</td>\n",
       "    </tr>\n",
       "  </tbody>\n",
       "</table>\n",
       "</div>"
      ],
      "text/plain": [
       "    Parameter       Seasonal          AIC\n",
       "56  (1, 1, 1)  (0, 0, 0, 12) -4827.981055\n",
       "40  (1, 0, 1)  (0, 0, 0, 12) -4813.708378\n",
       "24  (0, 1, 1)  (0, 0, 0, 12) -4802.910574\n",
       "32  (1, 0, 0)  (0, 0, 0, 12) -4801.589445\n",
       "48  (1, 1, 0)  (0, 0, 0, 12) -4799.991856"
      ]
     },
     "execution_count": 40,
     "metadata": {},
     "output_type": "execute_result"
    }
   ],
   "source": [
    "ARIMA_list.sort_values(by='AIC').head()"
   ]
  },
  {
   "cell_type": "code",
   "execution_count": 41,
   "id": "25c37d56-977c-417e-91e3-1776adb6db2e",
   "metadata": {
    "execution": {
     "iopub.execute_input": "2022-01-03T04:00:58.459603Z",
     "iopub.status.busy": "2022-01-03T04:00:58.459469Z",
     "iopub.status.idle": "2022-01-03T04:00:58.713954Z",
     "shell.execute_reply": "2022-01-03T04:00:58.712911Z",
     "shell.execute_reply.started": "2022-01-03T04:00:58.459586Z"
    },
    "tags": []
   },
   "outputs": [
    {
     "name": "stdout",
     "output_type": "stream",
     "text": [
      "                               SARIMAX Results                                \n",
      "==============================================================================\n",
      "Dep. Variable:                     X값   No. Observations:                 1096\n",
      "Model:               SARIMAX(1, 1, 1)   Log Likelihood                2416.991\n",
      "Date:                Mon, 03 Jan 2022   AIC                          -4827.981\n",
      "Time:                        13:00:58   BIC                          -4812.991\n",
      "Sample:                    01-01-2018   HQIC                         -4822.308\n",
      "                         - 12-31-2020                                         \n",
      "Covariance Type:                  opg                                         \n",
      "==============================================================================\n",
      "                 coef    std err          z      P>|z|      [0.025      0.975]\n",
      "------------------------------------------------------------------------------\n",
      "ar.L1          0.6034      0.053     11.282      0.000       0.499       0.708\n",
      "ma.L1         -0.7736      0.046    -16.992      0.000      -0.863      -0.684\n",
      "sigma2         0.0007   1.65e-05     42.615      0.000       0.001       0.001\n",
      "===================================================================================\n",
      "Ljung-Box (L1) (Q):                   0.26   Jarque-Bera (JB):              1115.76\n",
      "Prob(Q):                              0.61   Prob(JB):                         0.00\n",
      "Heteroskedasticity (H):               0.75   Skew:                             0.40\n",
      "Prob(H) (two-sided):                  0.01   Kurtosis:                         7.89\n",
      "===================================================================================\n",
      "\n",
      "Warnings:\n",
      "[1] Covariance matrix calculated using the outer product of gradients (complex-step).\n"
     ]
    }
   ],
   "source": [
    "mod = tsa.statespace.SARIMAX(p3,order=(1, 1, 1),seasonal_order=(0, 0, 0, 12),\n",
    "                              enforce_stationarity=False, enforce_invertibility=False)\n",
    "results = mod.fit()\n",
    "print(results.summary())"
   ]
  },
  {
   "cell_type": "code",
   "execution_count": 42,
   "id": "7e28101f-b243-4d46-b636-7c95b9a5ba42",
   "metadata": {
    "execution": {
     "iopub.execute_input": "2022-01-03T04:00:58.715255Z",
     "iopub.status.busy": "2022-01-03T04:00:58.715014Z",
     "iopub.status.idle": "2022-01-03T04:00:59.402541Z",
     "shell.execute_reply": "2022-01-03T04:00:59.401938Z",
     "shell.execute_reply.started": "2022-01-03T04:00:58.715225Z"
    },
    "tags": []
   },
   "outputs": [
    {
     "name": "stderr",
     "output_type": "stream",
     "text": [
      "/home/kwater/anaconda3/envs/gpu3/lib/python3.7/site-packages/statsmodels/graphics/gofplots.py:993: UserWarning: marker is redundantly defined by the 'marker' keyword argument and the fmt string \"bo\" (-> marker='o'). The keyword argument will take precedence.\n",
      "  ax.plot(x, y, fmt, **plot_style)\n"
     ]
    },
    {
     "data": {
      "image/png": "[encoded data removed]",
      "text/plain": [
       "<Figure size 1152x576 with 4 Axes>"
      ]
     },
     "metadata": {
      "needs_background": "light"
     },
     "output_type": "display_data"
    }
   ],
   "source": [
    "results.plot_diagnostics(figsize=(16, 8))\n",
    "plt.show()"
   ]
  },
  {
   "cell_type": "code",
   "execution_count": 43,
   "id": "b9dd0654-8083-4860-a1a0-1b7f6edbaa34",
   "metadata": {
    "execution": {
     "iopub.execute_input": "2022-01-03T04:00:59.403411Z",
     "iopub.status.busy": "2022-01-03T04:00:59.403262Z",
     "iopub.status.idle": "2022-01-03T04:00:59.408592Z",
     "shell.execute_reply": "2022-01-03T04:00:59.408021Z",
     "shell.execute_reply.started": "2022-01-03T04:00:59.403393Z"
    },
    "tags": []
   },
   "outputs": [
    {
     "data": {
      "text/plain": [
       "<statsmodels.tsa.statespace.mlemodel.PredictionResultsWrapper at 0x7feb1fc170d0>"
      ]
     },
     "execution_count": 43,
     "metadata": {},
     "output_type": "execute_result"
    }
   ],
   "source": [
    "results.get_prediction()"
   ]
  },
  {
   "cell_type": "code",
   "execution_count": 44,
   "id": "5df5693e-2f3f-4b57-ad80-ee17dc24da7b",
   "metadata": {
    "execution": {
     "iopub.execute_input": "2022-01-03T04:00:59.409411Z",
     "iopub.status.busy": "2022-01-03T04:00:59.409273Z",
     "iopub.status.idle": "2022-01-03T04:00:59.414531Z",
     "shell.execute_reply": "2022-01-03T04:00:59.413966Z",
     "shell.execute_reply.started": "2022-01-03T04:00:59.409393Z"
    },
    "tags": []
   },
   "outputs": [
    {
     "data": {
      "text/plain": [
       "Datetime\n",
       "2018-01-01    0.216538\n",
       "2018-01-02    0.206533\n",
       "2018-01-03    0.193358\n",
       "2018-01-04    0.145269\n",
       "2018-01-05    0.135213\n",
       "Freq: D, Name: X값, dtype: float64"
      ]
     },
     "execution_count": 44,
     "metadata": {},
     "output_type": "execute_result"
    }
   ],
   "source": [
    "p3.head()"
   ]
  },
  {
   "cell_type": "code",
   "execution_count": 45,
   "id": "aa2efe88-a6ea-4e25-8b9f-c38e152f1e8c",
   "metadata": {
    "execution": {
     "iopub.execute_input": "2022-01-03T04:00:59.415537Z",
     "iopub.status.busy": "2022-01-03T04:00:59.415397Z",
     "iopub.status.idle": "2022-01-03T04:00:59.700940Z",
     "shell.execute_reply": "2022-01-03T04:00:59.700395Z",
     "shell.execute_reply.started": "2022-01-03T04:00:59.415520Z"
    },
    "tags": []
   },
   "outputs": [
    {
     "data": {
      "image/png": "[encoded data removed]",
      "text/plain": [
       "<Figure size 1008x504 with 1 Axes>"
      ]
     },
     "metadata": {
      "needs_background": "light"
     },
     "output_type": "display_data"
    }
   ],
   "source": [
    "pred = results.get_prediction(start=pd.to_datetime('2018-01-01'), dynamic=False)\n",
    "pred_ci = pred.conf_int()\n",
    "\n",
    "ax = p3.plot(label='observed')\n",
    "pred.predicted_mean.plot(ax=ax, label='One-step ahead Forecast', alpha=.7, figsize=(14, 7))\n",
    "ax.fill_between(pred_ci.index,pred_ci.iloc[:, 0],pred_ci.iloc[:, 1], color='k', alpha=.2)\n",
    "\n",
    "plt.legend()\n",
    "plt.show()"
   ]
  },
  {
   "cell_type": "code",
   "execution_count": 46,
   "id": "c7b590c9-efee-4925-b116-173fb2ba2763",
   "metadata": {
    "execution": {
     "iopub.execute_input": "2022-01-03T04:00:59.701753Z",
     "iopub.status.busy": "2022-01-03T04:00:59.701611Z",
     "iopub.status.idle": "2022-01-03T04:00:59.712106Z",
     "shell.execute_reply": "2022-01-03T04:00:59.711598Z",
     "shell.execute_reply.started": "2022-01-03T04:00:59.701736Z"
    },
    "tags": []
   },
   "outputs": [
    {
     "data": {
      "text/html": [
       "<div>\n",
       "<style scoped>\n",
       "    .dataframe tbody tr th:only-of-type {\n",
       "        vertical-align: middle;\n",
       "    }\n",
       "\n",
       "    .dataframe tbody tr th {\n",
       "        vertical-align: top;\n",
       "    }\n",
       "\n",
       "    .dataframe thead th {\n",
       "        text-align: right;\n",
       "    }\n",
       "</style>\n",
       "<table border=\"1\" class=\"dataframe\">\n",
       "  <thead>\n",
       "    <tr style=\"text-align: right;\">\n",
       "      <th></th>\n",
       "      <th>Datetime</th>\n",
       "      <th>predicted_mean</th>\n",
       "    </tr>\n",
       "  </thead>\n",
       "  <tbody>\n",
       "    <tr>\n",
       "      <th>0</th>\n",
       "      <td>2018-03-01</td>\n",
       "      <td>0.068793</td>\n",
       "    </tr>\n",
       "    <tr>\n",
       "      <th>1</th>\n",
       "      <td>2018-03-02</td>\n",
       "      <td>0.083914</td>\n",
       "    </tr>\n",
       "    <tr>\n",
       "      <th>2</th>\n",
       "      <td>2018-03-03</td>\n",
       "      <td>0.071637</td>\n",
       "    </tr>\n",
       "    <tr>\n",
       "      <th>3</th>\n",
       "      <td>2018-03-04</td>\n",
       "      <td>0.063239</td>\n",
       "    </tr>\n",
       "    <tr>\n",
       "      <th>4</th>\n",
       "      <td>2018-03-05</td>\n",
       "      <td>0.052557</td>\n",
       "    </tr>\n",
       "    <tr>\n",
       "      <th>...</th>\n",
       "      <td>...</td>\n",
       "      <td>...</td>\n",
       "    </tr>\n",
       "    <tr>\n",
       "      <th>1032</th>\n",
       "      <td>2020-12-27</td>\n",
       "      <td>0.050752</td>\n",
       "    </tr>\n",
       "    <tr>\n",
       "      <th>1033</th>\n",
       "      <td>2020-12-28</td>\n",
       "      <td>0.049217</td>\n",
       "    </tr>\n",
       "    <tr>\n",
       "      <th>1034</th>\n",
       "      <td>2020-12-29</td>\n",
       "      <td>0.059492</td>\n",
       "    </tr>\n",
       "    <tr>\n",
       "      <th>1035</th>\n",
       "      <td>2020-12-30</td>\n",
       "      <td>0.061886</td>\n",
       "    </tr>\n",
       "    <tr>\n",
       "      <th>1036</th>\n",
       "      <td>2020-12-31</td>\n",
       "      <td>0.061061</td>\n",
       "    </tr>\n",
       "  </tbody>\n",
       "</table>\n",
       "<p>1037 rows × 2 columns</p>\n",
       "</div>"
      ],
      "text/plain": [
       "       Datetime  predicted_mean\n",
       "0    2018-03-01        0.068793\n",
       "1    2018-03-02        0.083914\n",
       "2    2018-03-03        0.071637\n",
       "3    2018-03-04        0.063239\n",
       "4    2018-03-05        0.052557\n",
       "...         ...             ...\n",
       "1032 2020-12-27        0.050752\n",
       "1033 2020-12-28        0.049217\n",
       "1034 2020-12-29        0.059492\n",
       "1035 2020-12-30        0.061886\n",
       "1036 2020-12-31        0.061061\n",
       "\n",
       "[1037 rows x 2 columns]"
      ]
     },
     "execution_count": 46,
     "metadata": {},
     "output_type": "execute_result"
    }
   ],
   "source": [
    "pred = results.get_prediction(start=pd.to_datetime('2018-03-01'), dynamic=False)\n",
    "pd.DataFrame(pred.predicted_mean).reset_index()"
   ]
  },
  {
   "cell_type": "code",
   "execution_count": 47,
   "id": "4ca8d989-1d6f-4031-8298-1fefbb38fffe",
   "metadata": {
    "execution": {
     "iopub.execute_input": "2022-01-03T04:00:59.713213Z",
     "iopub.status.busy": "2022-01-03T04:00:59.713069Z",
     "iopub.status.idle": "2022-01-03T04:00:59.720092Z",
     "shell.execute_reply": "2022-01-03T04:00:59.719243Z",
     "shell.execute_reply.started": "2022-01-03T04:00:59.713196Z"
    },
    "tags": []
   },
   "outputs": [
    {
     "name": "stdout",
     "output_type": "stream",
     "text": [
      "MSE 0.0\n"
     ]
    }
   ],
   "source": [
    "y_forecasted = pred.predicted_mean\n",
    "y_truth = p2['2017-02-08':]\n",
    "mse = ((y_forecasted - y_truth) ** 2).mean()\n",
    "print('MSE {}'.format(round(mse, 2)))"
   ]
  },
  {
   "cell_type": "code",
   "execution_count": 48,
   "id": "6b8f1013-c223-4447-9335-c2953a61b52f",
   "metadata": {
    "execution": {
     "iopub.execute_input": "2022-01-03T04:00:59.720847Z",
     "iopub.status.busy": "2022-01-03T04:00:59.720712Z",
     "iopub.status.idle": "2022-01-03T04:00:59.728513Z",
     "shell.execute_reply": "2022-01-03T04:00:59.727987Z",
     "shell.execute_reply.started": "2022-01-03T04:00:59.720831Z"
    },
    "tags": []
   },
   "outputs": [],
   "source": [
    "pred_uc = results.get_forecast(steps=50)"
   ]
  },
  {
   "cell_type": "code",
   "execution_count": 49,
   "id": "d0be3e22-b3f7-4861-b350-9a66488d9338",
   "metadata": {
    "execution": {
     "iopub.execute_input": "2022-01-03T04:00:59.729403Z",
     "iopub.status.busy": "2022-01-03T04:00:59.729270Z",
     "iopub.status.idle": "2022-01-03T04:00:59.734877Z",
     "shell.execute_reply": "2022-01-03T04:00:59.734180Z",
     "shell.execute_reply.started": "2022-01-03T04:00:59.729387Z"
    },
    "tags": []
   },
   "outputs": [
    {
     "data": {
      "text/plain": [
       "2021-01-01    0.052227\n",
       "2021-01-02    0.052952\n",
       "2021-01-03    0.053389\n",
       "2021-01-04    0.053653\n",
       "2021-01-05    0.053812\n",
       "2021-01-06    0.053908\n",
       "2021-01-07    0.053966\n",
       "2021-01-08    0.054001\n",
       "2021-01-09    0.054022\n",
       "2021-01-10    0.054035\n",
       "2021-01-11    0.054043\n",
       "2021-01-12    0.054047\n",
       "2021-01-13    0.054050\n",
       "2021-01-14    0.054052\n",
       "2021-01-15    0.054053\n",
       "2021-01-16    0.054053\n",
       "2021-01-17    0.054054\n",
       "2021-01-18    0.054054\n",
       "2021-01-19    0.054054\n",
       "2021-01-20    0.054054\n",
       "2021-01-21    0.054054\n",
       "2021-01-22    0.054054\n",
       "2021-01-23    0.054054\n",
       "2021-01-24    0.054054\n",
       "2021-01-25    0.054054\n",
       "2021-01-26    0.054054\n",
       "2021-01-27    0.054054\n",
       "2021-01-28    0.054054\n",
       "2021-01-29    0.054054\n",
       "2021-01-30    0.054054\n",
       "2021-01-31    0.054054\n",
       "2021-02-01    0.054054\n",
       "2021-02-02    0.054054\n",
       "2021-02-03    0.054054\n",
       "2021-02-04    0.054054\n",
       "2021-02-05    0.054054\n",
       "2021-02-06    0.054054\n",
       "2021-02-07    0.054054\n",
       "2021-02-08    0.054054\n",
       "2021-02-09    0.054054\n",
       "2021-02-10    0.054054\n",
       "2021-02-11    0.054054\n",
       "2021-02-12    0.054054\n",
       "2021-02-13    0.054054\n",
       "2021-02-14    0.054054\n",
       "2021-02-15    0.054054\n",
       "2021-02-16    0.054054\n",
       "2021-02-17    0.054054\n",
       "2021-02-18    0.054054\n",
       "2021-02-19    0.054054\n",
       "Freq: D, Name: predicted_mean, dtype: float64"
      ]
     },
     "execution_count": 49,
     "metadata": {},
     "output_type": "execute_result"
    }
   ],
   "source": [
    "pred_uc.predicted_mean"
   ]
  },
  {
   "cell_type": "code",
   "execution_count": 50,
   "id": "a16e98a1-beca-47b9-9cf2-d445b2f37151",
   "metadata": {
    "execution": {
     "iopub.execute_input": "2022-01-03T04:00:59.735669Z",
     "iopub.status.busy": "2022-01-03T04:00:59.735531Z",
     "iopub.status.idle": "2022-01-03T04:01:00.002097Z",
     "shell.execute_reply": "2022-01-03T04:01:00.001519Z",
     "shell.execute_reply.started": "2022-01-03T04:00:59.735653Z"
    },
    "tags": []
   },
   "outputs": [
    {
     "data": {
      "image/png": "[encoded data removed]",
      "text/plain": [
       "<Figure size 1008x504 with 1 Axes>"
      ]
     },
     "metadata": {
      "needs_background": "light"
     },
     "output_type": "display_data"
    }
   ],
   "source": [
    "pred_uc = results.get_forecast(steps=300)\n",
    "pred_ci = pred_uc.conf_int() #추정된 계수의 신뢰구간 계산\n",
    "ax = p3.plot(label='observed', figsize=(14, 7))\n",
    "pred_uc.predicted_mean.plot(ax=ax, label='Forecast')\n",
    "ax.fill_between(pred_ci.index,\n",
    "                 pred_ci.iloc[:, 0],\n",
    "                 pred_ci.iloc[:, 1], color='k', alpha=.25)\n",
    "\n",
    "plt.legend()\n",
    "plt.show()"
   ]
  },
  {
   "cell_type": "code",
   "execution_count": null,
   "id": "7a79ffaf-64b4-427c-95da-36df569c2d1f",
   "metadata": {},
   "outputs": [],
   "source": []
  },
  {
   "cell_type": "code",
   "execution_count": null,
   "id": "5c2c98b3-8193-4f27-8307-aeca28aded78",
   "metadata": {},
   "outputs": [],
   "source": []
  },
  {
   "cell_type": "code",
   "execution_count": null,
   "id": "7c81659d-ad83-4d7d-821a-783ff540f128",
   "metadata": {},
   "outputs": [],
   "source": []
  },
  {
   "cell_type": "code",
   "execution_count": null,
   "id": "318ee258-4f5f-4f37-a39a-a6b59f19a144",
   "metadata": {},
   "outputs": [],
   "source": []
  },
  {
   "cell_type": "code",
   "execution_count": null,
   "id": "152f0f5d-a7a9-4114-a5b9-2174f29211ee",
   "metadata": {},
   "outputs": [],
   "source": []
  },
  {
   "cell_type": "code",
   "execution_count": null,
   "id": "94f8b603-3012-41f4-b741-a4af1122211d",
   "metadata": {},
   "outputs": [],
   "source": []
  },
  {
   "cell_type": "code",
   "execution_count": null,
   "id": "dfc01631-66d0-4626-8f29-3c1113a2530a",
   "metadata": {},
   "outputs": [],
   "source": []
  }
 ],
 "metadata": {
  "kernelspec": {
   "display_name": "Python 3",
   "language": "python",
   "name": "python3"
  },
  "language_info": {
   "codemirror_mode": {
    "name": "ipython",
    "version": 3
   },
   "file_extension": ".py",
   "mimetype": "text/x-python",
   "name": "python",
   "nbconvert_exporter": "python",
   "pygments_lexer": "ipython3",
   "version": "3.7.10"
  }
 },
 "nbformat": 4,
 "nbformat_minor": 5
}
