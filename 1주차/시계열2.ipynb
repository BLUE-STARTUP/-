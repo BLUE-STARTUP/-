{
 "cells": [
  {
   "cell_type": "code",
   "execution_count": 82,
   "id": "cd03b7e7-c7f4-47a2-8cf0-8a1ee6f0ab87",
   "metadata": {
    "execution": {
     "iopub.execute_input": "2022-01-04T04:29:37.453285Z",
     "iopub.status.busy": "2022-01-04T04:29:37.452685Z",
     "iopub.status.idle": "2022-01-04T04:29:37.463987Z",
     "shell.execute_reply": "2022-01-04T04:29:37.462725Z",
     "shell.execute_reply.started": "2022-01-04T04:29:37.453220Z"
    },
    "tags": []
   },
   "outputs": [],
   "source": [
    "df = pd.DataFrame(\n",
    "    {'name': ['KIM', 'LEE', 'SMITH','BROWN', 'MILLER'],\n",
    "     'age': [24, 32, 43, 24, np.nan],\n",
    "     'height': [178, 168, 171, 185, 176],\n",
    "     'sex': ['M', 'F', 'F', 'M', 'F']})"
   ]
  },
  {
   "cell_type": "code",
   "execution_count": 90,
   "id": "d53d6df9-8d19-4337-95c5-f5ffdf78aae8",
   "metadata": {
    "execution": {
     "iopub.execute_input": "2022-01-04T04:32:40.150781Z",
     "iopub.status.busy": "2022-01-04T04:32:40.150267Z",
     "iopub.status.idle": "2022-01-04T04:32:40.166009Z",
     "shell.execute_reply": "2022-01-04T04:32:40.164952Z",
     "shell.execute_reply.started": "2022-01-04T04:32:40.150718Z"
    },
    "tags": []
   },
   "outputs": [
    {
     "data": {
      "text/html": [
       "<div>\n",
       "<style scoped>\n",
       "    .dataframe tbody tr th:only-of-type {\n",
       "        vertical-align: middle;\n",
       "    }\n",
       "\n",
       "    .dataframe tbody tr th {\n",
       "        vertical-align: top;\n",
       "    }\n",
       "\n",
       "    .dataframe thead th {\n",
       "        text-align: right;\n",
       "    }\n",
       "</style>\n",
       "<table border=\"1\" class=\"dataframe\">\n",
       "  <thead>\n",
       "    <tr style=\"text-align: right;\">\n",
       "      <th></th>\n",
       "      <th>name</th>\n",
       "      <th>age</th>\n",
       "      <th>height</th>\n",
       "      <th>sex</th>\n",
       "    </tr>\n",
       "  </thead>\n",
       "  <tbody>\n",
       "    <tr>\n",
       "      <th>0</th>\n",
       "      <td>KIM</td>\n",
       "      <td>24.0</td>\n",
       "      <td>178</td>\n",
       "      <td>M</td>\n",
       "    </tr>\n",
       "    <tr>\n",
       "      <th>1</th>\n",
       "      <td>LEE</td>\n",
       "      <td>32.0</td>\n",
       "      <td>168</td>\n",
       "      <td>F</td>\n",
       "    </tr>\n",
       "    <tr>\n",
       "      <th>2</th>\n",
       "      <td>SMITH</td>\n",
       "      <td>43.0</td>\n",
       "      <td>171</td>\n",
       "      <td>F</td>\n",
       "    </tr>\n",
       "    <tr>\n",
       "      <th>3</th>\n",
       "      <td>BROWN</td>\n",
       "      <td>24.0</td>\n",
       "      <td>185</td>\n",
       "      <td>M</td>\n",
       "    </tr>\n",
       "    <tr>\n",
       "      <th>4</th>\n",
       "      <td>MILLER</td>\n",
       "      <td>NaN</td>\n",
       "      <td>176</td>\n",
       "      <td>F</td>\n",
       "    </tr>\n",
       "  </tbody>\n",
       "</table>\n",
       "</div>"
      ],
      "text/plain": [
       "     name   age  height sex\n",
       "0     KIM  24.0     178   M\n",
       "1     LEE  32.0     168   F\n",
       "2   SMITH  43.0     171   F\n",
       "3   BROWN  24.0     185   M\n",
       "4  MILLER   NaN     176   F"
      ]
     },
     "execution_count": 90,
     "metadata": {},
     "output_type": "execute_result"
    }
   ],
   "source": [
    "df"
   ]
  },
  {
   "cell_type": "code",
   "execution_count": 85,
   "id": "a6d54de0-8fbe-4906-ae79-afdde049dd8a",
   "metadata": {
    "execution": {
     "iopub.execute_input": "2022-01-04T04:30:08.732022Z",
     "iopub.status.busy": "2022-01-04T04:30:08.731479Z",
     "iopub.status.idle": "2022-01-04T04:30:08.749217Z",
     "shell.execute_reply": "2022-01-04T04:30:08.748012Z",
     "shell.execute_reply.started": "2022-01-04T04:30:08.731961Z"
    },
    "tags": []
   },
   "outputs": [
    {
     "data": {
      "text/html": [
       "<div>\n",
       "<style scoped>\n",
       "    .dataframe tbody tr th:only-of-type {\n",
       "        vertical-align: middle;\n",
       "    }\n",
       "\n",
       "    .dataframe tbody tr th {\n",
       "        vertical-align: top;\n",
       "    }\n",
       "\n",
       "    .dataframe thead th {\n",
       "        text-align: right;\n",
       "    }\n",
       "</style>\n",
       "<table border=\"1\" class=\"dataframe\">\n",
       "  <thead>\n",
       "    <tr style=\"text-align: right;\">\n",
       "      <th></th>\n",
       "      <th>name</th>\n",
       "      <th>age</th>\n",
       "      <th>height</th>\n",
       "      <th>sex</th>\n",
       "    </tr>\n",
       "  </thead>\n",
       "  <tbody>\n",
       "    <tr>\n",
       "      <th>0</th>\n",
       "      <td>KIM</td>\n",
       "      <td>24.0</td>\n",
       "      <td>178</td>\n",
       "      <td>M</td>\n",
       "    </tr>\n",
       "    <tr>\n",
       "      <th>3</th>\n",
       "      <td>BROWN</td>\n",
       "      <td>24.0</td>\n",
       "      <td>185</td>\n",
       "      <td>M</td>\n",
       "    </tr>\n",
       "  </tbody>\n",
       "</table>\n",
       "</div>"
      ],
      "text/plain": [
       "    name   age  height sex\n",
       "0    KIM  24.0     178   M\n",
       "3  BROWN  24.0     185   M"
      ]
     },
     "execution_count": 85,
     "metadata": {},
     "output_type": "execute_result"
    }
   ],
   "source": [
    "df.drop([1,2,4], axis=0)"
   ]
  },
  {
   "cell_type": "code",
   "execution_count": 89,
   "id": "bd56d5ad-7125-452b-a4fd-965134a8c971",
   "metadata": {
    "execution": {
     "iopub.execute_input": "2022-01-04T04:31:10.757354Z",
     "iopub.status.busy": "2022-01-04T04:31:10.756782Z",
     "iopub.status.idle": "2022-01-04T04:31:10.772662Z",
     "shell.execute_reply": "2022-01-04T04:31:10.771573Z",
     "shell.execute_reply.started": "2022-01-04T04:31:10.757290Z"
    },
    "tags": []
   },
   "outputs": [
    {
     "data": {
      "text/html": [
       "<div>\n",
       "<style scoped>\n",
       "    .dataframe tbody tr th:only-of-type {\n",
       "        vertical-align: middle;\n",
       "    }\n",
       "\n",
       "    .dataframe tbody tr th {\n",
       "        vertical-align: top;\n",
       "    }\n",
       "\n",
       "    .dataframe thead th {\n",
       "        text-align: right;\n",
       "    }\n",
       "</style>\n",
       "<table border=\"1\" class=\"dataframe\">\n",
       "  <thead>\n",
       "    <tr style=\"text-align: right;\">\n",
       "      <th></th>\n",
       "      <th>name</th>\n",
       "      <th>height</th>\n",
       "    </tr>\n",
       "  </thead>\n",
       "  <tbody>\n",
       "    <tr>\n",
       "      <th>0</th>\n",
       "      <td>KIM</td>\n",
       "      <td>178</td>\n",
       "    </tr>\n",
       "    <tr>\n",
       "      <th>1</th>\n",
       "      <td>LEE</td>\n",
       "      <td>168</td>\n",
       "    </tr>\n",
       "    <tr>\n",
       "      <th>2</th>\n",
       "      <td>SMITH</td>\n",
       "      <td>171</td>\n",
       "    </tr>\n",
       "    <tr>\n",
       "      <th>3</th>\n",
       "      <td>BROWN</td>\n",
       "      <td>185</td>\n",
       "    </tr>\n",
       "    <tr>\n",
       "      <th>4</th>\n",
       "      <td>MILLER</td>\n",
       "      <td>176</td>\n",
       "    </tr>\n",
       "  </tbody>\n",
       "</table>\n",
       "</div>"
      ],
      "text/plain": [
       "     name  height\n",
       "0     KIM     178\n",
       "1     LEE     168\n",
       "2   SMITH     171\n",
       "3   BROWN     185\n",
       "4  MILLER     176"
      ]
     },
     "execution_count": 89,
     "metadata": {},
     "output_type": "execute_result"
    }
   ],
   "source": [
    "df.drop(['age','sex'], axis=1)"
   ]
  },
  {
   "cell_type": "code",
   "execution_count": 91,
   "id": "ff27fead-61bd-4403-8388-fdead3d31a8f",
   "metadata": {
    "execution": {
     "iopub.execute_input": "2022-01-04T04:32:57.817951Z",
     "iopub.status.busy": "2022-01-04T04:32:57.817434Z",
     "iopub.status.idle": "2022-01-04T04:32:57.833089Z",
     "shell.execute_reply": "2022-01-04T04:32:57.831747Z",
     "shell.execute_reply.started": "2022-01-04T04:32:57.817892Z"
    },
    "tags": []
   },
   "outputs": [
    {
     "data": {
      "text/plain": [
       "age        30.75\n",
       "height    175.60\n",
       "dtype: float64"
      ]
     },
     "execution_count": 91,
     "metadata": {},
     "output_type": "execute_result"
    }
   ],
   "source": [
    "df[['age', 'height']].mean(axis=0)"
   ]
  },
  {
   "cell_type": "code",
   "execution_count": 92,
   "id": "18741c9f-af04-4381-bd17-c83e5fd5fc45",
   "metadata": {
    "execution": {
     "iopub.execute_input": "2022-01-04T04:33:19.546600Z",
     "iopub.status.busy": "2022-01-04T04:33:19.546257Z",
     "iopub.status.idle": "2022-01-04T04:33:19.555991Z",
     "shell.execute_reply": "2022-01-04T04:33:19.555115Z",
     "shell.execute_reply.started": "2022-01-04T04:33:19.546547Z"
    },
    "tags": []
   },
   "outputs": [
    {
     "data": {
      "text/plain": [
       "0    101.0\n",
       "1    100.0\n",
       "2    107.0\n",
       "3    104.5\n",
       "4    176.0\n",
       "dtype: float64"
      ]
     },
     "execution_count": 92,
     "metadata": {},
     "output_type": "execute_result"
    }
   ],
   "source": [
    "df[['age', 'height']].mean(axis=1)"
   ]
  },
  {
   "cell_type": "code",
   "execution_count": 94,
   "id": "22283a7c-0e00-4859-b974-c221f02b6c66",
   "metadata": {
    "execution": {
     "iopub.execute_input": "2022-01-04T04:55:52.871276Z",
     "iopub.status.busy": "2022-01-04T04:55:52.870728Z",
     "iopub.status.idle": "2022-01-04T04:55:52.951277Z",
     "shell.execute_reply": "2022-01-04T04:55:52.950503Z",
     "shell.execute_reply.started": "2022-01-04T04:55:52.871216Z"
    },
    "tags": []
   },
   "outputs": [
    {
     "data": {
      "image/png": "[encoded data removed]",
      "text/plain": [
       "<PIL.JpegImagePlugin.JpegImageFile image mode=RGB size=600x556 at 0x7FD763DC10D0>"
      ]
     },
     "metadata": {},
     "output_type": "display_data"
    }
   ],
   "source": [
    "import IPython.display as display\n",
    "from PIL import Image\n",
    "display.display(Image.open('G12R6k5gpW24VGZAttgn.jpg'))"
   ]
  },
  {
   "cell_type": "code",
   "execution_count": 96,
   "id": "1e88c53a-4201-4c91-bbe6-04ee024a6286",
   "metadata": {
    "execution": {
     "iopub.execute_input": "2022-01-04T04:55:58.786572Z",
     "iopub.status.busy": "2022-01-04T04:55:58.786084Z",
     "iopub.status.idle": "2022-01-04T04:55:58.956694Z",
     "shell.execute_reply": "2022-01-04T04:55:58.956024Z",
     "shell.execute_reply.started": "2022-01-04T04:55:58.786512Z"
    },
    "tags": []
   },
   "outputs": [
    {
     "data": {
      "image/png": "[encoded data removed]",
      "text/plain": [
       "<Figure size 432x288 with 1 Axes>"
      ]
     },
     "metadata": {
      "needs_background": "light"
     },
     "output_type": "display_data"
    }
   ],
   "source": [
    "import matplotlib.pyplot as plt\n",
    "import matplotlib.image as mpimg\n",
    "\n",
    "img = mpimg.imread('G12R6k5gpW24VGZAttgn.jpg')\n",
    "imgplot = plt.imshow(img)\n",
    "plt.show()"
   ]
  },
  {
   "cell_type": "code",
   "execution_count": null,
   "id": "225ab8bb-3d86-4325-a1fd-4191f7815b16",
   "metadata": {},
   "outputs": [],
   "source": []
  },
  {
   "cell_type": "code",
   "execution_count": 106,
   "id": "2e2698b4-1a0c-4eb2-a3ae-7dd3ef112880",
   "metadata": {
    "execution": {
     "iopub.execute_input": "2022-01-04T05:05:16.079324Z",
     "iopub.status.busy": "2022-01-04T05:05:16.078788Z",
     "iopub.status.idle": "2022-01-04T05:05:16.087472Z",
     "shell.execute_reply": "2022-01-04T05:05:16.085821Z",
     "shell.execute_reply.started": "2022-01-04T05:05:16.079262Z"
    },
    "tags": []
   },
   "outputs": [],
   "source": [
    "myset = {'a','b','c','d','e','f','g'}\n",
    "mydict = {'a':1,'b':2,'c':3,'d':4,'e':5,'f':6,'g':7}\n",
    "\n",
    "# for x in myset:\n",
    "#     print(x)\n",
    "\n",
    "# for key, val in mydict.items():\n",
    "#     print(key,val)"
   ]
  },
  {
   "cell_type": "code",
   "execution_count": 111,
   "id": "4c078dc1-d530-4ad3-add7-ba0ca213ac96",
   "metadata": {
    "execution": {
     "iopub.execute_input": "2022-01-04T05:07:00.642441Z",
     "iopub.status.busy": "2022-01-04T05:07:00.641942Z",
     "iopub.status.idle": "2022-01-04T05:07:00.649838Z",
     "shell.execute_reply": "2022-01-04T05:07:00.648308Z",
     "shell.execute_reply.started": "2022-01-04T05:07:00.642383Z"
    },
    "tags": []
   },
   "outputs": [
    {
     "ename": "SyntaxError",
     "evalue": "unexpected EOF while parsing (<ipython-input-111-e48685bae976>, line 2)",
     "output_type": "error",
     "traceback": [
      "\u001b[0;36m  File \u001b[0;32m\"<ipython-input-111-e48685bae976>\"\u001b[0;36m, line \u001b[0;32m2\u001b[0m\n\u001b[0;31m    #     print(x)\u001b[0m\n\u001b[0m                  ^\u001b[0m\n\u001b[0;31mSyntaxError\u001b[0m\u001b[0;31m:\u001b[0m unexpected EOF while parsing\n"
     ]
    }
   ],
   "source": [
    "for x in range(1,99):\n",
    "#     print(x)"
   ]
  },
  {
   "cell_type": "code",
   "execution_count": null,
   "id": "e0006d1e-f184-42d8-92e7-3bdd5c9d2bb1",
   "metadata": {
    "jupyter": {
     "source_hidden": true
    },
    "tags": []
   },
   "outputs": [],
   "source": []
  },
  {
   "cell_type": "code",
   "execution_count": 108,
   "id": "c429aa1f-aa6e-4254-aa8c-3ce7dd7df2bf",
   "metadata": {
    "execution": {
     "iopub.execute_input": "2022-01-04T05:06:12.112990Z",
     "iopub.status.busy": "2022-01-04T05:06:12.112655Z",
     "iopub.status.idle": "2022-01-04T05:06:12.118517Z",
     "shell.execute_reply": "2022-01-04T05:06:12.117498Z",
     "shell.execute_reply.started": "2022-01-04T05:06:12.112959Z"
    },
    "tags": []
   },
   "outputs": [
    {
     "name": "stdout",
     "output_type": "stream",
     "text": [
      "[36, 4, 64, 9, 1]\n"
     ]
    }
   ],
   "source": [
    "mylist = [6,2,8,3,1]\n",
    "\n",
    "newlist = [x**2 for x in mylist]\n",
    "print(newlist)"
   ]
  },
  {
   "cell_type": "code",
   "execution_count": 109,
   "id": "2c9c5441-c99d-4e5f-b4c1-94effbc468b7",
   "metadata": {
    "execution": {
     "iopub.execute_input": "2022-01-04T05:06:35.598368Z",
     "iopub.status.busy": "2022-01-04T05:06:35.597809Z",
     "iopub.status.idle": "2022-01-04T05:06:35.607161Z",
     "shell.execute_reply": "2022-01-04T05:06:35.605697Z",
     "shell.execute_reply.started": "2022-01-04T05:06:35.598304Z"
    },
    "tags": []
   },
   "outputs": [
    {
     "name": "stdout",
     "output_type": "stream",
     "text": [
      "[1, 5, 9, 11, 13]\n"
     ]
    }
   ],
   "source": [
    "mylist = [1,4,5,8,9,11,13,12]\n",
    "\n",
    "newlist = [x for x in mylist if x%2 == 1]\n",
    "print(newlist)"
   ]
  },
  {
   "cell_type": "code",
   "execution_count": 110,
   "id": "994967d4-803c-4e45-8056-ac92bc11dfd9",
   "metadata": {
    "execution": {
     "iopub.execute_input": "2022-01-04T05:06:39.847094Z",
     "iopub.status.busy": "2022-01-04T05:06:39.846605Z",
     "iopub.status.idle": "2022-01-04T05:06:39.855756Z",
     "shell.execute_reply": "2022-01-04T05:06:39.854356Z",
     "shell.execute_reply.started": "2022-01-04T05:06:39.847034Z"
    },
    "tags": []
   },
   "outputs": [
    {
     "name": "stdout",
     "output_type": "stream",
     "text": [
      "[2, 4, 6, 8, 10, 12, 14, 12]\n"
     ]
    }
   ],
   "source": [
    "mylist = [1,4,5,8,9,11,13,12]\n",
    "\n",
    "newlist = [x+1 if x%2 == 1 else x for x in mylist]\n",
    "print(newlist)"
   ]
  },
  {
   "cell_type": "code",
   "execution_count": null,
   "id": "480e9e3e-08b8-4722-91ef-ccb5c7f9359d",
   "metadata": {},
   "outputs": [],
   "source": []
  },
  {
   "cell_type": "code",
   "execution_count": 112,
   "id": "f70cd25a-9ba3-4e27-bab5-7e0bbb769fe5",
   "metadata": {
    "execution": {
     "iopub.execute_input": "2022-01-04T05:51:04.256103Z",
     "iopub.status.busy": "2022-01-04T05:51:04.255569Z",
     "iopub.status.idle": "2022-01-04T05:51:04.266155Z",
     "shell.execute_reply": "2022-01-04T05:51:04.264666Z",
     "shell.execute_reply.started": "2022-01-04T05:51:04.256041Z"
    },
    "tags": []
   },
   "outputs": [
    {
     "name": "stdout",
     "output_type": "stream",
     "text": [
      "['F', 'A', 'C', 'D', 'B', 'B', 'A']\n"
     ]
    }
   ],
   "source": [
    "import bisect\n",
    "\n",
    "result = []\n",
    "for score in [33, 99, 77, 70, 89, 90, 100]:\n",
    "    pos = bisect.bisect_left([60, 70, 80, 90], score)\n",
    "    grade = 'FDCBA'[pos]\n",
    "    result.append(grade)\n",
    "\n",
    "print(result)"
   ]
  },
  {
   "cell_type": "code",
   "execution_count": 114,
   "id": "02de3304-00bd-497b-9460-2b3b1b864b17",
   "metadata": {
    "execution": {
     "iopub.execute_input": "2022-01-04T05:52:48.224592Z",
     "iopub.status.busy": "2022-01-04T05:52:48.224074Z",
     "iopub.status.idle": "2022-01-04T05:52:48.233814Z",
     "shell.execute_reply": "2022-01-04T05:52:48.232892Z",
     "shell.execute_reply.started": "2022-01-04T05:52:48.224532Z"
    },
    "tags": []
   },
   "outputs": [
    {
     "data": {
      "text/plain": [
       "[60, 70, 80, 85, 90]"
      ]
     },
     "execution_count": 114,
     "metadata": {},
     "output_type": "execute_result"
    }
   ],
   "source": [
    "import bisect\n",
    "a = [60, 70, 80, 90]\n",
    "bisect.insort(a, 85)\n",
    "a    "
   ]
  },
  {
   "cell_type": "code",
   "execution_count": 115,
   "id": "9be152d0-118f-4df7-998a-2bb3984dc01f",
   "metadata": {
    "execution": {
     "iopub.execute_input": "2022-01-04T05:55:59.661206Z",
     "iopub.status.busy": "2022-01-04T05:55:59.660633Z",
     "iopub.status.idle": "2022-01-04T05:55:59.666849Z",
     "shell.execute_reply": "2022-01-04T05:55:59.665442Z",
     "shell.execute_reply.started": "2022-01-04T05:55:59.661142Z"
    },
    "tags": []
   },
   "outputs": [],
   "source": [
    "import itertools"
   ]
  },
  {
   "cell_type": "code",
   "execution_count": 116,
   "id": "c5764d09-5ac1-428b-8322-a91403bc86a6",
   "metadata": {
    "execution": {
     "iopub.execute_input": "2022-01-04T05:56:01.545805Z",
     "iopub.status.busy": "2022-01-04T05:56:01.545261Z",
     "iopub.status.idle": "2022-01-04T05:56:01.552287Z",
     "shell.execute_reply": "2022-01-04T05:56:01.550874Z",
     "shell.execute_reply.started": "2022-01-04T05:56:01.545740Z"
    },
    "tags": []
   },
   "outputs": [],
   "source": [
    "emp_pool = itertools.cycle(['김은경', '이명자', '이성진'])"
   ]
  },
  {
   "cell_type": "code",
   "execution_count": 180,
   "id": "78d0e93e-4851-4347-8eaf-bac49a594f23",
   "metadata": {
    "execution": {
     "iopub.execute_input": "2022-01-04T08:42:47.272324Z",
     "iopub.status.busy": "2022-01-04T08:42:47.271812Z",
     "iopub.status.idle": "2022-01-04T08:42:47.280460Z",
     "shell.execute_reply": "2022-01-04T08:42:47.279137Z",
     "shell.execute_reply.started": "2022-01-04T08:42:47.272265Z"
    },
    "tags": []
   },
   "outputs": [
    {
     "data": {
      "text/plain": [
       "'이성진'"
      ]
     },
     "execution_count": 180,
     "metadata": {},
     "output_type": "execute_result"
    }
   ],
   "source": [
    "next(emp_pool)"
   ]
  },
  {
   "cell_type": "code",
   "execution_count": 184,
   "id": "883a82ea-c9c1-49a4-bc7f-3d482f921838",
   "metadata": {
    "execution": {
     "iopub.execute_input": "2022-01-04T08:51:05.782405Z",
     "iopub.status.busy": "2022-01-04T08:51:05.781892Z",
     "iopub.status.idle": "2022-01-04T08:51:05.795468Z",
     "shell.execute_reply": "2022-01-04T08:51:05.794161Z",
     "shell.execute_reply.started": "2022-01-04T08:51:05.782344Z"
    },
    "tags": []
   },
   "outputs": [
    {
     "name": "stdout",
     "output_type": "stream",
     "text": [
      "김은경\n",
      "이명자\n",
      "이성진\n",
      "김은경\n",
      "이명자\n",
      "이성진\n",
      "김은경\n",
      "이명자\n",
      "이성진\n",
      "김은경\n"
     ]
    }
   ],
   "source": [
    "for i in range(10):\n",
    "    print(next(emp_pool))"
   ]
  },
  {
   "cell_type": "code",
   "execution_count": 140,
   "id": "f9b35900-3965-4d26-8360-6a1f9998c6b1",
   "metadata": {
    "execution": {
     "iopub.execute_input": "2022-01-04T06:09:04.222344Z",
     "iopub.status.busy": "2022-01-04T06:09:04.221151Z",
     "iopub.status.idle": "2022-01-04T06:09:04.230880Z",
     "shell.execute_reply": "2022-01-04T06:09:04.230011Z",
     "shell.execute_reply.started": "2022-01-04T06:09:04.222269Z"
    },
    "tags": []
   },
   "outputs": [
    {
     "data": {
      "text/plain": [
       "37129.3"
      ]
     },
     "execution_count": 140,
     "metadata": {},
     "output_type": "execute_result"
    }
   ],
   "source": [
    "wikibooks = 10000\n",
    "day = 1\n",
    "while day < 6:\n",
    "        wikibooks = wikibooks + wikibooks * 0.3\n",
    "        day = day + 1\n",
    "\n",
    "wikibooks"
   ]
  },
  {
   "cell_type": "code",
   "execution_count": 144,
   "id": "2ebbe914-6fe8-4459-adf1-cef2bd0948e5",
   "metadata": {
    "execution": {
     "iopub.execute_input": "2022-01-04T06:15:07.505320Z",
     "iopub.status.busy": "2022-01-04T06:15:07.504826Z",
     "iopub.status.idle": "2022-01-04T06:15:07.513189Z",
     "shell.execute_reply": "2022-01-04T06:15:07.511566Z",
     "shell.execute_reply.started": "2022-01-04T06:15:07.505261Z"
    },
    "tags": []
   },
   "outputs": [
    {
     "name": "stdout",
     "output_type": "stream",
     "text": [
      "Naver\n",
      "Samsung\n",
      "SK Hynix\n"
     ]
    }
   ],
   "source": [
    "interest_stocks = [\"Naver\", \"Samsung\", \"SK Hynix\"]\n",
    "for company in interest_stocks:\n",
    "        print(company)"
   ]
  },
  {
   "cell_type": "code",
   "execution_count": 145,
   "id": "ef434322-4907-4de2-9734-6a44ff964530",
   "metadata": {
    "execution": {
     "iopub.execute_input": "2022-01-04T06:53:22.260549Z",
     "iopub.status.busy": "2022-01-04T06:53:22.260040Z",
     "iopub.status.idle": "2022-01-04T06:53:22.268533Z",
     "shell.execute_reply": "2022-01-04T06:53:22.266943Z",
     "shell.execute_reply.started": "2022-01-04T06:53:22.260488Z"
    },
    "tags": []
   },
   "outputs": [
    {
     "name": "stdout",
     "output_type": "stream",
     "text": [
      "[0, 1, 4, 9, 16, 25, 36, 49, 64, 81]\n"
     ]
    }
   ],
   "source": [
    "arr = range(10)\n",
    "result = list(map(lambda x: x * x, arr))\n",
    "print(result)"
   ]
  },
  {
   "cell_type": "code",
   "execution_count": 203,
   "id": "00609770-345d-4736-baf4-1b4e26ada640",
   "metadata": {
    "execution": {
     "iopub.execute_input": "2022-01-05T01:24:48.732632Z",
     "iopub.status.busy": "2022-01-05T01:24:48.732061Z",
     "iopub.status.idle": "2022-01-05T01:24:49.970533Z",
     "shell.execute_reply": "2022-01-05T01:24:49.968740Z",
     "shell.execute_reply.started": "2022-01-05T01:24:48.732569Z"
    },
    "tags": []
   },
   "outputs": [
    {
     "name": "stdout",
     "output_type": "stream",
     "text": [
      "Requirement already satisfied: ntplib in /home/kwater/anaconda3/envs/gpu0/lib/python3.7/site-packages (0.4.0)\n"
     ]
    }
   ],
   "source": [
    "! pip install ntplib"
   ]
  },
  {
   "cell_type": "code",
   "execution_count": 200,
   "id": "58f78c66-aa47-4be5-a049-be5206ab5a51",
   "metadata": {
    "execution": {
     "iopub.execute_input": "2022-01-05T01:18:25.890564Z",
     "iopub.status.busy": "2022-01-05T01:18:25.889982Z",
     "iopub.status.idle": "2022-01-05T01:18:35.130273Z",
     "shell.execute_reply": "2022-01-05T01:18:35.128462Z",
     "shell.execute_reply.started": "2022-01-05T01:18:25.890500Z"
    },
    "tags": []
   },
   "outputs": [
    {
     "name": "stdout",
     "output_type": "stream",
     "text": [
      "Collecting package metadata (current_repodata.json): done\n",
      "Solving environment: failed with initial frozen solve. Retrying with flexible solve.\n",
      "Collecting package metadata (repodata.json): done\n",
      "Solving environment: failed with initial frozen solve. Retrying with flexible solve.\n",
      "\n",
      "PackagesNotFoundError: The following packages are not available from current channels:\n",
      "\n",
      "  - ntplib\n",
      "\n",
      "Current channels:\n",
      "\n",
      "  - https://repo.anaconda.com/pkgs/main/linux-64\n",
      "  - https://repo.anaconda.com/pkgs/main/noarch\n",
      "  - https://repo.anaconda.com/pkgs/r/linux-64\n",
      "  - https://repo.anaconda.com/pkgs/r/noarch\n",
      "\n",
      "To search for alternate channels that may provide the conda package you're\n",
      "looking for, navigate to\n",
      "\n",
      "    https://anaconda.org\n",
      "\n",
      "and use the search bar at the top of the page.\n",
      "\n",
      "\n"
     ]
    }
   ],
   "source": [
    "! conda install ntplib"
   ]
  },
  {
   "cell_type": "code",
   "execution_count": 209,
   "id": "70d96b36-b973-4875-aad0-4ab2a275ef86",
   "metadata": {
    "execution": {
     "iopub.execute_input": "2022-01-05T01:34:59.032784Z",
     "iopub.status.busy": "2022-01-05T01:34:59.032346Z",
     "iopub.status.idle": "2022-01-05T01:35:01.150049Z",
     "shell.execute_reply": "2022-01-05T01:35:01.148337Z",
     "shell.execute_reply.started": "2022-01-05T01:34:59.032738Z"
    },
    "tags": []
   },
   "outputs": [
    {
     "name": "stdout",
     "output_type": "stream",
     "text": [
      "Name: jupyterlab\n",
      "Version: 3.0.14\n",
      "Summary: The JupyterLab server extension.\n",
      "Home-page: http://jupyter.org\n",
      "Author: Jupyter Development Team\n",
      "Author-email: jupyter@googlegroups.com\n",
      "License: BSD\n",
      "Location: /home/kwater/anaconda3/envs/gpu3/lib/python3.7/site-packages\n",
      "Requires: packaging, tornado, jupyterlab-server, jupyter-packaging, ipython, jupyter-core, nbclassic, jupyter-server, jinja2\n",
      "Required-by: jupyterlab-execute-time, jupyterlab-cell-flash, jlab-enhanced-cell-toolbar\n",
      "Note: you may need to restart the kernel to use updated packages.\n"
     ]
    }
   ],
   "source": [
    "pip show jupyterlab"
   ]
  },
  {
   "cell_type": "code",
   "execution_count": 211,
   "id": "3cf9da3d-7920-47fa-a249-a11ff48d04ca",
   "metadata": {
    "execution": {
     "iopub.execute_input": "2022-01-05T01:35:38.437238Z",
     "iopub.status.busy": "2022-01-05T01:35:38.436663Z",
     "iopub.status.idle": "2022-01-05T01:35:39.102493Z",
     "shell.execute_reply": "2022-01-05T01:35:39.100838Z",
     "shell.execute_reply.started": "2022-01-05T01:35:38.437170Z"
    },
    "tags": []
   },
   "outputs": [
    {
     "name": "stdout",
     "output_type": "stream",
     "text": [
      "Package                    Version\n",
      "-------------------------- -------------------\n",
      "absl-py                    0.12.0\n",
      "anyio                      2.2.0\n",
      "APScheduler                3.8.1\n",
      "argon2-cffi                20.1.0\n",
      "astunparse                 1.6.3\n",
      "async-generator            1.10\n",
      "attrs                      20.3.0\n",
      "Babel                      2.9.1\n",
      "backcall                   0.2.0\n",
      "backports.zoneinfo         0.2.1\n",
      "bert-pytorch               0.0.1a4\n",
      "bleach                     3.3.0\n",
      "cachetools                 4.2.1\n",
      "certifi                    2020.12.5\n",
      "cffi                       1.14.5\n",
      "chardet                    4.0.0\n",
      "cycler                     0.10.0\n",
      "Cython                     0.29.23\n",
      "decorator                  5.0.7\n",
      "defusedxml                 0.7.1\n",
      "deprecation                2.1.0\n",
      "dill                       0.3.3\n",
      "entrypoints                0.3\n",
      "flatbuffers                1.12\n",
      "future                     0.18.2\n",
      "gast                       0.3.3\n",
      "google-auth                1.29.0\n",
      "google-auth-oauthlib       0.4.4\n",
      "google-pasta               0.2.0\n",
      "googleapis-common-protos   1.53.0\n",
      "GPUtil                     1.4.0\n",
      "greenlet                   1.1.1\n",
      "grpcio                     1.32.0\n",
      "gviz-api                   1.9.0\n",
      "h5py                       2.10.0\n",
      "idna                       2.10\n",
      "importlib-metadata         4.0.1\n",
      "importlib-resources        5.1.2\n",
      "ipykernel                  5.5.3\n",
      "ipython                    7.22.0\n",
      "ipython-genutils           0.2.0\n",
      "jedi                       0.18.0\n",
      "Jinja2                     2.11.3\n",
      "jlab-enhanced-cell-toolbar 3.2.1\n",
      "joblib                     1.0.1\n",
      "json5                      0.9.5\n",
      "jsonschema                 3.2.0\n",
      "jupyter-client             6.1.12\n",
      "jupyter-core               4.7.1\n",
      "jupyter-packaging          0.9.2\n",
      "jupyter-server             1.6.4\n",
      "jupyterlab                 3.0.14\n",
      "jupyterlab-cell-flash      0.3.2\n",
      "jupyterlab-execute-time    2.0.2\n",
      "jupyterlab-pygments        0.1.2\n",
      "jupyterlab-server          2.5.0\n",
      "Keras                      2.4.3\n",
      "Keras-Preprocessing        1.1.2\n",
      "kiwisolver                 1.3.1\n",
      "llvmlite                   0.36.0\n",
      "mariadb                    1.0.7\n",
      "Markdown                   3.3.4\n",
      "MarkupSafe                 1.1.1\n",
      "matplotlib                 3.4.1\n",
      "mistune                    0.8.4\n",
      "nbclassic                  0.2.7\n",
      "nbclient                   0.5.3\n",
      "nbconvert                  6.0.7\n",
      "nbformat                   5.1.3\n",
      "nest-asyncio               1.5.1\n",
      "notebook                   6.3.0\n",
      "ntplib                     0.4.0\n",
      "numba                      0.53.1\n",
      "numpy                      1.19.5\n",
      "oauthlib                   3.1.0\n",
      "opt-einsum                 3.3.0\n",
      "packaging                  20.9\n",
      "pandas                     1.2.4\n",
      "pandocfilters              1.4.3\n",
      "parso                      0.8.2\n",
      "patsy                      0.5.1\n",
      "PeakUtils                  1.3.3\n",
      "pexpect                    4.8.0\n",
      "pickleshare                0.7.5\n",
      "Pillow                     8.2.0\n",
      "pip                        21.0.1\n",
      "prometheus-client          0.10.1\n",
      "promise                    2.3\n",
      "prompt-toolkit             3.0.18\n",
      "protobuf                   3.15.8\n",
      "ptyprocess                 0.7.0\n",
      "pyasn1                     0.4.8\n",
      "pyasn1-modules             0.2.8\n",
      "pycparser                  2.20\n",
      "Pygments                   2.8.1\n",
      "PyMySQL                    1.0.2\n",
      "pynndescent                0.5.4\n",
      "pyparsing                  2.4.7\n",
      "pyrsistent                 0.17.3\n",
      "python-dateutil            2.8.1\n",
      "pytz                       2021.1\n",
      "pytz-deprecation-shim      0.1.0.post0\n",
      "PyYAML                     5.4.1\n",
      "pyzmq                      22.0.3\n",
      "requests                   2.25.1\n",
      "requests-oauthlib          1.3.0\n",
      "rsa                        4.7.2\n",
      "scikit-learn               0.24.2\n",
      "scipy                      1.6.3\n",
      "seaborn                    0.11.1\n",
      "Send2Trash                 1.5.0\n",
      "setuptools                 52.0.0.post20210125\n",
      "six                        1.15.0\n",
      "sklearn                    0.0\n",
      "sniffio                    1.2.0\n",
      "SQLAlchemy                 1.4.23\n",
      "statsmodels                0.12.2\n",
      "tensorboard                2.5.0\n",
      "tensorboard-data-server    0.6.0\n",
      "tensorboard-plugin-profile 2.4.0\n",
      "tensorboard-plugin-wit     1.8.0\n",
      "tensorflow-datasets        4.2.0\n",
      "tensorflow-estimator       2.4.0\n",
      "tensorflow-gpu             2.4.0\n",
      "tensorflow-metadata        0.30.0\n",
      "termcolor                  1.1.0\n",
      "terminado                  0.9.4\n",
      "testpath                   0.4.4\n",
      "threadpoolctl              2.1.0\n",
      "tomlkit                    0.7.0\n",
      "torch                      1.8.1\n",
      "tornado                    6.1\n",
      "tqdm                       4.60.0\n",
      "traitlets                  5.0.5\n",
      "tslearn                    0.5.1.0\n",
      "typing-extensions          3.7.4.3\n",
      "tzdata                     2021.5\n",
      "tzlocal                    4.1\n",
      "umap-learn                 0.5.1\n",
      "urllib3                    1.26.4\n",
      "wcwidth                    0.2.5\n",
      "webencodings               0.5.1\n",
      "Werkzeug                   1.0.1\n",
      "wheel                      0.36.2\n",
      "wrapt                      1.12.1\n",
      "zipp                       3.4.1\n",
      "Note: you may need to restart the kernel to use updated packages.\n"
     ]
    }
   ],
   "source": [
    "pip list"
   ]
  },
  {
   "cell_type": "code",
   "execution_count": 210,
   "id": "0f88f747-f714-4d0e-be75-61dd2dbaaa99",
   "metadata": {
    "execution": {
     "iopub.execute_input": "2022-01-05T01:35:31.096747Z",
     "iopub.status.busy": "2022-01-05T01:35:31.096218Z",
     "iopub.status.idle": "2022-01-05T01:35:32.714456Z",
     "shell.execute_reply": "2022-01-05T01:35:32.712917Z",
     "shell.execute_reply.started": "2022-01-05T01:35:31.096680Z"
    },
    "tags": []
   },
   "outputs": [
    {
     "name": "stdout",
     "output_type": "stream",
     "text": [
      "Collecting ntplib\n",
      "  Using cached ntplib-0.4.0-py2.py3-none-any.whl (6.8 kB)\n",
      "Installing collected packages: ntplib\n",
      "Successfully installed ntplib-0.4.0\n",
      "Note: you may need to restart the kernel to use updated packages.\n"
     ]
    }
   ],
   "source": [
    "pip install ntplib"
   ]
  },
  {
   "cell_type": "code",
   "execution_count": 212,
   "id": "fd90d2dd-478e-49a4-94cd-2aee3f2990c4",
   "metadata": {
    "execution": {
     "iopub.execute_input": "2022-01-05T01:35:46.290516Z",
     "iopub.status.busy": "2022-01-05T01:35:46.289884Z",
     "iopub.status.idle": "2022-01-05T01:35:46.390489Z",
     "shell.execute_reply": "2022-01-05T01:35:46.388959Z",
     "shell.execute_reply.started": "2022-01-05T01:35:46.290446Z"
    },
    "tags": []
   },
   "outputs": [
    {
     "name": "stdout",
     "output_type": "stream",
     "text": [
      "Wed Jan  5 10:35:46 2022\n"
     ]
    }
   ],
   "source": [
    "import ntplib \n",
    "from time import ctime \n",
    "\n",
    "timeServer = 'time.windows.com'               # NTP Server Domain Or IP \n",
    "c = ntplib.NTPClient() \n",
    "response = c.request(timeServer, version=3) \n",
    "print(ctime(response.tx_time))"
   ]
  },
  {
   "cell_type": "code",
   "execution_count": 199,
   "id": "a283c619-79ea-4169-b890-bbbbe467ab5f",
   "metadata": {
    "execution": {
     "iopub.execute_input": "2022-01-05T01:17:30.815282Z",
     "iopub.status.busy": "2022-01-05T01:17:30.814696Z",
     "iopub.status.idle": "2022-01-05T01:17:30.823921Z",
     "shell.execute_reply": "2022-01-05T01:17:30.822167Z",
     "shell.execute_reply.started": "2022-01-05T01:17:30.815216Z"
    },
    "tags": []
   },
   "outputs": [
    {
     "name": "stdout",
     "output_type": "stream",
     "text": [
      "/home/kwater/anaconda3/envs/gpu3/bin/python\n",
      "['/home/kwater/samba/apps/ksb', '/home/kwater/anaconda3/envs/gpu3/lib/python37.zip', '/home/kwater/anaconda3/envs/gpu3/lib/python3.7', '/home/kwater/anaconda3/envs/gpu3/lib/python3.7/lib-dynload', '', '/home/kwater/.local/lib/python3.7/site-packages', '/home/kwater/anaconda3/envs/gpu3/lib/python3.7/site-packages', '/home/kwater/anaconda3/envs/gpu3/lib/python3.7/site-packages/IPython/extensions', '/home/kwater/.ipython']\n"
     ]
    }
   ],
   "source": [
    "import sys\n",
    "print(sys.executable)\n",
    "print(sys.path)"
   ]
  },
  {
   "cell_type": "code",
   "execution_count": 213,
   "id": "c7c5e156-7ca8-4563-81b6-cf74bc6f53cb",
   "metadata": {
    "execution": {
     "iopub.execute_input": "2022-01-05T07:11:00.096306Z",
     "iopub.status.busy": "2022-01-05T07:11:00.095736Z",
     "iopub.status.idle": "2022-01-05T07:11:00.104184Z",
     "shell.execute_reply": "2022-01-05T07:11:00.102625Z",
     "shell.execute_reply.started": "2022-01-05T07:11:00.096246Z"
    },
    "tags": []
   },
   "outputs": [
    {
     "name": "stdout",
     "output_type": "stream",
     "text": [
      "The number of mangoes I have are \"10\"\n"
     ]
    }
   ],
   "source": [
    "x = 10\n",
    "print (f'The number of mangoes I have are \"{x}\"')"
   ]
  },
  {
   "cell_type": "code",
   "execution_count": 214,
   "id": "e7c021ca-ea86-432b-a94a-e8d6e5d2bec5",
   "metadata": {
    "execution": {
     "iopub.execute_input": "2022-01-05T07:11:01.984371Z",
     "iopub.status.busy": "2022-01-05T07:11:01.983886Z",
     "iopub.status.idle": "2022-01-05T07:11:01.991911Z",
     "shell.execute_reply": "2022-01-05T07:11:01.990616Z",
     "shell.execute_reply.started": "2022-01-05T07:11:01.984314Z"
    },
    "tags": []
   },
   "outputs": [
    {
     "name": "stdout",
     "output_type": "stream",
     "text": [
      "The number of mangoes I have are \"10\"\n"
     ]
    }
   ],
   "source": [
    "x = 10\n",
    "print ('The number of mangoes I have are \"', x, '\"', sep='')"
   ]
  },
  {
   "cell_type": "code",
   "execution_count": 243,
   "id": "c132bebe-ea77-4765-be3f-a878ddaae604",
   "metadata": {
    "execution": {
     "iopub.execute_input": "2022-01-06T00:53:48.066951Z",
     "iopub.status.busy": "2022-01-06T00:53:48.066440Z",
     "iopub.status.idle": "2022-01-06T00:53:48.076268Z",
     "shell.execute_reply": "2022-01-06T00:53:48.074902Z",
     "shell.execute_reply.started": "2022-01-06T00:53:48.066891Z"
    },
    "tags": []
   },
   "outputs": [
    {
     "name": "stdout",
     "output_type": "stream",
     "text": [
      "[1, 2, '3', 4, 5, '6', 7, 8, '9', 10]\n"
     ]
    }
   ],
   "source": [
    "# 람다 표현식에서 if를 사용했다면 반드시 else를 사용해야 합니다\n",
    "\n",
    "a = [1, 2, 3, 4, 5, 6, 7, 8, 9, 10]\n",
    "# b = list(map(lambda x: str(x) if x % 3 == 0))\n",
    "b = list(map(lambda x: str(x) if x % 3 == 0 else x, a))\n",
    "print(b)"
   ]
  },
  {
   "cell_type": "code",
   "execution_count": 247,
   "id": "da6d7efa-7ef0-4837-9adb-fb81ccf4ba01",
   "metadata": {
    "execution": {
     "iopub.execute_input": "2022-01-06T01:02:06.575657Z",
     "iopub.status.busy": "2022-01-06T01:02:06.575147Z",
     "iopub.status.idle": "2022-01-06T01:02:06.587180Z",
     "shell.execute_reply": "2022-01-06T01:02:06.586363Z",
     "shell.execute_reply.started": "2022-01-06T01:02:06.575598Z"
    },
    "tags": []
   },
   "outputs": [
    {
     "data": {
      "text/plain": [
       "['1', 2.0, 13, 14, 15, 16, 17, 18, 19, 20]"
      ]
     },
     "execution_count": 247,
     "metadata": {},
     "output_type": "execute_result"
    }
   ],
   "source": [
    "a = [1, 2, 3, 4, 5, 6, 7, 8, 9, 10]\n",
    "list(map(lambda x: str(x) if x == 1 else float(x) if x == 2 else x + 10, a))\n",
    "\n",
    "-----\n",
    "\n",
    "\n",
    "def f(x):\n",
    " if x == 1:\n",
    "     return str(x)\n",
    " elif x == 2:\n",
    "     return float(x)\n",
    " else:\n",
    "     return x + 10\n",
    "\n",
    "a = [1, 2, 3, 4, 5, 6, 7, 8, 9, 10]\n",
    "list(map(f, a))"
   ]
  },
  {
   "cell_type": "code",
   "execution_count": 248,
   "id": "7daf7838-0153-4372-afc0-47c0c75de143",
   "metadata": {
    "execution": {
     "iopub.execute_input": "2022-01-06T01:06:52.839076Z",
     "iopub.status.busy": "2022-01-06T01:06:52.838500Z",
     "iopub.status.idle": "2022-01-06T01:06:52.850788Z",
     "shell.execute_reply": "2022-01-06T01:06:52.849285Z",
     "shell.execute_reply.started": "2022-01-06T01:06:52.839014Z"
    },
    "tags": []
   },
   "outputs": [
    {
     "data": {
      "text/plain": [
       "[2, 8, 18, 32, 50]"
      ]
     },
     "execution_count": 248,
     "metadata": {},
     "output_type": "execute_result"
    }
   ],
   "source": [
    "a = [1, 2, 3, 4, 5]\n",
    "b = [2, 4, 6, 8, 10]\n",
    "list(map(lambda x, y: x * y, a, b))"
   ]
  },
  {
   "cell_type": "code",
   "execution_count": 249,
   "id": "45310174-1ad3-4e56-a290-081e088d1763",
   "metadata": {
    "execution": {
     "iopub.execute_input": "2022-01-06T01:09:25.361308Z",
     "iopub.status.busy": "2022-01-06T01:09:25.360696Z",
     "iopub.status.idle": "2022-01-06T01:09:25.373848Z",
     "shell.execute_reply": "2022-01-06T01:09:25.372386Z",
     "shell.execute_reply.started": "2022-01-06T01:09:25.361243Z"
    },
    "tags": []
   },
   "outputs": [
    {
     "data": {
      "text/plain": [
       "[8, 7, 9]"
      ]
     },
     "execution_count": 249,
     "metadata": {},
     "output_type": "execute_result"
    }
   ],
   "source": [
    "def f(x):\n",
    "    return x > 5 and x < 10\n",
    "\n",
    "a = [8, 3, 2, 10, 15, 7, 1, 9, 0, 11]\n",
    "list(filter(f, a))"
   ]
  },
  {
   "cell_type": "code",
   "execution_count": 250,
   "id": "4f4e9d2c-21ed-43b5-97d4-4b059dcfaccc",
   "metadata": {
    "execution": {
     "iopub.execute_input": "2022-01-06T01:12:24.191424Z",
     "iopub.status.busy": "2022-01-06T01:12:24.190802Z",
     "iopub.status.idle": "2022-01-06T01:12:24.202201Z",
     "shell.execute_reply": "2022-01-06T01:12:24.200725Z",
     "shell.execute_reply.started": "2022-01-06T01:12:24.191356Z"
    },
    "tags": []
   },
   "outputs": [
    {
     "data": {
      "text/plain": [
       "[8, 7, 9]"
      ]
     },
     "execution_count": 250,
     "metadata": {},
     "output_type": "execute_result"
    }
   ],
   "source": [
    "a = [8, 3, 2, 10, 15, 7, 1, 9, 0, 11]\n",
    "list(filter(lambda x: x > 5 and x < 10, a))"
   ]
  },
  {
   "cell_type": "code",
   "execution_count": null,
   "id": "c6f44dfe-a98a-42e6-8249-65ec5b5779fc",
   "metadata": {},
   "outputs": [],
   "source": []
  },
  {
   "cell_type": "code",
   "execution_count": 215,
   "id": "5873426c-df81-44bd-a33b-3862e4e3a126",
   "metadata": {
    "execution": {
     "iopub.execute_input": "2022-01-05T07:31:48.828712Z",
     "iopub.status.busy": "2022-01-05T07:31:48.828168Z",
     "iopub.status.idle": "2022-01-05T07:31:48.840359Z",
     "shell.execute_reply": "2022-01-05T07:31:48.838736Z",
     "shell.execute_reply.started": "2022-01-05T07:31:48.828648Z"
    },
    "tags": []
   },
   "outputs": [
    {
     "data": {
      "text/plain": [
       "datetime.datetime(2022, 1, 5, 16, 31, 48, 830655)"
      ]
     },
     "execution_count": 215,
     "metadata": {},
     "output_type": "execute_result"
    }
   ],
   "source": [
    "import datetime\n",
    "\n",
    "datetime.datetime.now()"
   ]
  },
  {
   "cell_type": "code",
   "execution_count": null,
   "id": "6ebce112-ecb7-4e1e-99f0-042e073802f1",
   "metadata": {},
   "outputs": [],
   "source": []
  },
  {
   "cell_type": "code",
   "execution_count": null,
   "id": "35293816-2bd4-4008-836b-d7541f900819",
   "metadata": {},
   "outputs": [],
   "source": []
  },
  {
   "cell_type": "code",
   "execution_count": null,
   "id": "a6c0df38-9d27-4850-a052-eec7b4a99d26",
   "metadata": {},
   "outputs": [],
   "source": []
  },
  {
   "cell_type": "code",
   "execution_count": null,
   "id": "dcad5ac6-0f17-4ad1-89f4-8cf7a6483cb6",
   "metadata": {},
   "outputs": [],
   "source": []
  },
  {
   "cell_type": "code",
   "execution_count": null,
   "id": "93325519-d216-42ca-91e6-5cde846c3201",
   "metadata": {},
   "outputs": [],
   "source": []
  },
  {
   "cell_type": "code",
   "execution_count": null,
   "id": "fc9bdbac-6f55-4cec-848c-eb043206ced7",
   "metadata": {},
   "outputs": [],
   "source": []
  },
  {
   "cell_type": "code",
   "execution_count": null,
   "id": "32eec9d0-93fd-4271-acac-55e8e01d0fd5",
   "metadata": {},
   "outputs": [],
   "source": []
  },
  {
   "cell_type": "code",
   "execution_count": 216,
   "id": "3a693bd8-e7ad-4ac3-a333-36e05e88fec7",
   "metadata": {
    "execution": {
     "iopub.execute_input": "2022-01-06T00:32:01.519751Z",
     "iopub.status.busy": "2022-01-06T00:32:01.519372Z",
     "iopub.status.idle": "2022-01-06T00:32:01.533102Z",
     "shell.execute_reply": "2022-01-06T00:32:01.532015Z",
     "shell.execute_reply.started": "2022-01-06T00:32:01.519708Z"
    },
    "tags": []
   },
   "outputs": [],
   "source": [
    "import pandas as pd\n",
    "import numpy as np\n",
    "%matplotlib inline\n",
    "import matplotlib.pyplot as plt\n",
    "import seaborn as sns\n",
    "\n",
    "from sklearn.preprocessing import MinMaxScaler\n",
    "from keras.layers import LSTM \n",
    "from keras.models import Sequential \n",
    "from keras.layers import Dense \n",
    "import keras.backend as K \n",
    "from keras.callbacks import EarlyStopping"
   ]
  },
  {
   "cell_type": "code",
   "execution_count": 217,
   "id": "15ac86ce-7710-4a00-8822-1f645d828933",
   "metadata": {
    "execution": {
     "iopub.execute_input": "2022-01-06T00:32:03.430850Z",
     "iopub.status.busy": "2022-01-06T00:32:03.430324Z",
     "iopub.status.idle": "2022-01-06T00:32:03.435329Z",
     "shell.execute_reply": "2022-01-06T00:32:03.434518Z",
     "shell.execute_reply.started": "2022-01-06T00:32:03.430790Z"
    },
    "tags": []
   },
   "outputs": [],
   "source": [
    "path = '/KWATER/data/csv/'"
   ]
  },
  {
   "cell_type": "code",
   "execution_count": 218,
   "id": "882fceb6-570c-4d55-be1d-a2cb0d399dc6",
   "metadata": {
    "execution": {
     "iopub.execute_input": "2022-01-06T00:32:05.068484Z",
     "iopub.status.busy": "2022-01-06T00:32:05.068050Z",
     "iopub.status.idle": "2022-01-06T00:32:07.129791Z",
     "shell.execute_reply": "2022-01-06T00:32:07.128307Z",
     "shell.execute_reply.started": "2022-01-06T00:32:05.068448Z"
    },
    "tags": []
   },
   "outputs": [
    {
     "data": {
      "text/html": [
       "<div>\n",
       "<style scoped>\n",
       "    .dataframe tbody tr th:only-of-type {\n",
       "        vertical-align: middle;\n",
       "    }\n",
       "\n",
       "    .dataframe tbody tr th {\n",
       "        vertical-align: top;\n",
       "    }\n",
       "\n",
       "    .dataframe thead th {\n",
       "        text-align: right;\n",
       "    }\n",
       "</style>\n",
       "<table border=\"1\" class=\"dataframe\">\n",
       "  <thead>\n",
       "    <tr style=\"text-align: right;\">\n",
       "      <th></th>\n",
       "      <th>AHSWGS0.745-617-CLI-2002.F_CV</th>\n",
       "      <th>2017-02-08 17:45:15</th>\n",
       "      <th>0</th>\n",
       "      <th>100</th>\n",
       "    </tr>\n",
       "  </thead>\n",
       "  <tbody>\n",
       "    <tr>\n",
       "      <th>2501692</th>\n",
       "      <td>AHSWGS0.745-617-CLI-2002.F_CV</td>\n",
       "      <td>2021-11-17 02:44:00</td>\n",
       "      <td>0.585875</td>\n",
       "      <td>100</td>\n",
       "    </tr>\n",
       "    <tr>\n",
       "      <th>2501693</th>\n",
       "      <td>AHSWGS0.745-617-CLI-2002.F_CV</td>\n",
       "      <td>2021-11-17 02:45:00</td>\n",
       "      <td>0.590375</td>\n",
       "      <td>100</td>\n",
       "    </tr>\n",
       "    <tr>\n",
       "      <th>2501694</th>\n",
       "      <td>AHSWGS0.745-617-CLI-2002.F_CV</td>\n",
       "      <td>2021-11-17 02:46:00</td>\n",
       "      <td>0.585750</td>\n",
       "      <td>100</td>\n",
       "    </tr>\n",
       "    <tr>\n",
       "      <th>2501695</th>\n",
       "      <td>AHSWGS0.745-617-CLI-2002.F_CV</td>\n",
       "      <td>2021-11-17 02:47:00</td>\n",
       "      <td>0.572125</td>\n",
       "      <td>100</td>\n",
       "    </tr>\n",
       "    <tr>\n",
       "      <th>2501696</th>\n",
       "      <td>AHSWGS0.745-617-CLI-2002.F_CV</td>\n",
       "      <td>2021-11-17 02:48:00</td>\n",
       "      <td>0.576500</td>\n",
       "      <td>100</td>\n",
       "    </tr>\n",
       "  </tbody>\n",
       "</table>\n",
       "</div>"
      ],
      "text/plain": [
       "         AHSWGS0.745-617-CLI-2002.F_CV  2017-02-08 17:45:15         0  100\n",
       "2501692  AHSWGS0.745-617-CLI-2002.F_CV  2021-11-17 02:44:00  0.585875  100\n",
       "2501693  AHSWGS0.745-617-CLI-2002.F_CV  2021-11-17 02:45:00  0.590375  100\n",
       "2501694  AHSWGS0.745-617-CLI-2002.F_CV  2021-11-17 02:46:00  0.585750  100\n",
       "2501695  AHSWGS0.745-617-CLI-2002.F_CV  2021-11-17 02:47:00  0.572125  100\n",
       "2501696  AHSWGS0.745-617-CLI-2002.F_CV  2021-11-17 02:48:00  0.576500  100"
      ]
     },
     "execution_count": 218,
     "metadata": {},
     "output_type": "execute_result"
    }
   ],
   "source": [
    "df1 = pd.read_csv(path+'AHSWGS0.745-617-CLI-2002.F_CV.csv')\n",
    "df1.tail()"
   ]
  },
  {
   "cell_type": "code",
   "execution_count": 219,
   "id": "b146a6d5-ca20-4119-abb5-3e8e8fdd7ed5",
   "metadata": {
    "execution": {
     "iopub.execute_input": "2022-01-06T00:32:08.972810Z",
     "iopub.status.busy": "2022-01-06T00:32:08.972356Z",
     "iopub.status.idle": "2022-01-06T00:32:08.979229Z",
     "shell.execute_reply": "2022-01-06T00:32:08.978058Z",
     "shell.execute_reply.started": "2022-01-06T00:32:08.972754Z"
    },
    "tags": []
   },
   "outputs": [],
   "source": [
    "df1.columns = ['이름', '요일', 'X값', '고정c값']"
   ]
  },
  {
   "cell_type": "code",
   "execution_count": 220,
   "id": "e3d3c611-0110-45f3-8a84-20fbbed3294e",
   "metadata": {
    "execution": {
     "iopub.execute_input": "2022-01-06T00:32:10.735496Z",
     "iopub.status.busy": "2022-01-06T00:32:10.735027Z",
     "iopub.status.idle": "2022-01-06T00:32:12.249658Z",
     "shell.execute_reply": "2022-01-06T00:32:12.249006Z",
     "shell.execute_reply.started": "2022-01-06T00:32:10.735438Z"
    },
    "tags": []
   },
   "outputs": [],
   "source": [
    "df1['Datetime'] = pd.to_datetime(df1['요일'])\n",
    "df1['Year']= df1['Datetime'].dt.year\n",
    "df1['Month']= df1['Datetime'].dt.month\n",
    "df1['Day']= df1['Datetime'].dt.day\n",
    "df1['day_of_week']= df1['Datetime'].dt.day_name()"
   ]
  },
  {
   "cell_type": "code",
   "execution_count": 221,
   "id": "14bc0337-24ec-4390-8939-2b99f6c9ca28",
   "metadata": {
    "execution": {
     "iopub.execute_input": "2022-01-06T00:32:12.861247Z",
     "iopub.status.busy": "2022-01-06T00:32:12.860698Z",
     "iopub.status.idle": "2022-01-06T00:32:12.880863Z",
     "shell.execute_reply": "2022-01-06T00:32:12.879228Z",
     "shell.execute_reply.started": "2022-01-06T00:32:12.861187Z"
    },
    "tags": []
   },
   "outputs": [
    {
     "name": "stdout",
     "output_type": "stream",
     "text": [
      "<class 'pandas.core.frame.DataFrame'>\n",
      "RangeIndex: 2501697 entries, 0 to 2501696\n",
      "Data columns (total 9 columns):\n",
      " #   Column       Dtype         \n",
      "---  ------       -----         \n",
      " 0   이름           object        \n",
      " 1   요일           object        \n",
      " 2   X값           float64       \n",
      " 3   고정c값         int64         \n",
      " 4   Datetime     datetime64[ns]\n",
      " 5   Year         int64         \n",
      " 6   Month        int64         \n",
      " 7   Day          int64         \n",
      " 8   day_of_week  object        \n",
      "dtypes: datetime64[ns](1), float64(1), int64(4), object(3)\n",
      "memory usage: 171.8+ MB\n"
     ]
    }
   ],
   "source": [
    "df1.info()"
   ]
  },
  {
   "cell_type": "code",
   "execution_count": 152,
   "id": "43c6900e-fb46-4683-8125-1dde21ff3c86",
   "metadata": {
    "execution": {
     "iopub.execute_input": "2022-01-04T07:10:16.863683Z",
     "iopub.status.busy": "2022-01-04T07:10:16.863219Z",
     "iopub.status.idle": "2022-01-04T07:10:16.868942Z",
     "shell.execute_reply": "2022-01-04T07:10:16.867317Z",
     "shell.execute_reply.started": "2022-01-04T07:10:16.863625Z"
    },
    "tags": []
   },
   "outputs": [],
   "source": [
    "# cond1 = (df1['']=='')\n",
    "# df1.loc[cond1]"
   ]
  },
  {
   "cell_type": "code",
   "execution_count": 222,
   "id": "f75dd7f3-7fc8-4093-bfc3-5b7b789631cc",
   "metadata": {
    "execution": {
     "iopub.execute_input": "2022-01-06T00:32:15.616228Z",
     "iopub.status.busy": "2022-01-06T00:32:15.615776Z",
     "iopub.status.idle": "2022-01-06T00:32:15.891598Z",
     "shell.execute_reply": "2022-01-06T00:32:15.890878Z",
     "shell.execute_reply.started": "2022-01-06T00:32:15.616172Z"
    },
    "tags": []
   },
   "outputs": [],
   "source": [
    "cond1 = (df1['X값']== 0)\n",
    "df2 = df1.loc[cond1]"
   ]
  },
  {
   "cell_type": "code",
   "execution_count": 223,
   "id": "2f8f0edf-84fc-4dbe-ab68-a3c3cbd6f1fc",
   "metadata": {
    "execution": {
     "iopub.execute_input": "2022-01-06T00:32:17.174779Z",
     "iopub.status.busy": "2022-01-06T00:32:17.174317Z",
     "iopub.status.idle": "2022-01-06T00:32:17.204494Z",
     "shell.execute_reply": "2022-01-06T00:32:17.203414Z",
     "shell.execute_reply.started": "2022-01-06T00:32:17.174721Z"
    },
    "tags": []
   },
   "outputs": [
    {
     "name": "stdout",
     "output_type": "stream",
     "text": [
      "<class 'pandas.core.frame.DataFrame'>\n",
      "Int64Index: 89840 entries, 0 to 2489144\n",
      "Data columns (total 9 columns):\n",
      " #   Column       Non-Null Count  Dtype         \n",
      "---  ------       --------------  -----         \n",
      " 0   이름           89840 non-null  object        \n",
      " 1   요일           89840 non-null  object        \n",
      " 2   X값           89840 non-null  float64       \n",
      " 3   고정c값         89840 non-null  int64         \n",
      " 4   Datetime     89840 non-null  datetime64[ns]\n",
      " 5   Year         89840 non-null  int64         \n",
      " 6   Month        89840 non-null  int64         \n",
      " 7   Day          89840 non-null  int64         \n",
      " 8   day_of_week  89840 non-null  object        \n",
      "dtypes: datetime64[ns](1), float64(1), int64(4), object(3)\n",
      "memory usage: 6.9+ MB\n"
     ]
    }
   ],
   "source": [
    "df2.info()"
   ]
  },
  {
   "cell_type": "code",
   "execution_count": 224,
   "id": "7e09e17b-523a-4fba-8669-3c2d04e86a71",
   "metadata": {
    "execution": {
     "iopub.execute_input": "2022-01-06T00:32:19.241063Z",
     "iopub.status.busy": "2022-01-06T00:32:19.240547Z",
     "iopub.status.idle": "2022-01-06T00:32:19.407903Z",
     "shell.execute_reply": "2022-01-06T00:32:19.406616Z",
     "shell.execute_reply.started": "2022-01-06T00:32:19.240962Z"
    },
    "tags": []
   },
   "outputs": [],
   "source": [
    "cond1 = (df1['X값']!= 0)\n",
    "df3 = df1.loc[cond1]"
   ]
  },
  {
   "cell_type": "code",
   "execution_count": 225,
   "id": "63c5cd21-c657-4bca-9e2d-bb69adb14bab",
   "metadata": {
    "execution": {
     "iopub.execute_input": "2022-01-06T00:32:20.876274Z",
     "iopub.status.busy": "2022-01-06T00:32:20.875757Z",
     "iopub.status.idle": "2022-01-06T00:32:20.901972Z",
     "shell.execute_reply": "2022-01-06T00:32:20.901045Z",
     "shell.execute_reply.started": "2022-01-06T00:32:20.876215Z"
    },
    "tags": []
   },
   "outputs": [
    {
     "data": {
      "text/html": [
       "<div>\n",
       "<style scoped>\n",
       "    .dataframe tbody tr th:only-of-type {\n",
       "        vertical-align: middle;\n",
       "    }\n",
       "\n",
       "    .dataframe tbody tr th {\n",
       "        vertical-align: top;\n",
       "    }\n",
       "\n",
       "    .dataframe thead th {\n",
       "        text-align: right;\n",
       "    }\n",
       "</style>\n",
       "<table border=\"1\" class=\"dataframe\">\n",
       "  <thead>\n",
       "    <tr style=\"text-align: right;\">\n",
       "      <th></th>\n",
       "      <th>이름</th>\n",
       "      <th>요일</th>\n",
       "      <th>X값</th>\n",
       "      <th>고정c값</th>\n",
       "      <th>Datetime</th>\n",
       "      <th>Year</th>\n",
       "      <th>Month</th>\n",
       "      <th>Day</th>\n",
       "      <th>day_of_week</th>\n",
       "    </tr>\n",
       "  </thead>\n",
       "  <tbody>\n",
       "    <tr>\n",
       "      <th>1282</th>\n",
       "      <td>AHSWGS0.745-617-CLI-2002.F_CV</td>\n",
       "      <td>2017-02-09 15:09:00</td>\n",
       "      <td>0.000625</td>\n",
       "      <td>100</td>\n",
       "      <td>2017-02-09 15:09:00</td>\n",
       "      <td>2017</td>\n",
       "      <td>2</td>\n",
       "      <td>9</td>\n",
       "      <td>Thursday</td>\n",
       "    </tr>\n",
       "    <tr>\n",
       "      <th>2418</th>\n",
       "      <td>AHSWGS0.745-617-CLI-2002.F_CV</td>\n",
       "      <td>2017-02-10 10:06:00</td>\n",
       "      <td>0.005250</td>\n",
       "      <td>100</td>\n",
       "      <td>2017-02-10 10:06:00</td>\n",
       "      <td>2017</td>\n",
       "      <td>2</td>\n",
       "      <td>10</td>\n",
       "      <td>Friday</td>\n",
       "    </tr>\n",
       "    <tr>\n",
       "      <th>2712</th>\n",
       "      <td>AHSWGS0.745-617-CLI-2002.F_CV</td>\n",
       "      <td>2017-02-10 15:00:00</td>\n",
       "      <td>0.000750</td>\n",
       "      <td>100</td>\n",
       "      <td>2017-02-10 15:00:00</td>\n",
       "      <td>2017</td>\n",
       "      <td>2</td>\n",
       "      <td>10</td>\n",
       "      <td>Friday</td>\n",
       "    </tr>\n",
       "    <tr>\n",
       "      <th>2713</th>\n",
       "      <td>AHSWGS0.745-617-CLI-2002.F_CV</td>\n",
       "      <td>2017-02-10 15:01:00</td>\n",
       "      <td>0.001125</td>\n",
       "      <td>100</td>\n",
       "      <td>2017-02-10 15:01:00</td>\n",
       "      <td>2017</td>\n",
       "      <td>2</td>\n",
       "      <td>10</td>\n",
       "      <td>Friday</td>\n",
       "    </tr>\n",
       "    <tr>\n",
       "      <th>2714</th>\n",
       "      <td>AHSWGS0.745-617-CLI-2002.F_CV</td>\n",
       "      <td>2017-02-10 15:02:00</td>\n",
       "      <td>0.005625</td>\n",
       "      <td>100</td>\n",
       "      <td>2017-02-10 15:02:00</td>\n",
       "      <td>2017</td>\n",
       "      <td>2</td>\n",
       "      <td>10</td>\n",
       "      <td>Friday</td>\n",
       "    </tr>\n",
       "    <tr>\n",
       "      <th>...</th>\n",
       "      <td>...</td>\n",
       "      <td>...</td>\n",
       "      <td>...</td>\n",
       "      <td>...</td>\n",
       "      <td>...</td>\n",
       "      <td>...</td>\n",
       "      <td>...</td>\n",
       "      <td>...</td>\n",
       "      <td>...</td>\n",
       "    </tr>\n",
       "    <tr>\n",
       "      <th>2501692</th>\n",
       "      <td>AHSWGS0.745-617-CLI-2002.F_CV</td>\n",
       "      <td>2021-11-17 02:44:00</td>\n",
       "      <td>0.585875</td>\n",
       "      <td>100</td>\n",
       "      <td>2021-11-17 02:44:00</td>\n",
       "      <td>2021</td>\n",
       "      <td>11</td>\n",
       "      <td>17</td>\n",
       "      <td>Wednesday</td>\n",
       "    </tr>\n",
       "    <tr>\n",
       "      <th>2501693</th>\n",
       "      <td>AHSWGS0.745-617-CLI-2002.F_CV</td>\n",
       "      <td>2021-11-17 02:45:00</td>\n",
       "      <td>0.590375</td>\n",
       "      <td>100</td>\n",
       "      <td>2021-11-17 02:45:00</td>\n",
       "      <td>2021</td>\n",
       "      <td>11</td>\n",
       "      <td>17</td>\n",
       "      <td>Wednesday</td>\n",
       "    </tr>\n",
       "    <tr>\n",
       "      <th>2501694</th>\n",
       "      <td>AHSWGS0.745-617-CLI-2002.F_CV</td>\n",
       "      <td>2021-11-17 02:46:00</td>\n",
       "      <td>0.585750</td>\n",
       "      <td>100</td>\n",
       "      <td>2021-11-17 02:46:00</td>\n",
       "      <td>2021</td>\n",
       "      <td>11</td>\n",
       "      <td>17</td>\n",
       "      <td>Wednesday</td>\n",
       "    </tr>\n",
       "    <tr>\n",
       "      <th>2501695</th>\n",
       "      <td>AHSWGS0.745-617-CLI-2002.F_CV</td>\n",
       "      <td>2021-11-17 02:47:00</td>\n",
       "      <td>0.572125</td>\n",
       "      <td>100</td>\n",
       "      <td>2021-11-17 02:47:00</td>\n",
       "      <td>2021</td>\n",
       "      <td>11</td>\n",
       "      <td>17</td>\n",
       "      <td>Wednesday</td>\n",
       "    </tr>\n",
       "    <tr>\n",
       "      <th>2501696</th>\n",
       "      <td>AHSWGS0.745-617-CLI-2002.F_CV</td>\n",
       "      <td>2021-11-17 02:48:00</td>\n",
       "      <td>0.576500</td>\n",
       "      <td>100</td>\n",
       "      <td>2021-11-17 02:48:00</td>\n",
       "      <td>2021</td>\n",
       "      <td>11</td>\n",
       "      <td>17</td>\n",
       "      <td>Wednesday</td>\n",
       "    </tr>\n",
       "  </tbody>\n",
       "</table>\n",
       "<p>2411857 rows × 9 columns</p>\n",
       "</div>"
      ],
      "text/plain": [
       "                                    이름                   요일        X값  고정c값  \\\n",
       "1282     AHSWGS0.745-617-CLI-2002.F_CV  2017-02-09 15:09:00  0.000625   100   \n",
       "2418     AHSWGS0.745-617-CLI-2002.F_CV  2017-02-10 10:06:00  0.005250   100   \n",
       "2712     AHSWGS0.745-617-CLI-2002.F_CV  2017-02-10 15:00:00  0.000750   100   \n",
       "2713     AHSWGS0.745-617-CLI-2002.F_CV  2017-02-10 15:01:00  0.001125   100   \n",
       "2714     AHSWGS0.745-617-CLI-2002.F_CV  2017-02-10 15:02:00  0.005625   100   \n",
       "...                                ...                  ...       ...   ...   \n",
       "2501692  AHSWGS0.745-617-CLI-2002.F_CV  2021-11-17 02:44:00  0.585875   100   \n",
       "2501693  AHSWGS0.745-617-CLI-2002.F_CV  2021-11-17 02:45:00  0.590375   100   \n",
       "2501694  AHSWGS0.745-617-CLI-2002.F_CV  2021-11-17 02:46:00  0.585750   100   \n",
       "2501695  AHSWGS0.745-617-CLI-2002.F_CV  2021-11-17 02:47:00  0.572125   100   \n",
       "2501696  AHSWGS0.745-617-CLI-2002.F_CV  2021-11-17 02:48:00  0.576500   100   \n",
       "\n",
       "                   Datetime  Year  Month  Day day_of_week  \n",
       "1282    2017-02-09 15:09:00  2017      2    9    Thursday  \n",
       "2418    2017-02-10 10:06:00  2017      2   10      Friday  \n",
       "2712    2017-02-10 15:00:00  2017      2   10      Friday  \n",
       "2713    2017-02-10 15:01:00  2017      2   10      Friday  \n",
       "2714    2017-02-10 15:02:00  2017      2   10      Friday  \n",
       "...                     ...   ...    ...  ...         ...  \n",
       "2501692 2021-11-17 02:44:00  2021     11   17   Wednesday  \n",
       "2501693 2021-11-17 02:45:00  2021     11   17   Wednesday  \n",
       "2501694 2021-11-17 02:46:00  2021     11   17   Wednesday  \n",
       "2501695 2021-11-17 02:47:00  2021     11   17   Wednesday  \n",
       "2501696 2021-11-17 02:48:00  2021     11   17   Wednesday  \n",
       "\n",
       "[2411857 rows x 9 columns]"
      ]
     },
     "execution_count": 225,
     "metadata": {},
     "output_type": "execute_result"
    }
   ],
   "source": [
    "df3"
   ]
  },
  {
   "cell_type": "code",
   "execution_count": 226,
   "id": "6915782c-0acd-4853-a707-be8992575c32",
   "metadata": {
    "execution": {
     "iopub.execute_input": "2022-01-06T00:32:23.622596Z",
     "iopub.status.busy": "2022-01-06T00:32:23.622111Z",
     "iopub.status.idle": "2022-01-06T00:32:23.639803Z",
     "shell.execute_reply": "2022-01-06T00:32:23.637962Z",
     "shell.execute_reply.started": "2022-01-06T00:32:23.622537Z"
    },
    "tags": []
   },
   "outputs": [
    {
     "name": "stdout",
     "output_type": "stream",
     "text": [
      "<class 'pandas.core.frame.DataFrame'>\n",
      "Int64Index: 2411857 entries, 1282 to 2501696\n",
      "Data columns (total 9 columns):\n",
      " #   Column       Dtype         \n",
      "---  ------       -----         \n",
      " 0   이름           object        \n",
      " 1   요일           object        \n",
      " 2   X값           float64       \n",
      " 3   고정c값         int64         \n",
      " 4   Datetime     datetime64[ns]\n",
      " 5   Year         int64         \n",
      " 6   Month        int64         \n",
      " 7   Day          int64         \n",
      " 8   day_of_week  object        \n",
      "dtypes: datetime64[ns](1), float64(1), int64(4), object(3)\n",
      "memory usage: 184.0+ MB\n"
     ]
    }
   ],
   "source": [
    "df3.info()"
   ]
  },
  {
   "cell_type": "code",
   "execution_count": 227,
   "id": "408bfd7d-1bf3-4413-9477-fc8048d6f168",
   "metadata": {
    "execution": {
     "iopub.execute_input": "2022-01-06T00:32:27.254404Z",
     "iopub.status.busy": "2022-01-06T00:32:27.253911Z",
     "iopub.status.idle": "2022-01-06T00:32:27.797482Z",
     "shell.execute_reply": "2022-01-06T00:32:27.796497Z",
     "shell.execute_reply.started": "2022-01-06T00:32:27.254344Z"
    },
    "tags": []
   },
   "outputs": [],
   "source": [
    "p1 = pd.pivot_table(data=df3, index='Datetime', values='X값',aggfunc='sum').reset_index()"
   ]
  },
  {
   "cell_type": "code",
   "execution_count": 228,
   "id": "1fb30008-c6f7-4c2f-b045-d5aa95cb88eb",
   "metadata": {
    "execution": {
     "iopub.execute_input": "2022-01-06T00:32:29.242795Z",
     "iopub.status.busy": "2022-01-06T00:32:29.242316Z",
     "iopub.status.idle": "2022-01-06T00:32:29.250405Z",
     "shell.execute_reply": "2022-01-06T00:32:29.249156Z",
     "shell.execute_reply.started": "2022-01-06T00:32:29.242736Z"
    },
    "tags": []
   },
   "outputs": [],
   "source": [
    "p1.set_index('Datetime', inplace = True)"
   ]
  },
  {
   "cell_type": "code",
   "execution_count": 229,
   "id": "81d2b235-000e-469f-a316-6898dfc68098",
   "metadata": {
    "execution": {
     "iopub.execute_input": "2022-01-06T00:32:31.128693Z",
     "iopub.status.busy": "2022-01-06T00:32:31.128214Z",
     "iopub.status.idle": "2022-01-06T00:32:31.192499Z",
     "shell.execute_reply": "2022-01-06T00:32:31.191249Z",
     "shell.execute_reply.started": "2022-01-06T00:32:31.128635Z"
    },
    "tags": []
   },
   "outputs": [],
   "source": [
    "p1_train = p1.loc[p1.index < '2021-01-01',:]\n",
    "p1_test = p1.loc[p1.index >= '2021-01-01',:]"
   ]
  },
  {
   "cell_type": "code",
   "execution_count": 235,
   "id": "8e50041c-a549-4daf-8427-c6657b5ae0e0",
   "metadata": {
    "execution": {
     "iopub.execute_input": "2022-01-06T00:33:08.070520Z",
     "iopub.status.busy": "2022-01-06T00:33:08.069981Z",
     "iopub.status.idle": "2022-01-06T00:33:08.078763Z",
     "shell.execute_reply": "2022-01-06T00:33:08.077644Z",
     "shell.execute_reply.started": "2022-01-06T00:33:08.070460Z"
    },
    "tags": []
   },
   "outputs": [
    {
     "data": {
      "text/plain": [
       "1957048"
      ]
     },
     "execution_count": 235,
     "metadata": {},
     "output_type": "execute_result"
    }
   ],
   "source": [
    "p1_train.shape[0]"
   ]
  },
  {
   "cell_type": "code",
   "execution_count": 230,
   "id": "dd812602-08c2-4aa9-8022-757e3cacab5a",
   "metadata": {
    "execution": {
     "iopub.execute_input": "2022-01-06T00:32:32.541787Z",
     "iopub.status.busy": "2022-01-06T00:32:32.541265Z",
     "iopub.status.idle": "2022-01-06T00:32:32.558877Z",
     "shell.execute_reply": "2022-01-06T00:32:32.558062Z",
     "shell.execute_reply.started": "2022-01-06T00:32:32.541727Z"
    },
    "tags": []
   },
   "outputs": [
    {
     "data": {
      "text/html": [
       "<div>\n",
       "<style scoped>\n",
       "    .dataframe tbody tr th:only-of-type {\n",
       "        vertical-align: middle;\n",
       "    }\n",
       "\n",
       "    .dataframe tbody tr th {\n",
       "        vertical-align: top;\n",
       "    }\n",
       "\n",
       "    .dataframe thead th {\n",
       "        text-align: right;\n",
       "    }\n",
       "</style>\n",
       "<table border=\"1\" class=\"dataframe\">\n",
       "  <thead>\n",
       "    <tr style=\"text-align: right;\">\n",
       "      <th></th>\n",
       "      <th>X값</th>\n",
       "    </tr>\n",
       "    <tr>\n",
       "      <th>Datetime</th>\n",
       "      <th></th>\n",
       "    </tr>\n",
       "  </thead>\n",
       "  <tbody>\n",
       "    <tr>\n",
       "      <th>2017-02-09 15:09:00</th>\n",
       "      <td>0.000625</td>\n",
       "    </tr>\n",
       "    <tr>\n",
       "      <th>2017-02-10 10:06:00</th>\n",
       "      <td>0.005250</td>\n",
       "    </tr>\n",
       "    <tr>\n",
       "      <th>2017-02-10 15:00:00</th>\n",
       "      <td>0.000750</td>\n",
       "    </tr>\n",
       "    <tr>\n",
       "      <th>2017-02-10 15:01:00</th>\n",
       "      <td>0.001125</td>\n",
       "    </tr>\n",
       "    <tr>\n",
       "      <th>2017-02-10 15:02:00</th>\n",
       "      <td>0.005625</td>\n",
       "    </tr>\n",
       "    <tr>\n",
       "      <th>...</th>\n",
       "      <td>...</td>\n",
       "    </tr>\n",
       "    <tr>\n",
       "      <th>2020-12-31 23:55:00</th>\n",
       "      <td>0.043875</td>\n",
       "    </tr>\n",
       "    <tr>\n",
       "      <th>2020-12-31 23:56:00</th>\n",
       "      <td>0.044375</td>\n",
       "    </tr>\n",
       "    <tr>\n",
       "      <th>2020-12-31 23:57:00</th>\n",
       "      <td>0.057750</td>\n",
       "    </tr>\n",
       "    <tr>\n",
       "      <th>2020-12-31 23:58:00</th>\n",
       "      <td>0.058000</td>\n",
       "    </tr>\n",
       "    <tr>\n",
       "      <th>2020-12-31 23:59:00</th>\n",
       "      <td>0.052375</td>\n",
       "    </tr>\n",
       "  </tbody>\n",
       "</table>\n",
       "<p>1957048 rows × 1 columns</p>\n",
       "</div>"
      ],
      "text/plain": [
       "                           X값\n",
       "Datetime                     \n",
       "2017-02-09 15:09:00  0.000625\n",
       "2017-02-10 10:06:00  0.005250\n",
       "2017-02-10 15:00:00  0.000750\n",
       "2017-02-10 15:01:00  0.001125\n",
       "2017-02-10 15:02:00  0.005625\n",
       "...                       ...\n",
       "2020-12-31 23:55:00  0.043875\n",
       "2020-12-31 23:56:00  0.044375\n",
       "2020-12-31 23:57:00  0.057750\n",
       "2020-12-31 23:58:00  0.058000\n",
       "2020-12-31 23:59:00  0.052375\n",
       "\n",
       "[1957048 rows x 1 columns]"
      ]
     },
     "execution_count": 230,
     "metadata": {},
     "output_type": "execute_result"
    }
   ],
   "source": [
    "p1_train"
   ]
  },
  {
   "cell_type": "code",
   "execution_count": 39,
   "id": "a4b86981-8969-4e2f-924e-ae848b8d8e51",
   "metadata": {
    "execution": {
     "iopub.execute_input": "2022-01-03T04:00:18.803474Z",
     "iopub.status.busy": "2022-01-03T04:00:18.802856Z",
     "iopub.status.idle": "2022-01-03T04:00:18.819035Z",
     "shell.execute_reply": "2022-01-03T04:00:18.818198Z",
     "shell.execute_reply.started": "2022-01-03T04:00:18.803416Z"
    },
    "tags": []
   },
   "outputs": [
    {
     "data": {
      "text/html": [
       "<div>\n",
       "<style scoped>\n",
       "    .dataframe tbody tr th:only-of-type {\n",
       "        vertical-align: middle;\n",
       "    }\n",
       "\n",
       "    .dataframe tbody tr th {\n",
       "        vertical-align: top;\n",
       "    }\n",
       "\n",
       "    .dataframe thead th {\n",
       "        text-align: right;\n",
       "    }\n",
       "</style>\n",
       "<table border=\"1\" class=\"dataframe\">\n",
       "  <thead>\n",
       "    <tr style=\"text-align: right;\">\n",
       "      <th></th>\n",
       "      <th>X값</th>\n",
       "    </tr>\n",
       "    <tr>\n",
       "      <th>Datetime</th>\n",
       "      <th></th>\n",
       "    </tr>\n",
       "  </thead>\n",
       "  <tbody>\n",
       "    <tr>\n",
       "      <th>2021-01-01 00:01:00</th>\n",
       "      <td>0.052375</td>\n",
       "    </tr>\n",
       "    <tr>\n",
       "      <th>2021-01-01 00:02:00</th>\n",
       "      <td>0.038750</td>\n",
       "    </tr>\n",
       "    <tr>\n",
       "      <th>2021-01-01 00:03:00</th>\n",
       "      <td>0.038750</td>\n",
       "    </tr>\n",
       "    <tr>\n",
       "      <th>2021-01-01 00:04:00</th>\n",
       "      <td>0.047125</td>\n",
       "    </tr>\n",
       "    <tr>\n",
       "      <th>2021-01-01 00:05:00</th>\n",
       "      <td>0.048125</td>\n",
       "    </tr>\n",
       "    <tr>\n",
       "      <th>...</th>\n",
       "      <td>...</td>\n",
       "    </tr>\n",
       "    <tr>\n",
       "      <th>2021-11-17 02:44:00</th>\n",
       "      <td>0.585875</td>\n",
       "    </tr>\n",
       "    <tr>\n",
       "      <th>2021-11-17 02:45:00</th>\n",
       "      <td>0.590375</td>\n",
       "    </tr>\n",
       "    <tr>\n",
       "      <th>2021-11-17 02:46:00</th>\n",
       "      <td>0.585750</td>\n",
       "    </tr>\n",
       "    <tr>\n",
       "      <th>2021-11-17 02:47:00</th>\n",
       "      <td>0.572125</td>\n",
       "    </tr>\n",
       "    <tr>\n",
       "      <th>2021-11-17 02:48:00</th>\n",
       "      <td>0.576500</td>\n",
       "    </tr>\n",
       "  </tbody>\n",
       "</table>\n",
       "<p>454809 rows × 1 columns</p>\n",
       "</div>"
      ],
      "text/plain": [
       "                           X값\n",
       "Datetime                     \n",
       "2021-01-01 00:01:00  0.052375\n",
       "2021-01-01 00:02:00  0.038750\n",
       "2021-01-01 00:03:00  0.038750\n",
       "2021-01-01 00:04:00  0.047125\n",
       "2021-01-01 00:05:00  0.048125\n",
       "...                       ...\n",
       "2021-11-17 02:44:00  0.585875\n",
       "2021-11-17 02:45:00  0.590375\n",
       "2021-11-17 02:46:00  0.585750\n",
       "2021-11-17 02:47:00  0.572125\n",
       "2021-11-17 02:48:00  0.576500\n",
       "\n",
       "[454809 rows x 1 columns]"
      ]
     },
     "execution_count": 39,
     "metadata": {},
     "output_type": "execute_result"
    }
   ],
   "source": [
    "p1_test"
   ]
  },
  {
   "cell_type": "code",
   "execution_count": 40,
   "id": "cb4e23ff-d380-45b2-b585-371a2948115c",
   "metadata": {
    "execution": {
     "iopub.execute_input": "2022-01-03T04:00:18.820113Z",
     "iopub.status.busy": "2022-01-03T04:00:18.819884Z",
     "iopub.status.idle": "2022-01-03T04:00:26.144048Z",
     "shell.execute_reply": "2022-01-03T04:00:26.142573Z",
     "shell.execute_reply.started": "2022-01-03T04:00:18.820087Z"
    },
    "tags": []
   },
   "outputs": [
    {
     "data": {
      "text/plain": [
       "<matplotlib.legend.Legend at 0x7fd741f1f150>"
      ]
     },
     "execution_count": 40,
     "metadata": {},
     "output_type": "execute_result"
    },
    {
     "data": {
      "image/png": "[encoded data removed]",
      "text/plain": [
       "<Figure size 432x288 with 1 Axes>"
      ]
     },
     "metadata": {
      "needs_background": "light"
     },
     "output_type": "display_data"
    }
   ],
   "source": [
    "ax = p1_train.plot()\n",
    "p1_test.plot(ax=ax)\n",
    "plt.legend(['p1_train', 'p1_test'])"
   ]
  },
  {
   "cell_type": "code",
   "execution_count": 41,
   "id": "96fe1a2e-fb7b-419a-b2e7-8e3c7b59110a",
   "metadata": {
    "execution": {
     "iopub.execute_input": "2022-01-03T04:00:26.147160Z",
     "iopub.status.busy": "2022-01-03T04:00:26.146682Z",
     "iopub.status.idle": "2022-01-03T04:00:26.192343Z",
     "shell.execute_reply": "2022-01-03T04:00:26.191554Z",
     "shell.execute_reply.started": "2022-01-03T04:00:26.147094Z"
    },
    "tags": []
   },
   "outputs": [
    {
     "data": {
      "text/plain": [
       "array([[0.00025002],\n",
       "       [0.00256266],\n",
       "       [0.00031252],\n",
       "       ...,\n",
       "       [0.0288143 ],\n",
       "       [0.02893931],\n",
       "       [0.02612663]])"
      ]
     },
     "execution_count": 41,
     "metadata": {},
     "output_type": "execute_result"
    }
   ],
   "source": [
    "from sklearn.preprocessing import MinMaxScaler\n",
    "\n",
    "sc = MinMaxScaler()\n",
    "\n",
    "train_sc = sc.fit_transform(p1_train)\n",
    "test_sc = sc.transform(p1_test)\n",
    "\n",
    "train_sc"
   ]
  },
  {
   "cell_type": "code",
   "execution_count": 42,
   "id": "3c27eb57-06db-446e-b920-a5b4f29f680c",
   "metadata": {
    "execution": {
     "iopub.execute_input": "2022-01-03T04:00:26.194080Z",
     "iopub.status.busy": "2022-01-03T04:00:26.193779Z",
     "iopub.status.idle": "2022-01-03T04:00:26.199270Z",
     "shell.execute_reply": "2022-01-03T04:00:26.198282Z",
     "shell.execute_reply.started": "2022-01-03T04:00:26.194059Z"
    },
    "tags": []
   },
   "outputs": [
    {
     "data": {
      "text/plain": [
       "numpy.ndarray"
      ]
     },
     "execution_count": 42,
     "metadata": {},
     "output_type": "execute_result"
    }
   ],
   "source": [
    "type(train_sc)"
   ]
  },
  {
   "cell_type": "code",
   "execution_count": 45,
   "id": "d3c198a6-3b65-4969-8b8c-86492f4282d5",
   "metadata": {
    "execution": {
     "iopub.execute_input": "2022-01-03T04:06:31.460891Z",
     "iopub.status.busy": "2022-01-03T04:06:31.460281Z",
     "iopub.status.idle": "2022-01-03T04:06:31.480696Z",
     "shell.execute_reply": "2022-01-03T04:06:31.479555Z",
     "shell.execute_reply.started": "2022-01-03T04:06:31.460825Z"
    },
    "tags": []
   },
   "outputs": [
    {
     "data": {
      "text/html": [
       "<div>\n",
       "<style scoped>\n",
       "    .dataframe tbody tr th:only-of-type {\n",
       "        vertical-align: middle;\n",
       "    }\n",
       "\n",
       "    .dataframe tbody tr th {\n",
       "        vertical-align: top;\n",
       "    }\n",
       "\n",
       "    .dataframe thead th {\n",
       "        text-align: right;\n",
       "    }\n",
       "</style>\n",
       "<table border=\"1\" class=\"dataframe\">\n",
       "  <thead>\n",
       "    <tr style=\"text-align: right;\">\n",
       "      <th></th>\n",
       "      <th>X값</th>\n",
       "    </tr>\n",
       "    <tr>\n",
       "      <th>Datetime</th>\n",
       "      <th></th>\n",
       "    </tr>\n",
       "  </thead>\n",
       "  <tbody>\n",
       "    <tr>\n",
       "      <th>2017-02-09 15:09:00</th>\n",
       "      <td>0.000250</td>\n",
       "    </tr>\n",
       "    <tr>\n",
       "      <th>2017-02-10 10:06:00</th>\n",
       "      <td>0.002563</td>\n",
       "    </tr>\n",
       "    <tr>\n",
       "      <th>2017-02-10 15:00:00</th>\n",
       "      <td>0.000313</td>\n",
       "    </tr>\n",
       "    <tr>\n",
       "      <th>2017-02-10 15:01:00</th>\n",
       "      <td>0.000500</td>\n",
       "    </tr>\n",
       "    <tr>\n",
       "      <th>2017-02-10 15:02:00</th>\n",
       "      <td>0.002750</td>\n",
       "    </tr>\n",
       "  </tbody>\n",
       "</table>\n",
       "</div>"
      ],
      "text/plain": [
       "                           X값\n",
       "Datetime                     \n",
       "2017-02-09 15:09:00  0.000250\n",
       "2017-02-10 10:06:00  0.002563\n",
       "2017-02-10 15:00:00  0.000313\n",
       "2017-02-10 15:01:00  0.000500\n",
       "2017-02-10 15:02:00  0.002750"
      ]
     },
     "execution_count": 45,
     "metadata": {},
     "output_type": "execute_result"
    }
   ],
   "source": [
    "train_sc_df = pd.DataFrame(train_sc, columns=['X값'], index=p1_train.index)\n",
    "test_sc_df = pd.DataFrame(test_sc, columns=['X값'], index=p1_test.index)\n",
    "train_sc_df.head()"
   ]
  },
  {
   "cell_type": "code",
   "execution_count": 47,
   "id": "730022e7-78ce-48dd-88cf-28369dcd9666",
   "metadata": {
    "execution": {
     "iopub.execute_input": "2022-01-03T04:23:16.490151Z",
     "iopub.status.busy": "2022-01-03T04:23:16.489645Z",
     "iopub.status.idle": "2022-01-03T04:23:16.656578Z",
     "shell.execute_reply": "2022-01-03T04:23:16.655948Z",
     "shell.execute_reply.started": "2022-01-03T04:23:16.490093Z"
    },
    "tags": []
   },
   "outputs": [
    {
     "data": {
      "text/html": [
       "<div>\n",
       "<style scoped>\n",
       "    .dataframe tbody tr th:only-of-type {\n",
       "        vertical-align: middle;\n",
       "    }\n",
       "\n",
       "    .dataframe tbody tr th {\n",
       "        vertical-align: top;\n",
       "    }\n",
       "\n",
       "    .dataframe thead th {\n",
       "        text-align: right;\n",
       "    }\n",
       "</style>\n",
       "<table border=\"1\" class=\"dataframe\">\n",
       "  <thead>\n",
       "    <tr style=\"text-align: right;\">\n",
       "      <th></th>\n",
       "      <th>X값</th>\n",
       "      <th>shift_1</th>\n",
       "      <th>shift_2</th>\n",
       "      <th>shift_3</th>\n",
       "      <th>shift_4</th>\n",
       "      <th>shift_5</th>\n",
       "      <th>shift_6</th>\n",
       "      <th>shift_7</th>\n",
       "      <th>shift_8</th>\n",
       "      <th>shift_9</th>\n",
       "      <th>shift_10</th>\n",
       "      <th>shift_11</th>\n",
       "      <th>shift_12</th>\n",
       "    </tr>\n",
       "    <tr>\n",
       "      <th>Datetime</th>\n",
       "      <th></th>\n",
       "      <th></th>\n",
       "      <th></th>\n",
       "      <th></th>\n",
       "      <th></th>\n",
       "      <th></th>\n",
       "      <th></th>\n",
       "      <th></th>\n",
       "      <th></th>\n",
       "      <th></th>\n",
       "      <th></th>\n",
       "      <th></th>\n",
       "      <th></th>\n",
       "    </tr>\n",
       "  </thead>\n",
       "  <tbody>\n",
       "    <tr>\n",
       "      <th>2017-02-09 15:09:00</th>\n",
       "      <td>0.000250</td>\n",
       "      <td>NaN</td>\n",
       "      <td>NaN</td>\n",
       "      <td>NaN</td>\n",
       "      <td>NaN</td>\n",
       "      <td>NaN</td>\n",
       "      <td>NaN</td>\n",
       "      <td>NaN</td>\n",
       "      <td>NaN</td>\n",
       "      <td>NaN</td>\n",
       "      <td>NaN</td>\n",
       "      <td>NaN</td>\n",
       "      <td>NaN</td>\n",
       "    </tr>\n",
       "    <tr>\n",
       "      <th>2017-02-10 10:06:00</th>\n",
       "      <td>0.002563</td>\n",
       "      <td>0.000250</td>\n",
       "      <td>NaN</td>\n",
       "      <td>NaN</td>\n",
       "      <td>NaN</td>\n",
       "      <td>NaN</td>\n",
       "      <td>NaN</td>\n",
       "      <td>NaN</td>\n",
       "      <td>NaN</td>\n",
       "      <td>NaN</td>\n",
       "      <td>NaN</td>\n",
       "      <td>NaN</td>\n",
       "      <td>NaN</td>\n",
       "    </tr>\n",
       "    <tr>\n",
       "      <th>2017-02-10 15:00:00</th>\n",
       "      <td>0.000313</td>\n",
       "      <td>0.002563</td>\n",
       "      <td>0.000250</td>\n",
       "      <td>NaN</td>\n",
       "      <td>NaN</td>\n",
       "      <td>NaN</td>\n",
       "      <td>NaN</td>\n",
       "      <td>NaN</td>\n",
       "      <td>NaN</td>\n",
       "      <td>NaN</td>\n",
       "      <td>NaN</td>\n",
       "      <td>NaN</td>\n",
       "      <td>NaN</td>\n",
       "    </tr>\n",
       "    <tr>\n",
       "      <th>2017-02-10 15:01:00</th>\n",
       "      <td>0.000500</td>\n",
       "      <td>0.000313</td>\n",
       "      <td>0.002563</td>\n",
       "      <td>0.000250</td>\n",
       "      <td>NaN</td>\n",
       "      <td>NaN</td>\n",
       "      <td>NaN</td>\n",
       "      <td>NaN</td>\n",
       "      <td>NaN</td>\n",
       "      <td>NaN</td>\n",
       "      <td>NaN</td>\n",
       "      <td>NaN</td>\n",
       "      <td>NaN</td>\n",
       "    </tr>\n",
       "    <tr>\n",
       "      <th>2017-02-10 15:02:00</th>\n",
       "      <td>0.002750</td>\n",
       "      <td>0.000500</td>\n",
       "      <td>0.000313</td>\n",
       "      <td>0.002563</td>\n",
       "      <td>0.000250</td>\n",
       "      <td>NaN</td>\n",
       "      <td>NaN</td>\n",
       "      <td>NaN</td>\n",
       "      <td>NaN</td>\n",
       "      <td>NaN</td>\n",
       "      <td>NaN</td>\n",
       "      <td>NaN</td>\n",
       "      <td>NaN</td>\n",
       "    </tr>\n",
       "    <tr>\n",
       "      <th>2017-02-10 15:04:00</th>\n",
       "      <td>0.000313</td>\n",
       "      <td>0.002750</td>\n",
       "      <td>0.000500</td>\n",
       "      <td>0.000313</td>\n",
       "      <td>0.002563</td>\n",
       "      <td>0.000250</td>\n",
       "      <td>NaN</td>\n",
       "      <td>NaN</td>\n",
       "      <td>NaN</td>\n",
       "      <td>NaN</td>\n",
       "      <td>NaN</td>\n",
       "      <td>NaN</td>\n",
       "      <td>NaN</td>\n",
       "    </tr>\n",
       "    <tr>\n",
       "      <th>2017-02-10 15:14:00</th>\n",
       "      <td>0.000438</td>\n",
       "      <td>0.000313</td>\n",
       "      <td>0.002750</td>\n",
       "      <td>0.000500</td>\n",
       "      <td>0.000313</td>\n",
       "      <td>0.002563</td>\n",
       "      <td>0.000250</td>\n",
       "      <td>NaN</td>\n",
       "      <td>NaN</td>\n",
       "      <td>NaN</td>\n",
       "      <td>NaN</td>\n",
       "      <td>NaN</td>\n",
       "      <td>NaN</td>\n",
       "    </tr>\n",
       "    <tr>\n",
       "      <th>2017-02-10 15:15:00</th>\n",
       "      <td>0.000375</td>\n",
       "      <td>0.000438</td>\n",
       "      <td>0.000313</td>\n",
       "      <td>0.002750</td>\n",
       "      <td>0.000500</td>\n",
       "      <td>0.000313</td>\n",
       "      <td>0.002563</td>\n",
       "      <td>0.000250</td>\n",
       "      <td>NaN</td>\n",
       "      <td>NaN</td>\n",
       "      <td>NaN</td>\n",
       "      <td>NaN</td>\n",
       "      <td>NaN</td>\n",
       "    </tr>\n",
       "    <tr>\n",
       "      <th>2017-02-10 15:16:00</th>\n",
       "      <td>0.000438</td>\n",
       "      <td>0.000375</td>\n",
       "      <td>0.000438</td>\n",
       "      <td>0.000313</td>\n",
       "      <td>0.002750</td>\n",
       "      <td>0.000500</td>\n",
       "      <td>0.000313</td>\n",
       "      <td>0.002563</td>\n",
       "      <td>0.000250</td>\n",
       "      <td>NaN</td>\n",
       "      <td>NaN</td>\n",
       "      <td>NaN</td>\n",
       "      <td>NaN</td>\n",
       "    </tr>\n",
       "    <tr>\n",
       "      <th>2017-02-10 15:17:00</th>\n",
       "      <td>0.000375</td>\n",
       "      <td>0.000438</td>\n",
       "      <td>0.000375</td>\n",
       "      <td>0.000438</td>\n",
       "      <td>0.000313</td>\n",
       "      <td>0.002750</td>\n",
       "      <td>0.000500</td>\n",
       "      <td>0.000313</td>\n",
       "      <td>0.002563</td>\n",
       "      <td>0.000250</td>\n",
       "      <td>NaN</td>\n",
       "      <td>NaN</td>\n",
       "      <td>NaN</td>\n",
       "    </tr>\n",
       "    <tr>\n",
       "      <th>2017-02-10 15:18:00</th>\n",
       "      <td>0.000438</td>\n",
       "      <td>0.000375</td>\n",
       "      <td>0.000438</td>\n",
       "      <td>0.000375</td>\n",
       "      <td>0.000438</td>\n",
       "      <td>0.000313</td>\n",
       "      <td>0.002750</td>\n",
       "      <td>0.000500</td>\n",
       "      <td>0.000313</td>\n",
       "      <td>0.002563</td>\n",
       "      <td>0.000250</td>\n",
       "      <td>NaN</td>\n",
       "      <td>NaN</td>\n",
       "    </tr>\n",
       "    <tr>\n",
       "      <th>2017-02-10 15:19:00</th>\n",
       "      <td>0.000313</td>\n",
       "      <td>0.000438</td>\n",
       "      <td>0.000375</td>\n",
       "      <td>0.000438</td>\n",
       "      <td>0.000375</td>\n",
       "      <td>0.000438</td>\n",
       "      <td>0.000313</td>\n",
       "      <td>0.002750</td>\n",
       "      <td>0.000500</td>\n",
       "      <td>0.000313</td>\n",
       "      <td>0.002563</td>\n",
       "      <td>0.000250</td>\n",
       "      <td>NaN</td>\n",
       "    </tr>\n",
       "    <tr>\n",
       "      <th>2017-02-10 15:20:00</th>\n",
       "      <td>0.000438</td>\n",
       "      <td>0.000313</td>\n",
       "      <td>0.000438</td>\n",
       "      <td>0.000375</td>\n",
       "      <td>0.000438</td>\n",
       "      <td>0.000375</td>\n",
       "      <td>0.000438</td>\n",
       "      <td>0.000313</td>\n",
       "      <td>0.002750</td>\n",
       "      <td>0.000500</td>\n",
       "      <td>0.000313</td>\n",
       "      <td>0.002563</td>\n",
       "      <td>0.00025</td>\n",
       "    </tr>\n",
       "  </tbody>\n",
       "</table>\n",
       "</div>"
      ],
      "text/plain": [
       "                           X값   shift_1   shift_2   shift_3   shift_4  \\\n",
       "Datetime                                                                \n",
       "2017-02-09 15:09:00  0.000250       NaN       NaN       NaN       NaN   \n",
       "2017-02-10 10:06:00  0.002563  0.000250       NaN       NaN       NaN   \n",
       "2017-02-10 15:00:00  0.000313  0.002563  0.000250       NaN       NaN   \n",
       "2017-02-10 15:01:00  0.000500  0.000313  0.002563  0.000250       NaN   \n",
       "2017-02-10 15:02:00  0.002750  0.000500  0.000313  0.002563  0.000250   \n",
       "2017-02-10 15:04:00  0.000313  0.002750  0.000500  0.000313  0.002563   \n",
       "2017-02-10 15:14:00  0.000438  0.000313  0.002750  0.000500  0.000313   \n",
       "2017-02-10 15:15:00  0.000375  0.000438  0.000313  0.002750  0.000500   \n",
       "2017-02-10 15:16:00  0.000438  0.000375  0.000438  0.000313  0.002750   \n",
       "2017-02-10 15:17:00  0.000375  0.000438  0.000375  0.000438  0.000313   \n",
       "2017-02-10 15:18:00  0.000438  0.000375  0.000438  0.000375  0.000438   \n",
       "2017-02-10 15:19:00  0.000313  0.000438  0.000375  0.000438  0.000375   \n",
       "2017-02-10 15:20:00  0.000438  0.000313  0.000438  0.000375  0.000438   \n",
       "\n",
       "                      shift_5   shift_6   shift_7   shift_8   shift_9  \\\n",
       "Datetime                                                                \n",
       "2017-02-09 15:09:00       NaN       NaN       NaN       NaN       NaN   \n",
       "2017-02-10 10:06:00       NaN       NaN       NaN       NaN       NaN   \n",
       "2017-02-10 15:00:00       NaN       NaN       NaN       NaN       NaN   \n",
       "2017-02-10 15:01:00       NaN       NaN       NaN       NaN       NaN   \n",
       "2017-02-10 15:02:00       NaN       NaN       NaN       NaN       NaN   \n",
       "2017-02-10 15:04:00  0.000250       NaN       NaN       NaN       NaN   \n",
       "2017-02-10 15:14:00  0.002563  0.000250       NaN       NaN       NaN   \n",
       "2017-02-10 15:15:00  0.000313  0.002563  0.000250       NaN       NaN   \n",
       "2017-02-10 15:16:00  0.000500  0.000313  0.002563  0.000250       NaN   \n",
       "2017-02-10 15:17:00  0.002750  0.000500  0.000313  0.002563  0.000250   \n",
       "2017-02-10 15:18:00  0.000313  0.002750  0.000500  0.000313  0.002563   \n",
       "2017-02-10 15:19:00  0.000438  0.000313  0.002750  0.000500  0.000313   \n",
       "2017-02-10 15:20:00  0.000375  0.000438  0.000313  0.002750  0.000500   \n",
       "\n",
       "                     shift_10  shift_11  shift_12  \n",
       "Datetime                                           \n",
       "2017-02-09 15:09:00       NaN       NaN       NaN  \n",
       "2017-02-10 10:06:00       NaN       NaN       NaN  \n",
       "2017-02-10 15:00:00       NaN       NaN       NaN  \n",
       "2017-02-10 15:01:00       NaN       NaN       NaN  \n",
       "2017-02-10 15:02:00       NaN       NaN       NaN  \n",
       "2017-02-10 15:04:00       NaN       NaN       NaN  \n",
       "2017-02-10 15:14:00       NaN       NaN       NaN  \n",
       "2017-02-10 15:15:00       NaN       NaN       NaN  \n",
       "2017-02-10 15:16:00       NaN       NaN       NaN  \n",
       "2017-02-10 15:17:00       NaN       NaN       NaN  \n",
       "2017-02-10 15:18:00  0.000250       NaN       NaN  \n",
       "2017-02-10 15:19:00  0.002563  0.000250       NaN  \n",
       "2017-02-10 15:20:00  0.000313  0.002563   0.00025  "
      ]
     },
     "execution_count": 47,
     "metadata": {},
     "output_type": "execute_result"
    }
   ],
   "source": [
    "#shift 활용\n",
    "\n",
    "for s in range(1, 13):\n",
    "    train_sc_df['shift_{}'.format(s)] = train_sc_df['X값'].shift(s)\n",
    "    test_sc_df['shift_{}'.format(s)] = test_sc_df['X값'].shift(s)\n",
    "\n",
    "train_sc_df.head(13)"
   ]
  },
  {
   "cell_type": "code",
   "execution_count": 55,
   "id": "a1e8a43f-f16b-4879-8d64-6c576903f816",
   "metadata": {
    "execution": {
     "iopub.execute_input": "2022-01-03T04:34:24.940325Z",
     "iopub.status.busy": "2022-01-03T04:34:24.939819Z",
     "iopub.status.idle": "2022-01-03T04:34:25.598913Z",
     "shell.execute_reply": "2022-01-03T04:34:25.597592Z",
     "shell.execute_reply.started": "2022-01-03T04:34:24.940264Z"
    },
    "tags": []
   },
   "outputs": [],
   "source": [
    "X_train = train_sc_df.dropna().drop('X값', axis=1)\n",
    "y_train = train_sc_df.dropna()[['X값']]\n",
    "\n",
    "X_test = test_sc_df.dropna().drop('X값', axis=1)\n",
    "y_test = test_sc_df.dropna()[['X값']]"
   ]
  },
  {
   "cell_type": "code",
   "execution_count": 56,
   "id": "e976cfc6-8263-4726-bb70-3f8c62489759",
   "metadata": {
    "execution": {
     "iopub.execute_input": "2022-01-03T04:34:26.850499Z",
     "iopub.status.busy": "2022-01-03T04:34:26.850009Z",
     "iopub.status.idle": "2022-01-03T04:34:26.872113Z",
     "shell.execute_reply": "2022-01-03T04:34:26.871416Z",
     "shell.execute_reply.started": "2022-01-03T04:34:26.850440Z"
    },
    "tags": []
   },
   "outputs": [
    {
     "data": {
      "text/html": [
       "<div>\n",
       "<style scoped>\n",
       "    .dataframe tbody tr th:only-of-type {\n",
       "        vertical-align: middle;\n",
       "    }\n",
       "\n",
       "    .dataframe tbody tr th {\n",
       "        vertical-align: top;\n",
       "    }\n",
       "\n",
       "    .dataframe thead th {\n",
       "        text-align: right;\n",
       "    }\n",
       "</style>\n",
       "<table border=\"1\" class=\"dataframe\">\n",
       "  <thead>\n",
       "    <tr style=\"text-align: right;\">\n",
       "      <th></th>\n",
       "      <th>shift_1</th>\n",
       "      <th>shift_2</th>\n",
       "      <th>shift_3</th>\n",
       "      <th>shift_4</th>\n",
       "      <th>shift_5</th>\n",
       "      <th>shift_6</th>\n",
       "      <th>shift_7</th>\n",
       "      <th>shift_8</th>\n",
       "      <th>shift_9</th>\n",
       "      <th>shift_10</th>\n",
       "      <th>shift_11</th>\n",
       "      <th>shift_12</th>\n",
       "    </tr>\n",
       "    <tr>\n",
       "      <th>Datetime</th>\n",
       "      <th></th>\n",
       "      <th></th>\n",
       "      <th></th>\n",
       "      <th></th>\n",
       "      <th></th>\n",
       "      <th></th>\n",
       "      <th></th>\n",
       "      <th></th>\n",
       "      <th></th>\n",
       "      <th></th>\n",
       "      <th></th>\n",
       "      <th></th>\n",
       "    </tr>\n",
       "  </thead>\n",
       "  <tbody>\n",
       "    <tr>\n",
       "      <th>2017-02-10 15:20:00</th>\n",
       "      <td>0.000313</td>\n",
       "      <td>0.000438</td>\n",
       "      <td>0.000375</td>\n",
       "      <td>0.000438</td>\n",
       "      <td>0.000375</td>\n",
       "      <td>0.000438</td>\n",
       "      <td>0.000313</td>\n",
       "      <td>0.002750</td>\n",
       "      <td>0.000500</td>\n",
       "      <td>0.000313</td>\n",
       "      <td>0.002563</td>\n",
       "      <td>0.000250</td>\n",
       "    </tr>\n",
       "    <tr>\n",
       "      <th>2017-02-10 15:21:00</th>\n",
       "      <td>0.000438</td>\n",
       "      <td>0.000313</td>\n",
       "      <td>0.000438</td>\n",
       "      <td>0.000375</td>\n",
       "      <td>0.000438</td>\n",
       "      <td>0.000375</td>\n",
       "      <td>0.000438</td>\n",
       "      <td>0.000313</td>\n",
       "      <td>0.002750</td>\n",
       "      <td>0.000500</td>\n",
       "      <td>0.000313</td>\n",
       "      <td>0.002563</td>\n",
       "    </tr>\n",
       "    <tr>\n",
       "      <th>2017-02-10 15:22:00</th>\n",
       "      <td>0.002750</td>\n",
       "      <td>0.000438</td>\n",
       "      <td>0.000313</td>\n",
       "      <td>0.000438</td>\n",
       "      <td>0.000375</td>\n",
       "      <td>0.000438</td>\n",
       "      <td>0.000375</td>\n",
       "      <td>0.000438</td>\n",
       "      <td>0.000313</td>\n",
       "      <td>0.002750</td>\n",
       "      <td>0.000500</td>\n",
       "      <td>0.000313</td>\n",
       "    </tr>\n",
       "    <tr>\n",
       "      <th>2017-02-10 15:23:00</th>\n",
       "      <td>0.001875</td>\n",
       "      <td>0.002750</td>\n",
       "      <td>0.000438</td>\n",
       "      <td>0.000313</td>\n",
       "      <td>0.000438</td>\n",
       "      <td>0.000375</td>\n",
       "      <td>0.000438</td>\n",
       "      <td>0.000375</td>\n",
       "      <td>0.000438</td>\n",
       "      <td>0.000313</td>\n",
       "      <td>0.002750</td>\n",
       "      <td>0.000500</td>\n",
       "    </tr>\n",
       "    <tr>\n",
       "      <th>2017-02-10 15:24:00</th>\n",
       "      <td>0.000438</td>\n",
       "      <td>0.001875</td>\n",
       "      <td>0.002750</td>\n",
       "      <td>0.000438</td>\n",
       "      <td>0.000313</td>\n",
       "      <td>0.000438</td>\n",
       "      <td>0.000375</td>\n",
       "      <td>0.000438</td>\n",
       "      <td>0.000375</td>\n",
       "      <td>0.000438</td>\n",
       "      <td>0.000313</td>\n",
       "      <td>0.002750</td>\n",
       "    </tr>\n",
       "  </tbody>\n",
       "</table>\n",
       "</div>"
      ],
      "text/plain": [
       "                      shift_1   shift_2   shift_3   shift_4   shift_5  \\\n",
       "Datetime                                                                \n",
       "2017-02-10 15:20:00  0.000313  0.000438  0.000375  0.000438  0.000375   \n",
       "2017-02-10 15:21:00  0.000438  0.000313  0.000438  0.000375  0.000438   \n",
       "2017-02-10 15:22:00  0.002750  0.000438  0.000313  0.000438  0.000375   \n",
       "2017-02-10 15:23:00  0.001875  0.002750  0.000438  0.000313  0.000438   \n",
       "2017-02-10 15:24:00  0.000438  0.001875  0.002750  0.000438  0.000313   \n",
       "\n",
       "                      shift_6   shift_7   shift_8   shift_9  shift_10  \\\n",
       "Datetime                                                                \n",
       "2017-02-10 15:20:00  0.000438  0.000313  0.002750  0.000500  0.000313   \n",
       "2017-02-10 15:21:00  0.000375  0.000438  0.000313  0.002750  0.000500   \n",
       "2017-02-10 15:22:00  0.000438  0.000375  0.000438  0.000313  0.002750   \n",
       "2017-02-10 15:23:00  0.000375  0.000438  0.000375  0.000438  0.000313   \n",
       "2017-02-10 15:24:00  0.000438  0.000375  0.000438  0.000375  0.000438   \n",
       "\n",
       "                     shift_11  shift_12  \n",
       "Datetime                                 \n",
       "2017-02-10 15:20:00  0.002563  0.000250  \n",
       "2017-02-10 15:21:00  0.000313  0.002563  \n",
       "2017-02-10 15:22:00  0.000500  0.000313  \n",
       "2017-02-10 15:23:00  0.002750  0.000500  \n",
       "2017-02-10 15:24:00  0.000313  0.002750  "
      ]
     },
     "execution_count": 56,
     "metadata": {},
     "output_type": "execute_result"
    }
   ],
   "source": [
    "X_train.head()"
   ]
  },
  {
   "cell_type": "code",
   "execution_count": 57,
   "id": "5124a016-e0a9-4f3c-abba-a0be8a09e0f0",
   "metadata": {
    "execution": {
     "iopub.execute_input": "2022-01-03T04:34:29.287648Z",
     "iopub.status.busy": "2022-01-03T04:34:29.287064Z",
     "iopub.status.idle": "2022-01-03T04:34:29.310513Z",
     "shell.execute_reply": "2022-01-03T04:34:29.309320Z",
     "shell.execute_reply.started": "2022-01-03T04:34:29.287584Z"
    },
    "tags": []
   },
   "outputs": [
    {
     "data": {
      "text/html": [
       "<div>\n",
       "<style scoped>\n",
       "    .dataframe tbody tr th:only-of-type {\n",
       "        vertical-align: middle;\n",
       "    }\n",
       "\n",
       "    .dataframe tbody tr th {\n",
       "        vertical-align: top;\n",
       "    }\n",
       "\n",
       "    .dataframe thead th {\n",
       "        text-align: right;\n",
       "    }\n",
       "</style>\n",
       "<table border=\"1\" class=\"dataframe\">\n",
       "  <thead>\n",
       "    <tr style=\"text-align: right;\">\n",
       "      <th></th>\n",
       "      <th>X값</th>\n",
       "    </tr>\n",
       "    <tr>\n",
       "      <th>Datetime</th>\n",
       "      <th></th>\n",
       "    </tr>\n",
       "  </thead>\n",
       "  <tbody>\n",
       "    <tr>\n",
       "      <th>2017-02-10 15:20:00</th>\n",
       "      <td>0.000438</td>\n",
       "    </tr>\n",
       "    <tr>\n",
       "      <th>2017-02-10 15:21:00</th>\n",
       "      <td>0.002750</td>\n",
       "    </tr>\n",
       "    <tr>\n",
       "      <th>2017-02-10 15:22:00</th>\n",
       "      <td>0.001875</td>\n",
       "    </tr>\n",
       "    <tr>\n",
       "      <th>2017-02-10 15:23:00</th>\n",
       "      <td>0.000438</td>\n",
       "    </tr>\n",
       "    <tr>\n",
       "      <th>2017-02-10 15:24:00</th>\n",
       "      <td>0.000063</td>\n",
       "    </tr>\n",
       "    <tr>\n",
       "      <th>...</th>\n",
       "      <td>...</td>\n",
       "    </tr>\n",
       "    <tr>\n",
       "      <th>2020-12-31 23:55:00</th>\n",
       "      <td>0.021876</td>\n",
       "    </tr>\n",
       "    <tr>\n",
       "      <th>2020-12-31 23:56:00</th>\n",
       "      <td>0.022126</td>\n",
       "    </tr>\n",
       "    <tr>\n",
       "      <th>2020-12-31 23:57:00</th>\n",
       "      <td>0.028814</td>\n",
       "    </tr>\n",
       "    <tr>\n",
       "      <th>2020-12-31 23:58:00</th>\n",
       "      <td>0.028939</td>\n",
       "    </tr>\n",
       "    <tr>\n",
       "      <th>2020-12-31 23:59:00</th>\n",
       "      <td>0.026127</td>\n",
       "    </tr>\n",
       "  </tbody>\n",
       "</table>\n",
       "<p>1957036 rows × 1 columns</p>\n",
       "</div>"
      ],
      "text/plain": [
       "                           X값\n",
       "Datetime                     \n",
       "2017-02-10 15:20:00  0.000438\n",
       "2017-02-10 15:21:00  0.002750\n",
       "2017-02-10 15:22:00  0.001875\n",
       "2017-02-10 15:23:00  0.000438\n",
       "2017-02-10 15:24:00  0.000063\n",
       "...                       ...\n",
       "2020-12-31 23:55:00  0.021876\n",
       "2020-12-31 23:56:00  0.022126\n",
       "2020-12-31 23:57:00  0.028814\n",
       "2020-12-31 23:58:00  0.028939\n",
       "2020-12-31 23:59:00  0.026127\n",
       "\n",
       "[1957036 rows x 1 columns]"
      ]
     },
     "execution_count": 57,
     "metadata": {},
     "output_type": "execute_result"
    }
   ],
   "source": [
    "y_train"
   ]
  },
  {
   "cell_type": "code",
   "execution_count": 58,
   "id": "0330641d-1756-47db-a8f4-cb48909d86c6",
   "metadata": {
    "execution": {
     "iopub.execute_input": "2022-01-03T04:34:31.139373Z",
     "iopub.status.busy": "2022-01-03T04:34:31.138867Z",
     "iopub.status.idle": "2022-01-03T04:34:31.156553Z",
     "shell.execute_reply": "2022-01-03T04:34:31.155060Z",
     "shell.execute_reply.started": "2022-01-03T04:34:31.139311Z"
    },
    "tags": []
   },
   "outputs": [
    {
     "name": "stdout",
     "output_type": "stream",
     "text": [
      "(1957036, 12)\n",
      "[[0.00031252 0.00043753 0.00037502 ... 0.00031252 0.00256266 0.00025002]\n",
      " [0.00043753 0.00031252 0.00043753 ... 0.00050003 0.00031252 0.00256266]\n",
      " [0.00275017 0.00043753 0.00031252 ... 0.00275017 0.00050003 0.00031252]\n",
      " ...\n",
      " [0.02212638 0.02187637 0.02200138 ... 0.02650166 0.01937621 0.01931371]\n",
      " [0.0288143  0.02212638 0.02187637 ... 0.02475155 0.02650166 0.01937621]\n",
      " [0.02893931 0.0288143  0.02212638 ... 0.02918932 0.02475155 0.02650166]]\n",
      "(1957036, 1)\n",
      "[[0.00043753]\n",
      " [0.00275017]\n",
      " [0.00187512]\n",
      " ...\n",
      " [0.0288143 ]\n",
      " [0.02893931]\n",
      " [0.02612663]]\n"
     ]
    }
   ],
   "source": [
    "X_train = X_train.values\n",
    "X_test= X_test.values\n",
    "\n",
    "y_train = y_train.values\n",
    "y_test = y_test.values\n",
    "print(X_train.shape)\n",
    "print(X_train)\n",
    "print(y_train.shape)\n",
    "print(y_train)"
   ]
  },
  {
   "cell_type": "code",
   "execution_count": 59,
   "id": "f4101236-f228-4a8b-9b85-f89ddc2fd823",
   "metadata": {
    "execution": {
     "iopub.execute_input": "2022-01-03T04:34:55.830589Z",
     "iopub.status.busy": "2022-01-03T04:34:55.830067Z",
     "iopub.status.idle": "2022-01-03T04:34:55.843170Z",
     "shell.execute_reply": "2022-01-03T04:34:55.841582Z",
     "shell.execute_reply.started": "2022-01-03T04:34:55.830529Z"
    },
    "tags": []
   },
   "outputs": [
    {
     "name": "stdout",
     "output_type": "stream",
     "text": [
      "최종 DATA\n",
      "(1957036, 12, 1)\n",
      "[[[0.00031252]\n",
      "  [0.00043753]\n",
      "  [0.00037502]\n",
      "  ...\n",
      "  [0.00031252]\n",
      "  [0.00256266]\n",
      "  [0.00025002]]\n",
      "\n",
      " [[0.00043753]\n",
      "  [0.00031252]\n",
      "  [0.00043753]\n",
      "  ...\n",
      "  [0.00050003]\n",
      "  [0.00031252]\n",
      "  [0.00256266]]\n",
      "\n",
      " [[0.00275017]\n",
      "  [0.00043753]\n",
      "  [0.00031252]\n",
      "  ...\n",
      "  [0.00275017]\n",
      "  [0.00050003]\n",
      "  [0.00031252]]\n",
      "\n",
      " ...\n",
      "\n",
      " [[0.02212638]\n",
      "  [0.02187637]\n",
      "  [0.02200138]\n",
      "  ...\n",
      "  [0.02650166]\n",
      "  [0.01937621]\n",
      "  [0.01931371]]\n",
      "\n",
      " [[0.0288143 ]\n",
      "  [0.02212638]\n",
      "  [0.02187637]\n",
      "  ...\n",
      "  [0.02475155]\n",
      "  [0.02650166]\n",
      "  [0.01937621]]\n",
      "\n",
      " [[0.02893931]\n",
      "  [0.0288143 ]\n",
      "  [0.02212638]\n",
      "  ...\n",
      "  [0.02918932]\n",
      "  [0.02475155]\n",
      "  [0.02650166]]]\n",
      "[[0.00043753]\n",
      " [0.00275017]\n",
      " [0.00187512]\n",
      " ...\n",
      " [0.0288143 ]\n",
      " [0.02893931]\n",
      " [0.02612663]]\n"
     ]
    }
   ],
   "source": [
    "X_train_t = X_train.reshape(X_train.shape[0], 12, 1)\n",
    "X_test_t = X_test.reshape(X_test.shape[0], 12, 1)\n",
    "\n",
    "print(\"최종 DATA\")\n",
    "print(X_train_t.shape)\n",
    "print(X_train_t)\n",
    "print(y_train)"
   ]
  },
  {
   "cell_type": "code",
   "execution_count": 60,
   "id": "cb91e6db-f4c9-4dc9-a14f-06722c126bc5",
   "metadata": {
    "execution": {
     "iopub.execute_input": "2022-01-03T04:34:59.864086Z",
     "iopub.status.busy": "2022-01-03T04:34:59.863610Z",
     "iopub.status.idle": "2022-01-03T04:35:00.308670Z",
     "shell.execute_reply": "2022-01-03T04:35:00.307993Z",
     "shell.execute_reply.started": "2022-01-03T04:34:59.864030Z"
    },
    "tags": []
   },
   "outputs": [
    {
     "name": "stdout",
     "output_type": "stream",
     "text": [
      "Model: \"sequential\"\n",
      "_________________________________________________________________\n",
      "Layer (type)                 Output Shape              Param #   \n",
      "=================================================================\n",
      "lstm (LSTM)                  (None, 20)                1760      \n",
      "_________________________________________________________________\n",
      "dense (Dense)                (None, 1)                 21        \n",
      "=================================================================\n",
      "Total params: 1,781\n",
      "Trainable params: 1,781\n",
      "Non-trainable params: 0\n",
      "_________________________________________________________________\n"
     ]
    }
   ],
   "source": [
    "from keras.layers import LSTM \n",
    "from keras.models import Sequential \n",
    "from keras.layers import Dense \n",
    "import keras.backend as K \n",
    "from keras.callbacks import EarlyStopping \n",
    "\n",
    "K.clear_session() \n",
    "model = Sequential() # Sequeatial Model\n",
    "model.add(LSTM(20, input_shape=(12, 1))) # (timestep, feature) \n",
    "model.add(Dense(1)) # output = 1 \n",
    "model.compile(loss='mean_squared_error', optimizer='adam') \n",
    "\n",
    "model.summary()"
   ]
  },
  {
   "cell_type": "code",
   "execution_count": 68,
   "id": "aa11c6a2-fc31-4799-87bc-b5fb5a63dfc3",
   "metadata": {
    "execution": {
     "iopub.execute_input": "2022-01-03T05:45:16.633549Z",
     "iopub.status.busy": "2022-01-03T05:45:16.632986Z",
     "iopub.status.idle": "2022-01-03T06:11:24.148506Z",
     "shell.execute_reply": "2022-01-03T06:11:24.146693Z",
     "shell.execute_reply.started": "2022-01-03T05:45:16.633487Z"
    },
    "tags": []
   },
   "outputs": [
    {
     "name": "stdout",
     "output_type": "stream",
     "text": [
      "Epoch 1/100\n",
      "65235/65235 [==============================] - 515s 8ms/step - loss: 5.0002e-05\n",
      "Epoch 2/100\n",
      "65235/65235 [==============================] - 528s 8ms/step - loss: 4.9509e-05\n",
      "Epoch 3/100\n",
      "65235/65235 [==============================] - 524s 8ms/step - loss: 4.9539e-05\n",
      "Epoch 00003: early stopping\n"
     ]
    },
    {
     "data": {
      "text/plain": [
       "<tensorflow.python.keras.callbacks.History at 0x7fd6da4bb1d0>"
      ]
     },
     "execution_count": 68,
     "metadata": {},
     "output_type": "execute_result"
    }
   ],
   "source": [
    "early_stop = EarlyStopping(monitor='loss', patience=1, verbose=1)\n",
    "\n",
    "model.fit(X_train_t, y_train, epochs=100,\n",
    "          batch_size=30, verbose=1, callbacks=[early_stop])"
   ]
  },
  {
   "cell_type": "code",
   "execution_count": 62,
   "id": "d9b16051-017c-47a7-9dd0-2c335db9b097",
   "metadata": {
    "execution": {
     "iopub.execute_input": "2022-01-03T05:35:57.148719Z",
     "iopub.status.busy": "2022-01-03T05:35:57.148074Z",
     "iopub.status.idle": "2022-01-03T05:35:57.158995Z",
     "shell.execute_reply": "2022-01-03T05:35:57.158292Z",
     "shell.execute_reply.started": "2022-01-03T05:35:57.148636Z"
    },
    "tags": []
   },
   "outputs": [
    {
     "name": "stdout",
     "output_type": "stream",
     "text": [
      "[[[0.02750172]\n",
      "  [0.02793925]\n",
      "  [0.02631414]\n",
      "  ...\n",
      "  [0.01931371]\n",
      "  [0.01931371]\n",
      "  [0.02612663]]\n",
      "\n",
      " [[0.02806425]\n",
      "  [0.02750172]\n",
      "  [0.02793925]\n",
      "  ...\n",
      "  [0.02350147]\n",
      "  [0.01931371]\n",
      "  [0.01931371]]\n",
      "\n",
      " [[0.02487655]\n",
      "  [0.02806425]\n",
      "  [0.02750172]\n",
      "  ...\n",
      "  [0.0240015 ]\n",
      "  [0.02350147]\n",
      "  [0.01931371]]\n",
      "\n",
      " ...\n",
      "\n",
      " [[0.29514345]\n",
      "  [0.29289331]\n",
      "  [0.27639227]\n",
      "  ...\n",
      "  [0.28189262]\n",
      "  [0.28176761]\n",
      "  [0.28195512]]\n",
      "\n",
      " [[0.2928308 ]\n",
      "  [0.29514345]\n",
      "  [0.29289331]\n",
      "  ...\n",
      "  [0.29464342]\n",
      "  [0.28189262]\n",
      "  [0.28176761]]\n",
      "\n",
      " [[0.28601788]\n",
      "  [0.2928308 ]\n",
      "  [0.29514345]\n",
      "  ...\n",
      "  [0.2928308 ]\n",
      "  [0.29464342]\n",
      "  [0.28189262]]]\n"
     ]
    }
   ],
   "source": [
    "print(X_test_t)"
   ]
  },
  {
   "cell_type": "code",
   "execution_count": 63,
   "id": "6dc8fdb9-849b-4c1d-9138-8c1041bf348b",
   "metadata": {
    "execution": {
     "iopub.execute_input": "2022-01-03T05:36:00.237948Z",
     "iopub.status.busy": "2022-01-03T05:36:00.237428Z",
     "iopub.status.idle": "2022-01-03T05:36:34.357955Z",
     "shell.execute_reply": "2022-01-03T05:36:34.357058Z",
     "shell.execute_reply.started": "2022-01-03T05:36:00.237890Z"
    },
    "tags": []
   },
   "outputs": [
    {
     "name": "stdout",
     "output_type": "stream",
     "text": [
      "[[0.0277629 ]\n",
      " [0.02827997]\n",
      " [0.02662321]\n",
      " ...\n",
      " [0.29226702]\n",
      " [0.2917147 ]\n",
      " [0.28671592]]\n"
     ]
    }
   ],
   "source": [
    "y_pred = model.predict(X_test_t)\n",
    "print(y_pred)"
   ]
  },
  {
   "cell_type": "code",
   "execution_count": 69,
   "id": "40b3d643-0b97-479b-85de-2a3100b32663",
   "metadata": {
    "execution": {
     "iopub.execute_input": "2022-01-03T06:11:24.151096Z",
     "iopub.status.busy": "2022-01-03T06:11:24.150797Z",
     "iopub.status.idle": "2022-01-03T06:11:24.787216Z",
     "shell.execute_reply": "2022-01-03T06:11:24.786402Z",
     "shell.execute_reply.started": "2022-01-03T06:11:24.151056Z"
    },
    "tags": []
   },
   "outputs": [
    {
     "ename": "AttributeError",
     "evalue": "'numpy.ndarray' object has no attribute 'plot'",
     "output_type": "error",
     "traceback": [
      "\u001b[0;31m---------------------------------------------------------------------------\u001b[0m",
      "\u001b[0;31mAttributeError\u001b[0m                            Traceback (most recent call last)",
      "\u001b[0;32m<ipython-input-69-a20d7013f1a9>\u001b[0m in \u001b[0;36m<module>\u001b[0;34m\u001b[0m\n\u001b[1;32m      1\u001b[0m \u001b[0max\u001b[0m \u001b[0;34m=\u001b[0m \u001b[0mp1_test\u001b[0m\u001b[0;34m.\u001b[0m\u001b[0mplot\u001b[0m\u001b[0;34m(\u001b[0m\u001b[0;34m)\u001b[0m\u001b[0;34m\u001b[0m\u001b[0;34m\u001b[0m\u001b[0m\n\u001b[0;32m----> 2\u001b[0;31m \u001b[0my_pred\u001b[0m\u001b[0;34m.\u001b[0m\u001b[0mplot\u001b[0m\u001b[0;34m(\u001b[0m\u001b[0max\u001b[0m\u001b[0;34m=\u001b[0m\u001b[0max\u001b[0m\u001b[0;34m)\u001b[0m\u001b[0;34m\u001b[0m\u001b[0;34m\u001b[0m\u001b[0m\n\u001b[0m\u001b[1;32m      3\u001b[0m \u001b[0mplt\u001b[0m\u001b[0;34m.\u001b[0m\u001b[0mlegend\u001b[0m\u001b[0;34m(\u001b[0m\u001b[0;34m[\u001b[0m\u001b[0;34m'p1_test'\u001b[0m\u001b[0;34m,\u001b[0m \u001b[0;34m'y_pred'\u001b[0m\u001b[0;34m]\u001b[0m\u001b[0;34m)\u001b[0m\u001b[0;34m\u001b[0m\u001b[0;34m\u001b[0m\u001b[0m\n",
      "\u001b[0;31mAttributeError\u001b[0m: 'numpy.ndarray' object has no attribute 'plot'"
     ]
    },
    {
     "name": "stderr",
     "output_type": "stream",
     "text": [
      "/home/kwater/anaconda3/envs/gpu3/lib/python3.7/site-packages/matplotlib/backends/backend_agg.py:240: RuntimeWarning: Glyph 44050 missing from current font.\n",
      "  font.set_text(s, 0.0, flags=flags)\n",
      "/home/kwater/anaconda3/envs/gpu3/lib/python3.7/site-packages/matplotlib/backends/backend_agg.py:203: RuntimeWarning: Glyph 44050 missing from current font.\n",
      "  font.set_text(s, 0, flags=flags)\n"
     ]
    },
    {
     "data": {
      "image/png": "[encoded data removed]",
      "text/plain": [
       "<Figure size 432x288 with 1 Axes>"
      ]
     },
     "metadata": {
      "needs_background": "light"
     },
     "output_type": "display_data"
    }
   ],
   "source": [
    "ax = p1_test.plot()\n",
    "y_pred.plot(ax=ax)\n",
    "plt.legend(['p1_test', 'y_pred'])"
   ]
  }
 ],
 "metadata": {
  "kernelspec": {
   "display_name": "Python 3",
   "language": "python",
   "name": "python3"
  },
  "language_info": {
   "codemirror_mode": {
    "name": "ipython",
    "version": 3
   },
   "file_extension": ".py",
   "mimetype": "text/x-python",
   "name": "python",
   "nbconvert_exporter": "python",
   "pygments_lexer": "ipython3",
   "version": "3.7.10"
  }
 },
 "nbformat": 4,
 "nbformat_minor": 5
}
